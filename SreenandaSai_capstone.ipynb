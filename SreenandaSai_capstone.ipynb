{
 "cells": [
  {
   "cell_type": "markdown",
   "metadata": {},
   "source": [
    "# Importing packages"
   ]
  },
  {
   "cell_type": "code",
   "execution_count": 1,
   "metadata": {},
   "outputs": [
    {
     "name": "stderr",
     "output_type": "stream",
     "text": [
      "C:\\Users\\mybes\\anaconda3\\lib\\site-packages\\scipy\\__init__.py:146: UserWarning: A NumPy version >=1.16.5 and <1.23.0 is required for this version of SciPy (detected version 1.23.3\n",
      "  warnings.warn(f\"A NumPy version >={np_minversion} and <{np_maxversion}\"\n",
      "C:\\Users\\mybes\\anaconda3\\lib\\site-packages\\statsmodels\\tsa\\base\\tsa_model.py:7: FutureWarning: pandas.Int64Index is deprecated and will be removed from pandas in a future version. Use pandas.Index with the appropriate dtype instead.\n",
      "  from pandas import (to_datetime, Int64Index, DatetimeIndex, Period,\n",
      "C:\\Users\\mybes\\anaconda3\\lib\\site-packages\\statsmodels\\tsa\\base\\tsa_model.py:7: FutureWarning: pandas.Float64Index is deprecated and will be removed from pandas in a future version. Use pandas.Index with the appropriate dtype instead.\n",
      "  from pandas import (to_datetime, Int64Index, DatetimeIndex, Period,\n"
     ]
    }
   ],
   "source": [
    "%matplotlib inline\n",
    "\n",
    "import math\n",
    "import numpy as np \n",
    "from scipy import stats\n",
    "import pandas as pd                        # standard neccessary packages\n",
    "import statsmodels.api as sm\n",
    "import matplotlib.pyplot as plt\n",
    "import seaborn as sns\n",
    "\n",
    "from sklearn.preprocessing import StandardScaler\n",
    "\n",
    "import warnings                                         # To disable warnings\n",
    "warnings.simplefilter('ignore')\n",
    "\n",
    "pd.options.display.float_format = '{:,.5f}'.format\n",
    "\n",
    "from sklearn.metrics import mean_squared_error\n",
    "from statsmodels.tsa.stattools import adfuller \n",
    "from sklearn.metrics import mean_squared_error                       # metric for time series analysis\n",
    "from statsmodels.tsa.vector_ar.vecm import coint_johansen            #Johansen Cointegration test\n",
    "\n",
    "from statsmodels.tsa.arima_model import ARIMA\n",
    "from statsmodels.tsa.statespace.sarimax import SARIMAX"
   ]
  },
  {
   "cell_type": "markdown",
   "metadata": {},
   "source": [
    "## Data loading and Data Understanding:"
   ]
  },
  {
   "cell_type": "code",
   "execution_count": 2,
   "metadata": {
    "scrolled": true
   },
   "outputs": [],
   "source": [
    "df=pd.read_csv('train.csv')      # loading the  dataset"
   ]
  },
  {
   "cell_type": "code",
   "execution_count": 3,
   "metadata": {
    "scrolled": true
   },
   "outputs": [
    {
     "data": {
      "text/html": [
       "<div>\n",
       "<style scoped>\n",
       "    .dataframe tbody tr th:only-of-type {\n",
       "        vertical-align: middle;\n",
       "    }\n",
       "\n",
       "    .dataframe tbody tr th {\n",
       "        vertical-align: top;\n",
       "    }\n",
       "\n",
       "    .dataframe thead th {\n",
       "        text-align: right;\n",
       "    }\n",
       "</style>\n",
       "<table border=\"1\" class=\"dataframe\">\n",
       "  <thead>\n",
       "    <tr style=\"text-align: right;\">\n",
       "      <th></th>\n",
       "      <th>Store</th>\n",
       "      <th>DayOfWeek</th>\n",
       "      <th>Date</th>\n",
       "      <th>Sales</th>\n",
       "      <th>Customers</th>\n",
       "      <th>Open</th>\n",
       "      <th>Promo</th>\n",
       "      <th>StateHoliday</th>\n",
       "      <th>SchoolHoliday</th>\n",
       "    </tr>\n",
       "  </thead>\n",
       "  <tbody>\n",
       "    <tr>\n",
       "      <th>0</th>\n",
       "      <td>1</td>\n",
       "      <td>5</td>\n",
       "      <td>2015-07-31</td>\n",
       "      <td>5263</td>\n",
       "      <td>555</td>\n",
       "      <td>1</td>\n",
       "      <td>1</td>\n",
       "      <td>0</td>\n",
       "      <td>1</td>\n",
       "    </tr>\n",
       "    <tr>\n",
       "      <th>1</th>\n",
       "      <td>2</td>\n",
       "      <td>5</td>\n",
       "      <td>2015-07-31</td>\n",
       "      <td>6064</td>\n",
       "      <td>625</td>\n",
       "      <td>1</td>\n",
       "      <td>1</td>\n",
       "      <td>0</td>\n",
       "      <td>1</td>\n",
       "    </tr>\n",
       "    <tr>\n",
       "      <th>2</th>\n",
       "      <td>3</td>\n",
       "      <td>5</td>\n",
       "      <td>2015-07-31</td>\n",
       "      <td>8314</td>\n",
       "      <td>821</td>\n",
       "      <td>1</td>\n",
       "      <td>1</td>\n",
       "      <td>0</td>\n",
       "      <td>1</td>\n",
       "    </tr>\n",
       "    <tr>\n",
       "      <th>3</th>\n",
       "      <td>4</td>\n",
       "      <td>5</td>\n",
       "      <td>2015-07-31</td>\n",
       "      <td>13995</td>\n",
       "      <td>1498</td>\n",
       "      <td>1</td>\n",
       "      <td>1</td>\n",
       "      <td>0</td>\n",
       "      <td>1</td>\n",
       "    </tr>\n",
       "    <tr>\n",
       "      <th>4</th>\n",
       "      <td>5</td>\n",
       "      <td>5</td>\n",
       "      <td>2015-07-31</td>\n",
       "      <td>4822</td>\n",
       "      <td>559</td>\n",
       "      <td>1</td>\n",
       "      <td>1</td>\n",
       "      <td>0</td>\n",
       "      <td>1</td>\n",
       "    </tr>\n",
       "  </tbody>\n",
       "</table>\n",
       "</div>"
      ],
      "text/plain": [
       "   Store  DayOfWeek        Date  Sales  Customers  Open  Promo StateHoliday  \\\n",
       "0      1          5  2015-07-31   5263        555     1      1            0   \n",
       "1      2          5  2015-07-31   6064        625     1      1            0   \n",
       "2      3          5  2015-07-31   8314        821     1      1            0   \n",
       "3      4          5  2015-07-31  13995       1498     1      1            0   \n",
       "4      5          5  2015-07-31   4822        559     1      1            0   \n",
       "\n",
       "   SchoolHoliday  \n",
       "0              1  \n",
       "1              1  \n",
       "2              1  \n",
       "3              1  \n",
       "4              1  "
      ]
     },
     "execution_count": 3,
     "metadata": {},
     "output_type": "execute_result"
    }
   ],
   "source": [
    "df.head()                        # First five rows of the dataset"
   ]
  },
  {
   "cell_type": "code",
   "execution_count": 4,
   "metadata": {},
   "outputs": [],
   "source": [
    "store=pd.read_csv('store.csv')            # loading the store dataset"
   ]
  },
  {
   "cell_type": "code",
   "execution_count": 5,
   "metadata": {},
   "outputs": [
    {
     "data": {
      "text/html": [
       "<div>\n",
       "<style scoped>\n",
       "    .dataframe tbody tr th:only-of-type {\n",
       "        vertical-align: middle;\n",
       "    }\n",
       "\n",
       "    .dataframe tbody tr th {\n",
       "        vertical-align: top;\n",
       "    }\n",
       "\n",
       "    .dataframe thead th {\n",
       "        text-align: right;\n",
       "    }\n",
       "</style>\n",
       "<table border=\"1\" class=\"dataframe\">\n",
       "  <thead>\n",
       "    <tr style=\"text-align: right;\">\n",
       "      <th></th>\n",
       "      <th>Store</th>\n",
       "      <th>StoreType</th>\n",
       "      <th>Assortment</th>\n",
       "      <th>CompetitionDistance</th>\n",
       "      <th>CompetitionOpenSinceMonth</th>\n",
       "      <th>CompetitionOpenSinceYear</th>\n",
       "      <th>Promo2</th>\n",
       "      <th>Promo2SinceWeek</th>\n",
       "      <th>Promo2SinceYear</th>\n",
       "      <th>PromoInterval</th>\n",
       "    </tr>\n",
       "  </thead>\n",
       "  <tbody>\n",
       "    <tr>\n",
       "      <th>0</th>\n",
       "      <td>1</td>\n",
       "      <td>c</td>\n",
       "      <td>a</td>\n",
       "      <td>1,270.00000</td>\n",
       "      <td>9.00000</td>\n",
       "      <td>2,008.00000</td>\n",
       "      <td>0</td>\n",
       "      <td>NaN</td>\n",
       "      <td>NaN</td>\n",
       "      <td>NaN</td>\n",
       "    </tr>\n",
       "    <tr>\n",
       "      <th>1</th>\n",
       "      <td>2</td>\n",
       "      <td>a</td>\n",
       "      <td>a</td>\n",
       "      <td>570.00000</td>\n",
       "      <td>11.00000</td>\n",
       "      <td>2,007.00000</td>\n",
       "      <td>1</td>\n",
       "      <td>13.00000</td>\n",
       "      <td>2,010.00000</td>\n",
       "      <td>Jan,Apr,Jul,Oct</td>\n",
       "    </tr>\n",
       "    <tr>\n",
       "      <th>2</th>\n",
       "      <td>3</td>\n",
       "      <td>a</td>\n",
       "      <td>a</td>\n",
       "      <td>14,130.00000</td>\n",
       "      <td>12.00000</td>\n",
       "      <td>2,006.00000</td>\n",
       "      <td>1</td>\n",
       "      <td>14.00000</td>\n",
       "      <td>2,011.00000</td>\n",
       "      <td>Jan,Apr,Jul,Oct</td>\n",
       "    </tr>\n",
       "    <tr>\n",
       "      <th>3</th>\n",
       "      <td>4</td>\n",
       "      <td>c</td>\n",
       "      <td>c</td>\n",
       "      <td>620.00000</td>\n",
       "      <td>9.00000</td>\n",
       "      <td>2,009.00000</td>\n",
       "      <td>0</td>\n",
       "      <td>NaN</td>\n",
       "      <td>NaN</td>\n",
       "      <td>NaN</td>\n",
       "    </tr>\n",
       "    <tr>\n",
       "      <th>4</th>\n",
       "      <td>5</td>\n",
       "      <td>a</td>\n",
       "      <td>a</td>\n",
       "      <td>29,910.00000</td>\n",
       "      <td>4.00000</td>\n",
       "      <td>2,015.00000</td>\n",
       "      <td>0</td>\n",
       "      <td>NaN</td>\n",
       "      <td>NaN</td>\n",
       "      <td>NaN</td>\n",
       "    </tr>\n",
       "  </tbody>\n",
       "</table>\n",
       "</div>"
      ],
      "text/plain": [
       "   Store StoreType Assortment  CompetitionDistance  CompetitionOpenSinceMonth  \\\n",
       "0      1         c          a          1,270.00000                    9.00000   \n",
       "1      2         a          a            570.00000                   11.00000   \n",
       "2      3         a          a         14,130.00000                   12.00000   \n",
       "3      4         c          c            620.00000                    9.00000   \n",
       "4      5         a          a         29,910.00000                    4.00000   \n",
       "\n",
       "   CompetitionOpenSinceYear  Promo2  Promo2SinceWeek  Promo2SinceYear  \\\n",
       "0               2,008.00000       0              NaN              NaN   \n",
       "1               2,007.00000       1         13.00000      2,010.00000   \n",
       "2               2,006.00000       1         14.00000      2,011.00000   \n",
       "3               2,009.00000       0              NaN              NaN   \n",
       "4               2,015.00000       0              NaN              NaN   \n",
       "\n",
       "     PromoInterval  \n",
       "0              NaN  \n",
       "1  Jan,Apr,Jul,Oct  \n",
       "2  Jan,Apr,Jul,Oct  \n",
       "3              NaN  \n",
       "4              NaN  "
      ]
     },
     "execution_count": 5,
     "metadata": {},
     "output_type": "execute_result"
    }
   ],
   "source": [
    "store.head()                      # First five rows of the dataset"
   ]
  },
  {
   "cell_type": "code",
   "execution_count": 6,
   "metadata": {},
   "outputs": [
    {
     "name": "stdout",
     "output_type": "stream",
     "text": [
      "(1017209, 9)\n",
      "(1115, 10)\n"
     ]
    }
   ],
   "source": [
    "print(df.shape)\n",
    "print(store.shape)          # Checking the shapes of datasets"
   ]
  },
  {
   "cell_type": "code",
   "execution_count": 7,
   "metadata": {},
   "outputs": [
    {
     "name": "stdout",
     "output_type": "stream",
     "text": [
      "<class 'pandas.core.frame.DataFrame'>\n",
      "RangeIndex: 1017209 entries, 0 to 1017208\n",
      "Data columns (total 9 columns):\n",
      " #   Column         Non-Null Count    Dtype \n",
      "---  ------         --------------    ----- \n",
      " 0   Store          1017209 non-null  int64 \n",
      " 1   DayOfWeek      1017209 non-null  int64 \n",
      " 2   Date           1017209 non-null  object\n",
      " 3   Sales          1017209 non-null  int64 \n",
      " 4   Customers      1017209 non-null  int64 \n",
      " 5   Open           1017209 non-null  int64 \n",
      " 6   Promo          1017209 non-null  int64 \n",
      " 7   StateHoliday   1017209 non-null  object\n",
      " 8   SchoolHoliday  1017209 non-null  int64 \n",
      "dtypes: int64(7), object(2)\n",
      "memory usage: 69.8+ MB\n"
     ]
    }
   ],
   "source": [
    "df.info()                  # viewing the column information (non null count,dtype) of df dataset"
   ]
  },
  {
   "cell_type": "code",
   "execution_count": 8,
   "metadata": {},
   "outputs": [
    {
     "name": "stdout",
     "output_type": "stream",
     "text": [
      "<class 'pandas.core.frame.DataFrame'>\n",
      "RangeIndex: 1115 entries, 0 to 1114\n",
      "Data columns (total 10 columns):\n",
      " #   Column                     Non-Null Count  Dtype  \n",
      "---  ------                     --------------  -----  \n",
      " 0   Store                      1115 non-null   int64  \n",
      " 1   StoreType                  1115 non-null   object \n",
      " 2   Assortment                 1115 non-null   object \n",
      " 3   CompetitionDistance        1112 non-null   float64\n",
      " 4   CompetitionOpenSinceMonth  761 non-null    float64\n",
      " 5   CompetitionOpenSinceYear   761 non-null    float64\n",
      " 6   Promo2                     1115 non-null   int64  \n",
      " 7   Promo2SinceWeek            571 non-null    float64\n",
      " 8   Promo2SinceYear            571 non-null    float64\n",
      " 9   PromoInterval              571 non-null    object \n",
      "dtypes: float64(5), int64(2), object(3)\n",
      "memory usage: 87.2+ KB\n"
     ]
    }
   ],
   "source": [
    "store.info()              # viewing the column information (non null count,dtype) of store dataset"
   ]
  },
  {
   "cell_type": "code",
   "execution_count": 9,
   "metadata": {},
   "outputs": [
    {
     "data": {
      "text/html": [
       "<div>\n",
       "<style scoped>\n",
       "    .dataframe tbody tr th:only-of-type {\n",
       "        vertical-align: middle;\n",
       "    }\n",
       "\n",
       "    .dataframe tbody tr th {\n",
       "        vertical-align: top;\n",
       "    }\n",
       "\n",
       "    .dataframe thead th {\n",
       "        text-align: right;\n",
       "    }\n",
       "</style>\n",
       "<table border=\"1\" class=\"dataframe\">\n",
       "  <thead>\n",
       "    <tr style=\"text-align: right;\">\n",
       "      <th></th>\n",
       "      <th>Store</th>\n",
       "      <th>DayOfWeek</th>\n",
       "      <th>Sales</th>\n",
       "      <th>Customers</th>\n",
       "      <th>Open</th>\n",
       "      <th>Promo</th>\n",
       "      <th>SchoolHoliday</th>\n",
       "    </tr>\n",
       "  </thead>\n",
       "  <tbody>\n",
       "    <tr>\n",
       "      <th>count</th>\n",
       "      <td>1,017,209.00000</td>\n",
       "      <td>1,017,209.00000</td>\n",
       "      <td>1,017,209.00000</td>\n",
       "      <td>1,017,209.00000</td>\n",
       "      <td>1,017,209.00000</td>\n",
       "      <td>1,017,209.00000</td>\n",
       "      <td>1,017,209.00000</td>\n",
       "    </tr>\n",
       "    <tr>\n",
       "      <th>mean</th>\n",
       "      <td>558.42973</td>\n",
       "      <td>3.99834</td>\n",
       "      <td>5,773.81897</td>\n",
       "      <td>633.14595</td>\n",
       "      <td>0.83011</td>\n",
       "      <td>0.38151</td>\n",
       "      <td>0.17865</td>\n",
       "    </tr>\n",
       "    <tr>\n",
       "      <th>std</th>\n",
       "      <td>321.90865</td>\n",
       "      <td>1.99739</td>\n",
       "      <td>3,849.92618</td>\n",
       "      <td>464.41173</td>\n",
       "      <td>0.37554</td>\n",
       "      <td>0.48576</td>\n",
       "      <td>0.38306</td>\n",
       "    </tr>\n",
       "    <tr>\n",
       "      <th>min</th>\n",
       "      <td>1.00000</td>\n",
       "      <td>1.00000</td>\n",
       "      <td>0.00000</td>\n",
       "      <td>0.00000</td>\n",
       "      <td>0.00000</td>\n",
       "      <td>0.00000</td>\n",
       "      <td>0.00000</td>\n",
       "    </tr>\n",
       "    <tr>\n",
       "      <th>25%</th>\n",
       "      <td>280.00000</td>\n",
       "      <td>2.00000</td>\n",
       "      <td>3,727.00000</td>\n",
       "      <td>405.00000</td>\n",
       "      <td>1.00000</td>\n",
       "      <td>0.00000</td>\n",
       "      <td>0.00000</td>\n",
       "    </tr>\n",
       "    <tr>\n",
       "      <th>50%</th>\n",
       "      <td>558.00000</td>\n",
       "      <td>4.00000</td>\n",
       "      <td>5,744.00000</td>\n",
       "      <td>609.00000</td>\n",
       "      <td>1.00000</td>\n",
       "      <td>0.00000</td>\n",
       "      <td>0.00000</td>\n",
       "    </tr>\n",
       "    <tr>\n",
       "      <th>75%</th>\n",
       "      <td>838.00000</td>\n",
       "      <td>6.00000</td>\n",
       "      <td>7,856.00000</td>\n",
       "      <td>837.00000</td>\n",
       "      <td>1.00000</td>\n",
       "      <td>1.00000</td>\n",
       "      <td>0.00000</td>\n",
       "    </tr>\n",
       "    <tr>\n",
       "      <th>max</th>\n",
       "      <td>1,115.00000</td>\n",
       "      <td>7.00000</td>\n",
       "      <td>41,551.00000</td>\n",
       "      <td>7,388.00000</td>\n",
       "      <td>1.00000</td>\n",
       "      <td>1.00000</td>\n",
       "      <td>1.00000</td>\n",
       "    </tr>\n",
       "  </tbody>\n",
       "</table>\n",
       "</div>"
      ],
      "text/plain": [
       "                Store       DayOfWeek           Sales       Customers  \\\n",
       "count 1,017,209.00000 1,017,209.00000 1,017,209.00000 1,017,209.00000   \n",
       "mean        558.42973         3.99834     5,773.81897       633.14595   \n",
       "std         321.90865         1.99739     3,849.92618       464.41173   \n",
       "min           1.00000         1.00000         0.00000         0.00000   \n",
       "25%         280.00000         2.00000     3,727.00000       405.00000   \n",
       "50%         558.00000         4.00000     5,744.00000       609.00000   \n",
       "75%         838.00000         6.00000     7,856.00000       837.00000   \n",
       "max       1,115.00000         7.00000    41,551.00000     7,388.00000   \n",
       "\n",
       "                 Open           Promo   SchoolHoliday  \n",
       "count 1,017,209.00000 1,017,209.00000 1,017,209.00000  \n",
       "mean          0.83011         0.38151         0.17865  \n",
       "std           0.37554         0.48576         0.38306  \n",
       "min           0.00000         0.00000         0.00000  \n",
       "25%           1.00000         0.00000         0.00000  \n",
       "50%           1.00000         0.00000         0.00000  \n",
       "75%           1.00000         1.00000         0.00000  \n",
       "max           1.00000         1.00000         1.00000  "
      ]
     },
     "execution_count": 9,
     "metadata": {},
     "output_type": "execute_result"
    }
   ],
   "source": [
    "df.describe()   # statistical information of all numerical columns of df."
   ]
  },
  {
   "cell_type": "code",
   "execution_count": 10,
   "metadata": {
    "scrolled": true
   },
   "outputs": [
    {
     "data": {
      "text/html": [
       "<div>\n",
       "<style scoped>\n",
       "    .dataframe tbody tr th:only-of-type {\n",
       "        vertical-align: middle;\n",
       "    }\n",
       "\n",
       "    .dataframe tbody tr th {\n",
       "        vertical-align: top;\n",
       "    }\n",
       "\n",
       "    .dataframe thead th {\n",
       "        text-align: right;\n",
       "    }\n",
       "</style>\n",
       "<table border=\"1\" class=\"dataframe\">\n",
       "  <thead>\n",
       "    <tr style=\"text-align: right;\">\n",
       "      <th></th>\n",
       "      <th>Store</th>\n",
       "      <th>CompetitionDistance</th>\n",
       "      <th>CompetitionOpenSinceMonth</th>\n",
       "      <th>CompetitionOpenSinceYear</th>\n",
       "      <th>Promo2</th>\n",
       "      <th>Promo2SinceWeek</th>\n",
       "      <th>Promo2SinceYear</th>\n",
       "    </tr>\n",
       "  </thead>\n",
       "  <tbody>\n",
       "    <tr>\n",
       "      <th>count</th>\n",
       "      <td>1,115.00000</td>\n",
       "      <td>1,112.00000</td>\n",
       "      <td>761.00000</td>\n",
       "      <td>761.00000</td>\n",
       "      <td>1,115.00000</td>\n",
       "      <td>571.00000</td>\n",
       "      <td>571.00000</td>\n",
       "    </tr>\n",
       "    <tr>\n",
       "      <th>mean</th>\n",
       "      <td>558.00000</td>\n",
       "      <td>5,404.90108</td>\n",
       "      <td>7.22470</td>\n",
       "      <td>2,008.66886</td>\n",
       "      <td>0.51211</td>\n",
       "      <td>23.59545</td>\n",
       "      <td>2,011.76357</td>\n",
       "    </tr>\n",
       "    <tr>\n",
       "      <th>std</th>\n",
       "      <td>322.01708</td>\n",
       "      <td>7,663.17472</td>\n",
       "      <td>3.21235</td>\n",
       "      <td>6.19598</td>\n",
       "      <td>0.50008</td>\n",
       "      <td>14.14198</td>\n",
       "      <td>1.67494</td>\n",
       "    </tr>\n",
       "    <tr>\n",
       "      <th>min</th>\n",
       "      <td>1.00000</td>\n",
       "      <td>20.00000</td>\n",
       "      <td>1.00000</td>\n",
       "      <td>1,900.00000</td>\n",
       "      <td>0.00000</td>\n",
       "      <td>1.00000</td>\n",
       "      <td>2,009.00000</td>\n",
       "    </tr>\n",
       "    <tr>\n",
       "      <th>25%</th>\n",
       "      <td>279.50000</td>\n",
       "      <td>717.50000</td>\n",
       "      <td>4.00000</td>\n",
       "      <td>2,006.00000</td>\n",
       "      <td>0.00000</td>\n",
       "      <td>13.00000</td>\n",
       "      <td>2,011.00000</td>\n",
       "    </tr>\n",
       "    <tr>\n",
       "      <th>50%</th>\n",
       "      <td>558.00000</td>\n",
       "      <td>2,325.00000</td>\n",
       "      <td>8.00000</td>\n",
       "      <td>2,010.00000</td>\n",
       "      <td>1.00000</td>\n",
       "      <td>22.00000</td>\n",
       "      <td>2,012.00000</td>\n",
       "    </tr>\n",
       "    <tr>\n",
       "      <th>75%</th>\n",
       "      <td>836.50000</td>\n",
       "      <td>6,882.50000</td>\n",
       "      <td>10.00000</td>\n",
       "      <td>2,013.00000</td>\n",
       "      <td>1.00000</td>\n",
       "      <td>37.00000</td>\n",
       "      <td>2,013.00000</td>\n",
       "    </tr>\n",
       "    <tr>\n",
       "      <th>max</th>\n",
       "      <td>1,115.00000</td>\n",
       "      <td>75,860.00000</td>\n",
       "      <td>12.00000</td>\n",
       "      <td>2,015.00000</td>\n",
       "      <td>1.00000</td>\n",
       "      <td>50.00000</td>\n",
       "      <td>2,015.00000</td>\n",
       "    </tr>\n",
       "  </tbody>\n",
       "</table>\n",
       "</div>"
      ],
      "text/plain": [
       "            Store  CompetitionDistance  CompetitionOpenSinceMonth  \\\n",
       "count 1,115.00000          1,112.00000                  761.00000   \n",
       "mean    558.00000          5,404.90108                    7.22470   \n",
       "std     322.01708          7,663.17472                    3.21235   \n",
       "min       1.00000             20.00000                    1.00000   \n",
       "25%     279.50000            717.50000                    4.00000   \n",
       "50%     558.00000          2,325.00000                    8.00000   \n",
       "75%     836.50000          6,882.50000                   10.00000   \n",
       "max   1,115.00000         75,860.00000                   12.00000   \n",
       "\n",
       "       CompetitionOpenSinceYear      Promo2  Promo2SinceWeek  Promo2SinceYear  \n",
       "count                 761.00000 1,115.00000        571.00000        571.00000  \n",
       "mean                2,008.66886     0.51211         23.59545      2,011.76357  \n",
       "std                     6.19598     0.50008         14.14198          1.67494  \n",
       "min                 1,900.00000     0.00000          1.00000      2,009.00000  \n",
       "25%                 2,006.00000     0.00000         13.00000      2,011.00000  \n",
       "50%                 2,010.00000     1.00000         22.00000      2,012.00000  \n",
       "75%                 2,013.00000     1.00000         37.00000      2,013.00000  \n",
       "max                 2,015.00000     1.00000         50.00000      2,015.00000  "
      ]
     },
     "execution_count": 10,
     "metadata": {},
     "output_type": "execute_result"
    }
   ],
   "source": [
    "store.describe()    # statistical information of all numerical columns of store."
   ]
  },
  {
   "cell_type": "code",
   "execution_count": 11,
   "metadata": {},
   "outputs": [],
   "source": [
    "df=pd.merge(df, store, how = 'inner', on = 'Store')     # Merging the both dataframes based on common column(Store)"
   ]
  },
  {
   "cell_type": "code",
   "execution_count": 12,
   "metadata": {
    "scrolled": true
   },
   "outputs": [
    {
     "data": {
      "text/html": [
       "<div>\n",
       "<style scoped>\n",
       "    .dataframe tbody tr th:only-of-type {\n",
       "        vertical-align: middle;\n",
       "    }\n",
       "\n",
       "    .dataframe tbody tr th {\n",
       "        vertical-align: top;\n",
       "    }\n",
       "\n",
       "    .dataframe thead th {\n",
       "        text-align: right;\n",
       "    }\n",
       "</style>\n",
       "<table border=\"1\" class=\"dataframe\">\n",
       "  <thead>\n",
       "    <tr style=\"text-align: right;\">\n",
       "      <th></th>\n",
       "      <th>Store</th>\n",
       "      <th>DayOfWeek</th>\n",
       "      <th>Date</th>\n",
       "      <th>Sales</th>\n",
       "      <th>Customers</th>\n",
       "      <th>Open</th>\n",
       "      <th>Promo</th>\n",
       "      <th>StateHoliday</th>\n",
       "      <th>SchoolHoliday</th>\n",
       "      <th>StoreType</th>\n",
       "      <th>Assortment</th>\n",
       "      <th>CompetitionDistance</th>\n",
       "      <th>CompetitionOpenSinceMonth</th>\n",
       "      <th>CompetitionOpenSinceYear</th>\n",
       "      <th>Promo2</th>\n",
       "      <th>Promo2SinceWeek</th>\n",
       "      <th>Promo2SinceYear</th>\n",
       "      <th>PromoInterval</th>\n",
       "    </tr>\n",
       "  </thead>\n",
       "  <tbody>\n",
       "    <tr>\n",
       "      <th>0</th>\n",
       "      <td>1</td>\n",
       "      <td>5</td>\n",
       "      <td>2015-07-31</td>\n",
       "      <td>5263</td>\n",
       "      <td>555</td>\n",
       "      <td>1</td>\n",
       "      <td>1</td>\n",
       "      <td>0</td>\n",
       "      <td>1</td>\n",
       "      <td>c</td>\n",
       "      <td>a</td>\n",
       "      <td>1,270.00000</td>\n",
       "      <td>9.00000</td>\n",
       "      <td>2,008.00000</td>\n",
       "      <td>0</td>\n",
       "      <td>NaN</td>\n",
       "      <td>NaN</td>\n",
       "      <td>NaN</td>\n",
       "    </tr>\n",
       "    <tr>\n",
       "      <th>1</th>\n",
       "      <td>1</td>\n",
       "      <td>4</td>\n",
       "      <td>2015-07-30</td>\n",
       "      <td>5020</td>\n",
       "      <td>546</td>\n",
       "      <td>1</td>\n",
       "      <td>1</td>\n",
       "      <td>0</td>\n",
       "      <td>1</td>\n",
       "      <td>c</td>\n",
       "      <td>a</td>\n",
       "      <td>1,270.00000</td>\n",
       "      <td>9.00000</td>\n",
       "      <td>2,008.00000</td>\n",
       "      <td>0</td>\n",
       "      <td>NaN</td>\n",
       "      <td>NaN</td>\n",
       "      <td>NaN</td>\n",
       "    </tr>\n",
       "    <tr>\n",
       "      <th>2</th>\n",
       "      <td>1</td>\n",
       "      <td>3</td>\n",
       "      <td>2015-07-29</td>\n",
       "      <td>4782</td>\n",
       "      <td>523</td>\n",
       "      <td>1</td>\n",
       "      <td>1</td>\n",
       "      <td>0</td>\n",
       "      <td>1</td>\n",
       "      <td>c</td>\n",
       "      <td>a</td>\n",
       "      <td>1,270.00000</td>\n",
       "      <td>9.00000</td>\n",
       "      <td>2,008.00000</td>\n",
       "      <td>0</td>\n",
       "      <td>NaN</td>\n",
       "      <td>NaN</td>\n",
       "      <td>NaN</td>\n",
       "    </tr>\n",
       "    <tr>\n",
       "      <th>3</th>\n",
       "      <td>1</td>\n",
       "      <td>2</td>\n",
       "      <td>2015-07-28</td>\n",
       "      <td>5011</td>\n",
       "      <td>560</td>\n",
       "      <td>1</td>\n",
       "      <td>1</td>\n",
       "      <td>0</td>\n",
       "      <td>1</td>\n",
       "      <td>c</td>\n",
       "      <td>a</td>\n",
       "      <td>1,270.00000</td>\n",
       "      <td>9.00000</td>\n",
       "      <td>2,008.00000</td>\n",
       "      <td>0</td>\n",
       "      <td>NaN</td>\n",
       "      <td>NaN</td>\n",
       "      <td>NaN</td>\n",
       "    </tr>\n",
       "    <tr>\n",
       "      <th>4</th>\n",
       "      <td>1</td>\n",
       "      <td>1</td>\n",
       "      <td>2015-07-27</td>\n",
       "      <td>6102</td>\n",
       "      <td>612</td>\n",
       "      <td>1</td>\n",
       "      <td>1</td>\n",
       "      <td>0</td>\n",
       "      <td>1</td>\n",
       "      <td>c</td>\n",
       "      <td>a</td>\n",
       "      <td>1,270.00000</td>\n",
       "      <td>9.00000</td>\n",
       "      <td>2,008.00000</td>\n",
       "      <td>0</td>\n",
       "      <td>NaN</td>\n",
       "      <td>NaN</td>\n",
       "      <td>NaN</td>\n",
       "    </tr>\n",
       "  </tbody>\n",
       "</table>\n",
       "</div>"
      ],
      "text/plain": [
       "   Store  DayOfWeek        Date  Sales  Customers  Open  Promo StateHoliday  \\\n",
       "0      1          5  2015-07-31   5263        555     1      1            0   \n",
       "1      1          4  2015-07-30   5020        546     1      1            0   \n",
       "2      1          3  2015-07-29   4782        523     1      1            0   \n",
       "3      1          2  2015-07-28   5011        560     1      1            0   \n",
       "4      1          1  2015-07-27   6102        612     1      1            0   \n",
       "\n",
       "   SchoolHoliday StoreType Assortment  CompetitionDistance  \\\n",
       "0              1         c          a          1,270.00000   \n",
       "1              1         c          a          1,270.00000   \n",
       "2              1         c          a          1,270.00000   \n",
       "3              1         c          a          1,270.00000   \n",
       "4              1         c          a          1,270.00000   \n",
       "\n",
       "   CompetitionOpenSinceMonth  CompetitionOpenSinceYear  Promo2  \\\n",
       "0                    9.00000               2,008.00000       0   \n",
       "1                    9.00000               2,008.00000       0   \n",
       "2                    9.00000               2,008.00000       0   \n",
       "3                    9.00000               2,008.00000       0   \n",
       "4                    9.00000               2,008.00000       0   \n",
       "\n",
       "   Promo2SinceWeek  Promo2SinceYear PromoInterval  \n",
       "0              NaN              NaN           NaN  \n",
       "1              NaN              NaN           NaN  \n",
       "2              NaN              NaN           NaN  \n",
       "3              NaN              NaN           NaN  \n",
       "4              NaN              NaN           NaN  "
      ]
     },
     "execution_count": 12,
     "metadata": {},
     "output_type": "execute_result"
    }
   ],
   "source": [
    "df.head()       # first five rows of merged dataframe."
   ]
  },
  {
   "cell_type": "code",
   "execution_count": 13,
   "metadata": {},
   "outputs": [],
   "source": [
    "df.sort_values(by='Date',inplace=True)"
   ]
  },
  {
   "cell_type": "code",
   "execution_count": 14,
   "metadata": {},
   "outputs": [
    {
     "data": {
      "text/html": [
       "<div>\n",
       "<style scoped>\n",
       "    .dataframe tbody tr th:only-of-type {\n",
       "        vertical-align: middle;\n",
       "    }\n",
       "\n",
       "    .dataframe tbody tr th {\n",
       "        vertical-align: top;\n",
       "    }\n",
       "\n",
       "    .dataframe thead th {\n",
       "        text-align: right;\n",
       "    }\n",
       "</style>\n",
       "<table border=\"1\" class=\"dataframe\">\n",
       "  <thead>\n",
       "    <tr style=\"text-align: right;\">\n",
       "      <th></th>\n",
       "      <th>Store</th>\n",
       "      <th>DayOfWeek</th>\n",
       "      <th>Date</th>\n",
       "      <th>Sales</th>\n",
       "      <th>Customers</th>\n",
       "      <th>Open</th>\n",
       "      <th>Promo</th>\n",
       "      <th>StateHoliday</th>\n",
       "      <th>SchoolHoliday</th>\n",
       "      <th>StoreType</th>\n",
       "      <th>Assortment</th>\n",
       "      <th>CompetitionDistance</th>\n",
       "      <th>CompetitionOpenSinceMonth</th>\n",
       "      <th>CompetitionOpenSinceYear</th>\n",
       "      <th>Promo2</th>\n",
       "      <th>Promo2SinceWeek</th>\n",
       "      <th>Promo2SinceYear</th>\n",
       "      <th>PromoInterval</th>\n",
       "    </tr>\n",
       "  </thead>\n",
       "  <tbody>\n",
       "    <tr>\n",
       "      <th>1017208</th>\n",
       "      <td>1115</td>\n",
       "      <td>2</td>\n",
       "      <td>2013-01-01</td>\n",
       "      <td>0</td>\n",
       "      <td>0</td>\n",
       "      <td>0</td>\n",
       "      <td>0</td>\n",
       "      <td>a</td>\n",
       "      <td>1</td>\n",
       "      <td>d</td>\n",
       "      <td>c</td>\n",
       "      <td>5,350.00000</td>\n",
       "      <td>NaN</td>\n",
       "      <td>NaN</td>\n",
       "      <td>1</td>\n",
       "      <td>22.00000</td>\n",
       "      <td>2,012.00000</td>\n",
       "      <td>Mar,Jun,Sept,Dec</td>\n",
       "    </tr>\n",
       "    <tr>\n",
       "      <th>679363</th>\n",
       "      <td>746</td>\n",
       "      <td>2</td>\n",
       "      <td>2013-01-01</td>\n",
       "      <td>0</td>\n",
       "      <td>0</td>\n",
       "      <td>0</td>\n",
       "      <td>0</td>\n",
       "      <td>a</td>\n",
       "      <td>1</td>\n",
       "      <td>d</td>\n",
       "      <td>c</td>\n",
       "      <td>4,330.00000</td>\n",
       "      <td>2.00000</td>\n",
       "      <td>2,011.00000</td>\n",
       "      <td>1</td>\n",
       "      <td>35.00000</td>\n",
       "      <td>2,011.00000</td>\n",
       "      <td>Mar,Jun,Sept,Dec</td>\n",
       "    </tr>\n",
       "    <tr>\n",
       "      <th>155193</th>\n",
       "      <td>171</td>\n",
       "      <td>2</td>\n",
       "      <td>2013-01-01</td>\n",
       "      <td>0</td>\n",
       "      <td>0</td>\n",
       "      <td>0</td>\n",
       "      <td>0</td>\n",
       "      <td>a</td>\n",
       "      <td>1</td>\n",
       "      <td>a</td>\n",
       "      <td>a</td>\n",
       "      <td>2,640.00000</td>\n",
       "      <td>NaN</td>\n",
       "      <td>NaN</td>\n",
       "      <td>0</td>\n",
       "      <td>NaN</td>\n",
       "      <td>NaN</td>\n",
       "      <td>NaN</td>\n",
       "    </tr>\n",
       "    <tr>\n",
       "      <th>632403</th>\n",
       "      <td>694</td>\n",
       "      <td>2</td>\n",
       "      <td>2013-01-01</td>\n",
       "      <td>0</td>\n",
       "      <td>0</td>\n",
       "      <td>0</td>\n",
       "      <td>0</td>\n",
       "      <td>a</td>\n",
       "      <td>1</td>\n",
       "      <td>a</td>\n",
       "      <td>c</td>\n",
       "      <td>460.00000</td>\n",
       "      <td>11.00000</td>\n",
       "      <td>2,012.00000</td>\n",
       "      <td>1</td>\n",
       "      <td>40.00000</td>\n",
       "      <td>2,014.00000</td>\n",
       "      <td>Jan,Apr,Jul,Oct</td>\n",
       "    </tr>\n",
       "    <tr>\n",
       "      <th>361623</th>\n",
       "      <td>396</td>\n",
       "      <td>2</td>\n",
       "      <td>2013-01-01</td>\n",
       "      <td>0</td>\n",
       "      <td>0</td>\n",
       "      <td>0</td>\n",
       "      <td>0</td>\n",
       "      <td>a</td>\n",
       "      <td>1</td>\n",
       "      <td>a</td>\n",
       "      <td>c</td>\n",
       "      <td>23,130.00000</td>\n",
       "      <td>NaN</td>\n",
       "      <td>NaN</td>\n",
       "      <td>0</td>\n",
       "      <td>NaN</td>\n",
       "      <td>NaN</td>\n",
       "      <td>NaN</td>\n",
       "    </tr>\n",
       "  </tbody>\n",
       "</table>\n",
       "</div>"
      ],
      "text/plain": [
       "         Store  DayOfWeek        Date  Sales  Customers  Open  Promo  \\\n",
       "1017208   1115          2  2013-01-01      0          0     0      0   \n",
       "679363     746          2  2013-01-01      0          0     0      0   \n",
       "155193     171          2  2013-01-01      0          0     0      0   \n",
       "632403     694          2  2013-01-01      0          0     0      0   \n",
       "361623     396          2  2013-01-01      0          0     0      0   \n",
       "\n",
       "        StateHoliday  SchoolHoliday StoreType Assortment  CompetitionDistance  \\\n",
       "1017208            a              1         d          c          5,350.00000   \n",
       "679363             a              1         d          c          4,330.00000   \n",
       "155193             a              1         a          a          2,640.00000   \n",
       "632403             a              1         a          c            460.00000   \n",
       "361623             a              1         a          c         23,130.00000   \n",
       "\n",
       "         CompetitionOpenSinceMonth  CompetitionOpenSinceYear  Promo2  \\\n",
       "1017208                        NaN                       NaN       1   \n",
       "679363                     2.00000               2,011.00000       1   \n",
       "155193                         NaN                       NaN       0   \n",
       "632403                    11.00000               2,012.00000       1   \n",
       "361623                         NaN                       NaN       0   \n",
       "\n",
       "         Promo2SinceWeek  Promo2SinceYear     PromoInterval  \n",
       "1017208         22.00000      2,012.00000  Mar,Jun,Sept,Dec  \n",
       "679363          35.00000      2,011.00000  Mar,Jun,Sept,Dec  \n",
       "155193               NaN              NaN               NaN  \n",
       "632403          40.00000      2,014.00000   Jan,Apr,Jul,Oct  \n",
       "361623               NaN              NaN               NaN  "
      ]
     },
     "execution_count": 14,
     "metadata": {},
     "output_type": "execute_result"
    }
   ],
   "source": [
    "df.head()"
   ]
  },
  {
   "cell_type": "code",
   "execution_count": 15,
   "metadata": {},
   "outputs": [
    {
     "data": {
      "text/plain": [
       "(1017209, 18)"
      ]
     },
     "execution_count": 15,
     "metadata": {},
     "output_type": "execute_result"
    }
   ],
   "source": [
    "df.shape               # Shape of the merged dataframe"
   ]
  },
  {
   "cell_type": "code",
   "execution_count": 16,
   "metadata": {},
   "outputs": [
    {
     "name": "stdout",
     "output_type": "stream",
     "text": [
      "<class 'pandas.core.frame.DataFrame'>\n",
      "Int64Index: 1017209 entries, 1017208 to 0\n",
      "Data columns (total 18 columns):\n",
      " #   Column                     Non-Null Count    Dtype  \n",
      "---  ------                     --------------    -----  \n",
      " 0   Store                      1017209 non-null  int64  \n",
      " 1   DayOfWeek                  1017209 non-null  int64  \n",
      " 2   Date                       1017209 non-null  object \n",
      " 3   Sales                      1017209 non-null  int64  \n",
      " 4   Customers                  1017209 non-null  int64  \n",
      " 5   Open                       1017209 non-null  int64  \n",
      " 6   Promo                      1017209 non-null  int64  \n",
      " 7   StateHoliday               1017209 non-null  object \n",
      " 8   SchoolHoliday              1017209 non-null  int64  \n",
      " 9   StoreType                  1017209 non-null  object \n",
      " 10  Assortment                 1017209 non-null  object \n",
      " 11  CompetitionDistance        1014567 non-null  float64\n",
      " 12  CompetitionOpenSinceMonth  693861 non-null   float64\n",
      " 13  CompetitionOpenSinceYear   693861 non-null   float64\n",
      " 14  Promo2                     1017209 non-null  int64  \n",
      " 15  Promo2SinceWeek            509178 non-null   float64\n",
      " 16  Promo2SinceYear            509178 non-null   float64\n",
      " 17  PromoInterval              509178 non-null   object \n",
      "dtypes: float64(5), int64(8), object(5)\n",
      "memory usage: 147.5+ MB\n"
     ]
    }
   ],
   "source": [
    "df.info()           # Column info of merged dataframe"
   ]
  },
  {
   "cell_type": "code",
   "execution_count": 17,
   "metadata": {},
   "outputs": [
    {
     "data": {
      "text/html": [
       "<div>\n",
       "<style scoped>\n",
       "    .dataframe tbody tr th:only-of-type {\n",
       "        vertical-align: middle;\n",
       "    }\n",
       "\n",
       "    .dataframe tbody tr th {\n",
       "        vertical-align: top;\n",
       "    }\n",
       "\n",
       "    .dataframe thead th {\n",
       "        text-align: right;\n",
       "    }\n",
       "</style>\n",
       "<table border=\"1\" class=\"dataframe\">\n",
       "  <thead>\n",
       "    <tr style=\"text-align: right;\">\n",
       "      <th></th>\n",
       "      <th>Store</th>\n",
       "      <th>DayOfWeek</th>\n",
       "      <th>Sales</th>\n",
       "      <th>Customers</th>\n",
       "      <th>Open</th>\n",
       "      <th>Promo</th>\n",
       "      <th>SchoolHoliday</th>\n",
       "      <th>CompetitionDistance</th>\n",
       "      <th>CompetitionOpenSinceMonth</th>\n",
       "      <th>CompetitionOpenSinceYear</th>\n",
       "      <th>Promo2</th>\n",
       "      <th>Promo2SinceWeek</th>\n",
       "      <th>Promo2SinceYear</th>\n",
       "    </tr>\n",
       "  </thead>\n",
       "  <tbody>\n",
       "    <tr>\n",
       "      <th>count</th>\n",
       "      <td>1,017,209.00000</td>\n",
       "      <td>1,017,209.00000</td>\n",
       "      <td>1,017,209.00000</td>\n",
       "      <td>1,017,209.00000</td>\n",
       "      <td>1,017,209.00000</td>\n",
       "      <td>1,017,209.00000</td>\n",
       "      <td>1,017,209.00000</td>\n",
       "      <td>1,014,567.00000</td>\n",
       "      <td>693,861.00000</td>\n",
       "      <td>693,861.00000</td>\n",
       "      <td>1,017,209.00000</td>\n",
       "      <td>509,178.00000</td>\n",
       "      <td>509,178.00000</td>\n",
       "    </tr>\n",
       "    <tr>\n",
       "      <th>mean</th>\n",
       "      <td>558.42973</td>\n",
       "      <td>3.99834</td>\n",
       "      <td>5,773.81897</td>\n",
       "      <td>633.14595</td>\n",
       "      <td>0.83011</td>\n",
       "      <td>0.38151</td>\n",
       "      <td>0.17865</td>\n",
       "      <td>5,430.08565</td>\n",
       "      <td>7.22287</td>\n",
       "      <td>2,008.69023</td>\n",
       "      <td>0.50056</td>\n",
       "      <td>23.26909</td>\n",
       "      <td>2,011.75277</td>\n",
       "    </tr>\n",
       "    <tr>\n",
       "      <th>std</th>\n",
       "      <td>321.90865</td>\n",
       "      <td>1.99739</td>\n",
       "      <td>3,849.92618</td>\n",
       "      <td>464.41173</td>\n",
       "      <td>0.37554</td>\n",
       "      <td>0.48576</td>\n",
       "      <td>0.38306</td>\n",
       "      <td>7,715.32370</td>\n",
       "      <td>3.21183</td>\n",
       "      <td>5.99264</td>\n",
       "      <td>0.50000</td>\n",
       "      <td>14.09597</td>\n",
       "      <td>1.66287</td>\n",
       "    </tr>\n",
       "    <tr>\n",
       "      <th>min</th>\n",
       "      <td>1.00000</td>\n",
       "      <td>1.00000</td>\n",
       "      <td>0.00000</td>\n",
       "      <td>0.00000</td>\n",
       "      <td>0.00000</td>\n",
       "      <td>0.00000</td>\n",
       "      <td>0.00000</td>\n",
       "      <td>20.00000</td>\n",
       "      <td>1.00000</td>\n",
       "      <td>1,900.00000</td>\n",
       "      <td>0.00000</td>\n",
       "      <td>1.00000</td>\n",
       "      <td>2,009.00000</td>\n",
       "    </tr>\n",
       "    <tr>\n",
       "      <th>25%</th>\n",
       "      <td>280.00000</td>\n",
       "      <td>2.00000</td>\n",
       "      <td>3,727.00000</td>\n",
       "      <td>405.00000</td>\n",
       "      <td>1.00000</td>\n",
       "      <td>0.00000</td>\n",
       "      <td>0.00000</td>\n",
       "      <td>710.00000</td>\n",
       "      <td>4.00000</td>\n",
       "      <td>2,006.00000</td>\n",
       "      <td>0.00000</td>\n",
       "      <td>13.00000</td>\n",
       "      <td>2,011.00000</td>\n",
       "    </tr>\n",
       "    <tr>\n",
       "      <th>50%</th>\n",
       "      <td>558.00000</td>\n",
       "      <td>4.00000</td>\n",
       "      <td>5,744.00000</td>\n",
       "      <td>609.00000</td>\n",
       "      <td>1.00000</td>\n",
       "      <td>0.00000</td>\n",
       "      <td>0.00000</td>\n",
       "      <td>2,330.00000</td>\n",
       "      <td>8.00000</td>\n",
       "      <td>2,010.00000</td>\n",
       "      <td>1.00000</td>\n",
       "      <td>22.00000</td>\n",
       "      <td>2,012.00000</td>\n",
       "    </tr>\n",
       "    <tr>\n",
       "      <th>75%</th>\n",
       "      <td>838.00000</td>\n",
       "      <td>6.00000</td>\n",
       "      <td>7,856.00000</td>\n",
       "      <td>837.00000</td>\n",
       "      <td>1.00000</td>\n",
       "      <td>1.00000</td>\n",
       "      <td>0.00000</td>\n",
       "      <td>6,890.00000</td>\n",
       "      <td>10.00000</td>\n",
       "      <td>2,013.00000</td>\n",
       "      <td>1.00000</td>\n",
       "      <td>37.00000</td>\n",
       "      <td>2,013.00000</td>\n",
       "    </tr>\n",
       "    <tr>\n",
       "      <th>max</th>\n",
       "      <td>1,115.00000</td>\n",
       "      <td>7.00000</td>\n",
       "      <td>41,551.00000</td>\n",
       "      <td>7,388.00000</td>\n",
       "      <td>1.00000</td>\n",
       "      <td>1.00000</td>\n",
       "      <td>1.00000</td>\n",
       "      <td>75,860.00000</td>\n",
       "      <td>12.00000</td>\n",
       "      <td>2,015.00000</td>\n",
       "      <td>1.00000</td>\n",
       "      <td>50.00000</td>\n",
       "      <td>2,015.00000</td>\n",
       "    </tr>\n",
       "  </tbody>\n",
       "</table>\n",
       "</div>"
      ],
      "text/plain": [
       "                Store       DayOfWeek           Sales       Customers  \\\n",
       "count 1,017,209.00000 1,017,209.00000 1,017,209.00000 1,017,209.00000   \n",
       "mean        558.42973         3.99834     5,773.81897       633.14595   \n",
       "std         321.90865         1.99739     3,849.92618       464.41173   \n",
       "min           1.00000         1.00000         0.00000         0.00000   \n",
       "25%         280.00000         2.00000     3,727.00000       405.00000   \n",
       "50%         558.00000         4.00000     5,744.00000       609.00000   \n",
       "75%         838.00000         6.00000     7,856.00000       837.00000   \n",
       "max       1,115.00000         7.00000    41,551.00000     7,388.00000   \n",
       "\n",
       "                 Open           Promo   SchoolHoliday  CompetitionDistance  \\\n",
       "count 1,017,209.00000 1,017,209.00000 1,017,209.00000      1,014,567.00000   \n",
       "mean          0.83011         0.38151         0.17865          5,430.08565   \n",
       "std           0.37554         0.48576         0.38306          7,715.32370   \n",
       "min           0.00000         0.00000         0.00000             20.00000   \n",
       "25%           1.00000         0.00000         0.00000            710.00000   \n",
       "50%           1.00000         0.00000         0.00000          2,330.00000   \n",
       "75%           1.00000         1.00000         0.00000          6,890.00000   \n",
       "max           1.00000         1.00000         1.00000         75,860.00000   \n",
       "\n",
       "       CompetitionOpenSinceMonth  CompetitionOpenSinceYear          Promo2  \\\n",
       "count              693,861.00000             693,861.00000 1,017,209.00000   \n",
       "mean                     7.22287               2,008.69023         0.50056   \n",
       "std                      3.21183                   5.99264         0.50000   \n",
       "min                      1.00000               1,900.00000         0.00000   \n",
       "25%                      4.00000               2,006.00000         0.00000   \n",
       "50%                      8.00000               2,010.00000         1.00000   \n",
       "75%                     10.00000               2,013.00000         1.00000   \n",
       "max                     12.00000               2,015.00000         1.00000   \n",
       "\n",
       "       Promo2SinceWeek  Promo2SinceYear  \n",
       "count    509,178.00000    509,178.00000  \n",
       "mean          23.26909      2,011.75277  \n",
       "std           14.09597          1.66287  \n",
       "min            1.00000      2,009.00000  \n",
       "25%           13.00000      2,011.00000  \n",
       "50%           22.00000      2,012.00000  \n",
       "75%           37.00000      2,013.00000  \n",
       "max           50.00000      2,015.00000  "
      ]
     },
     "execution_count": 17,
     "metadata": {},
     "output_type": "execute_result"
    }
   ],
   "source": [
    "df.describe()     # Statistical info of all numerical columns of merged dataframe"
   ]
  },
  {
   "cell_type": "markdown",
   "metadata": {},
   "source": [
    "# Data Cleaning:"
   ]
  },
  {
   "cell_type": "markdown",
   "metadata": {},
   "source": [
    "## Checking for duplicates:"
   ]
  },
  {
   "cell_type": "code",
   "execution_count": 18,
   "metadata": {
    "scrolled": true
   },
   "outputs": [
    {
     "data": {
      "text/html": [
       "<div>\n",
       "<style scoped>\n",
       "    .dataframe tbody tr th:only-of-type {\n",
       "        vertical-align: middle;\n",
       "    }\n",
       "\n",
       "    .dataframe tbody tr th {\n",
       "        vertical-align: top;\n",
       "    }\n",
       "\n",
       "    .dataframe thead th {\n",
       "        text-align: right;\n",
       "    }\n",
       "</style>\n",
       "<table border=\"1\" class=\"dataframe\">\n",
       "  <thead>\n",
       "    <tr style=\"text-align: right;\">\n",
       "      <th></th>\n",
       "      <th>Store</th>\n",
       "      <th>DayOfWeek</th>\n",
       "      <th>Date</th>\n",
       "      <th>Sales</th>\n",
       "      <th>Customers</th>\n",
       "      <th>Open</th>\n",
       "      <th>Promo</th>\n",
       "      <th>StateHoliday</th>\n",
       "      <th>SchoolHoliday</th>\n",
       "      <th>StoreType</th>\n",
       "      <th>Assortment</th>\n",
       "      <th>CompetitionDistance</th>\n",
       "      <th>CompetitionOpenSinceMonth</th>\n",
       "      <th>CompetitionOpenSinceYear</th>\n",
       "      <th>Promo2</th>\n",
       "      <th>Promo2SinceWeek</th>\n",
       "      <th>Promo2SinceYear</th>\n",
       "      <th>PromoInterval</th>\n",
       "    </tr>\n",
       "  </thead>\n",
       "  <tbody>\n",
       "    <tr>\n",
       "      <th>1017208</th>\n",
       "      <td>1115</td>\n",
       "      <td>2</td>\n",
       "      <td>2013-01-01</td>\n",
       "      <td>0</td>\n",
       "      <td>0</td>\n",
       "      <td>0</td>\n",
       "      <td>0</td>\n",
       "      <td>a</td>\n",
       "      <td>1</td>\n",
       "      <td>d</td>\n",
       "      <td>c</td>\n",
       "      <td>5,350.00000</td>\n",
       "      <td>NaN</td>\n",
       "      <td>NaN</td>\n",
       "      <td>1</td>\n",
       "      <td>22.00000</td>\n",
       "      <td>2,012.00000</td>\n",
       "      <td>Mar,Jun,Sept,Dec</td>\n",
       "    </tr>\n",
       "    <tr>\n",
       "      <th>679363</th>\n",
       "      <td>746</td>\n",
       "      <td>2</td>\n",
       "      <td>2013-01-01</td>\n",
       "      <td>0</td>\n",
       "      <td>0</td>\n",
       "      <td>0</td>\n",
       "      <td>0</td>\n",
       "      <td>a</td>\n",
       "      <td>1</td>\n",
       "      <td>d</td>\n",
       "      <td>c</td>\n",
       "      <td>4,330.00000</td>\n",
       "      <td>2.00000</td>\n",
       "      <td>2,011.00000</td>\n",
       "      <td>1</td>\n",
       "      <td>35.00000</td>\n",
       "      <td>2,011.00000</td>\n",
       "      <td>Mar,Jun,Sept,Dec</td>\n",
       "    </tr>\n",
       "    <tr>\n",
       "      <th>155193</th>\n",
       "      <td>171</td>\n",
       "      <td>2</td>\n",
       "      <td>2013-01-01</td>\n",
       "      <td>0</td>\n",
       "      <td>0</td>\n",
       "      <td>0</td>\n",
       "      <td>0</td>\n",
       "      <td>a</td>\n",
       "      <td>1</td>\n",
       "      <td>a</td>\n",
       "      <td>a</td>\n",
       "      <td>2,640.00000</td>\n",
       "      <td>NaN</td>\n",
       "      <td>NaN</td>\n",
       "      <td>0</td>\n",
       "      <td>NaN</td>\n",
       "      <td>NaN</td>\n",
       "      <td>NaN</td>\n",
       "    </tr>\n",
       "    <tr>\n",
       "      <th>632403</th>\n",
       "      <td>694</td>\n",
       "      <td>2</td>\n",
       "      <td>2013-01-01</td>\n",
       "      <td>0</td>\n",
       "      <td>0</td>\n",
       "      <td>0</td>\n",
       "      <td>0</td>\n",
       "      <td>a</td>\n",
       "      <td>1</td>\n",
       "      <td>a</td>\n",
       "      <td>c</td>\n",
       "      <td>460.00000</td>\n",
       "      <td>11.00000</td>\n",
       "      <td>2,012.00000</td>\n",
       "      <td>1</td>\n",
       "      <td>40.00000</td>\n",
       "      <td>2,014.00000</td>\n",
       "      <td>Jan,Apr,Jul,Oct</td>\n",
       "    </tr>\n",
       "    <tr>\n",
       "      <th>361623</th>\n",
       "      <td>396</td>\n",
       "      <td>2</td>\n",
       "      <td>2013-01-01</td>\n",
       "      <td>0</td>\n",
       "      <td>0</td>\n",
       "      <td>0</td>\n",
       "      <td>0</td>\n",
       "      <td>a</td>\n",
       "      <td>1</td>\n",
       "      <td>a</td>\n",
       "      <td>c</td>\n",
       "      <td>23,130.00000</td>\n",
       "      <td>NaN</td>\n",
       "      <td>NaN</td>\n",
       "      <td>0</td>\n",
       "      <td>NaN</td>\n",
       "      <td>NaN</td>\n",
       "      <td>NaN</td>\n",
       "    </tr>\n",
       "  </tbody>\n",
       "</table>\n",
       "</div>"
      ],
      "text/plain": [
       "         Store  DayOfWeek        Date  Sales  Customers  Open  Promo  \\\n",
       "1017208   1115          2  2013-01-01      0          0     0      0   \n",
       "679363     746          2  2013-01-01      0          0     0      0   \n",
       "155193     171          2  2013-01-01      0          0     0      0   \n",
       "632403     694          2  2013-01-01      0          0     0      0   \n",
       "361623     396          2  2013-01-01      0          0     0      0   \n",
       "\n",
       "        StateHoliday  SchoolHoliday StoreType Assortment  CompetitionDistance  \\\n",
       "1017208            a              1         d          c          5,350.00000   \n",
       "679363             a              1         d          c          4,330.00000   \n",
       "155193             a              1         a          a          2,640.00000   \n",
       "632403             a              1         a          c            460.00000   \n",
       "361623             a              1         a          c         23,130.00000   \n",
       "\n",
       "         CompetitionOpenSinceMonth  CompetitionOpenSinceYear  Promo2  \\\n",
       "1017208                        NaN                       NaN       1   \n",
       "679363                     2.00000               2,011.00000       1   \n",
       "155193                         NaN                       NaN       0   \n",
       "632403                    11.00000               2,012.00000       1   \n",
       "361623                         NaN                       NaN       0   \n",
       "\n",
       "         Promo2SinceWeek  Promo2SinceYear     PromoInterval  \n",
       "1017208         22.00000      2,012.00000  Mar,Jun,Sept,Dec  \n",
       "679363          35.00000      2,011.00000  Mar,Jun,Sept,Dec  \n",
       "155193               NaN              NaN               NaN  \n",
       "632403          40.00000      2,014.00000   Jan,Apr,Jul,Oct  \n",
       "361623               NaN              NaN               NaN  "
      ]
     },
     "execution_count": 18,
     "metadata": {},
     "output_type": "execute_result"
    }
   ],
   "source": [
    "df.head()"
   ]
  },
  {
   "cell_type": "code",
   "execution_count": 19,
   "metadata": {},
   "outputs": [
    {
     "data": {
      "text/plain": [
       "(1017209, 18)"
      ]
     },
     "execution_count": 19,
     "metadata": {},
     "output_type": "execute_result"
    }
   ],
   "source": [
    "df.shape"
   ]
  },
  {
   "cell_type": "code",
   "execution_count": 20,
   "metadata": {},
   "outputs": [
    {
     "data": {
      "text/plain": [
       "False"
      ]
     },
     "execution_count": 20,
     "metadata": {},
     "output_type": "execute_result"
    }
   ],
   "source": [
    "df.duplicated(subset=['Date','Store'])[0]==True        # If both date and store values are same it can be considered duplicates."
   ]
  },
  {
   "cell_type": "code",
   "execution_count": 21,
   "metadata": {},
   "outputs": [],
   "source": [
    "# So no duplicates......"
   ]
  },
  {
   "cell_type": "markdown",
   "metadata": {},
   "source": [
    "## Creating Index:"
   ]
  },
  {
   "cell_type": "code",
   "execution_count": 22,
   "metadata": {},
   "outputs": [
    {
     "data": {
      "text/html": [
       "<div>\n",
       "<style scoped>\n",
       "    .dataframe tbody tr th:only-of-type {\n",
       "        vertical-align: middle;\n",
       "    }\n",
       "\n",
       "    .dataframe tbody tr th {\n",
       "        vertical-align: top;\n",
       "    }\n",
       "\n",
       "    .dataframe thead th {\n",
       "        text-align: right;\n",
       "    }\n",
       "</style>\n",
       "<table border=\"1\" class=\"dataframe\">\n",
       "  <thead>\n",
       "    <tr style=\"text-align: right;\">\n",
       "      <th></th>\n",
       "      <th>Store</th>\n",
       "      <th>DayOfWeek</th>\n",
       "      <th>Date</th>\n",
       "      <th>Sales</th>\n",
       "      <th>Customers</th>\n",
       "      <th>Open</th>\n",
       "      <th>Promo</th>\n",
       "      <th>StateHoliday</th>\n",
       "      <th>SchoolHoliday</th>\n",
       "      <th>StoreType</th>\n",
       "      <th>Assortment</th>\n",
       "      <th>CompetitionDistance</th>\n",
       "      <th>CompetitionOpenSinceMonth</th>\n",
       "      <th>CompetitionOpenSinceYear</th>\n",
       "      <th>Promo2</th>\n",
       "      <th>Promo2SinceWeek</th>\n",
       "      <th>Promo2SinceYear</th>\n",
       "      <th>PromoInterval</th>\n",
       "    </tr>\n",
       "  </thead>\n",
       "  <tbody>\n",
       "    <tr>\n",
       "      <th>1017208</th>\n",
       "      <td>1115</td>\n",
       "      <td>2</td>\n",
       "      <td>2013-01-01</td>\n",
       "      <td>0</td>\n",
       "      <td>0</td>\n",
       "      <td>0</td>\n",
       "      <td>0</td>\n",
       "      <td>a</td>\n",
       "      <td>1</td>\n",
       "      <td>d</td>\n",
       "      <td>c</td>\n",
       "      <td>5,350.00000</td>\n",
       "      <td>NaN</td>\n",
       "      <td>NaN</td>\n",
       "      <td>1</td>\n",
       "      <td>22.00000</td>\n",
       "      <td>2,012.00000</td>\n",
       "      <td>Mar,Jun,Sept,Dec</td>\n",
       "    </tr>\n",
       "    <tr>\n",
       "      <th>679363</th>\n",
       "      <td>746</td>\n",
       "      <td>2</td>\n",
       "      <td>2013-01-01</td>\n",
       "      <td>0</td>\n",
       "      <td>0</td>\n",
       "      <td>0</td>\n",
       "      <td>0</td>\n",
       "      <td>a</td>\n",
       "      <td>1</td>\n",
       "      <td>d</td>\n",
       "      <td>c</td>\n",
       "      <td>4,330.00000</td>\n",
       "      <td>2.00000</td>\n",
       "      <td>2,011.00000</td>\n",
       "      <td>1</td>\n",
       "      <td>35.00000</td>\n",
       "      <td>2,011.00000</td>\n",
       "      <td>Mar,Jun,Sept,Dec</td>\n",
       "    </tr>\n",
       "    <tr>\n",
       "      <th>155193</th>\n",
       "      <td>171</td>\n",
       "      <td>2</td>\n",
       "      <td>2013-01-01</td>\n",
       "      <td>0</td>\n",
       "      <td>0</td>\n",
       "      <td>0</td>\n",
       "      <td>0</td>\n",
       "      <td>a</td>\n",
       "      <td>1</td>\n",
       "      <td>a</td>\n",
       "      <td>a</td>\n",
       "      <td>2,640.00000</td>\n",
       "      <td>NaN</td>\n",
       "      <td>NaN</td>\n",
       "      <td>0</td>\n",
       "      <td>NaN</td>\n",
       "      <td>NaN</td>\n",
       "      <td>NaN</td>\n",
       "    </tr>\n",
       "    <tr>\n",
       "      <th>632403</th>\n",
       "      <td>694</td>\n",
       "      <td>2</td>\n",
       "      <td>2013-01-01</td>\n",
       "      <td>0</td>\n",
       "      <td>0</td>\n",
       "      <td>0</td>\n",
       "      <td>0</td>\n",
       "      <td>a</td>\n",
       "      <td>1</td>\n",
       "      <td>a</td>\n",
       "      <td>c</td>\n",
       "      <td>460.00000</td>\n",
       "      <td>11.00000</td>\n",
       "      <td>2,012.00000</td>\n",
       "      <td>1</td>\n",
       "      <td>40.00000</td>\n",
       "      <td>2,014.00000</td>\n",
       "      <td>Jan,Apr,Jul,Oct</td>\n",
       "    </tr>\n",
       "    <tr>\n",
       "      <th>361623</th>\n",
       "      <td>396</td>\n",
       "      <td>2</td>\n",
       "      <td>2013-01-01</td>\n",
       "      <td>0</td>\n",
       "      <td>0</td>\n",
       "      <td>0</td>\n",
       "      <td>0</td>\n",
       "      <td>a</td>\n",
       "      <td>1</td>\n",
       "      <td>a</td>\n",
       "      <td>c</td>\n",
       "      <td>23,130.00000</td>\n",
       "      <td>NaN</td>\n",
       "      <td>NaN</td>\n",
       "      <td>0</td>\n",
       "      <td>NaN</td>\n",
       "      <td>NaN</td>\n",
       "      <td>NaN</td>\n",
       "    </tr>\n",
       "  </tbody>\n",
       "</table>\n",
       "</div>"
      ],
      "text/plain": [
       "         Store  DayOfWeek        Date  Sales  Customers  Open  Promo  \\\n",
       "1017208   1115          2  2013-01-01      0          0     0      0   \n",
       "679363     746          2  2013-01-01      0          0     0      0   \n",
       "155193     171          2  2013-01-01      0          0     0      0   \n",
       "632403     694          2  2013-01-01      0          0     0      0   \n",
       "361623     396          2  2013-01-01      0          0     0      0   \n",
       "\n",
       "        StateHoliday  SchoolHoliday StoreType Assortment  CompetitionDistance  \\\n",
       "1017208            a              1         d          c          5,350.00000   \n",
       "679363             a              1         d          c          4,330.00000   \n",
       "155193             a              1         a          a          2,640.00000   \n",
       "632403             a              1         a          c            460.00000   \n",
       "361623             a              1         a          c         23,130.00000   \n",
       "\n",
       "         CompetitionOpenSinceMonth  CompetitionOpenSinceYear  Promo2  \\\n",
       "1017208                        NaN                       NaN       1   \n",
       "679363                     2.00000               2,011.00000       1   \n",
       "155193                         NaN                       NaN       0   \n",
       "632403                    11.00000               2,012.00000       1   \n",
       "361623                         NaN                       NaN       0   \n",
       "\n",
       "         Promo2SinceWeek  Promo2SinceYear     PromoInterval  \n",
       "1017208         22.00000      2,012.00000  Mar,Jun,Sept,Dec  \n",
       "679363          35.00000      2,011.00000  Mar,Jun,Sept,Dec  \n",
       "155193               NaN              NaN               NaN  \n",
       "632403          40.00000      2,014.00000   Jan,Apr,Jul,Oct  \n",
       "361623               NaN              NaN               NaN  "
      ]
     },
     "execution_count": 22,
     "metadata": {},
     "output_type": "execute_result"
    }
   ],
   "source": [
    "df.head()"
   ]
  },
  {
   "cell_type": "code",
   "execution_count": 23,
   "metadata": {},
   "outputs": [],
   "source": [
    "df.reset_index(drop=True,inplace=True)\n",
    "df.set_index('Date',inplace=True)                    # deleting and resetting the index"
   ]
  },
  {
   "cell_type": "code",
   "execution_count": 24,
   "metadata": {
    "scrolled": true
   },
   "outputs": [
    {
     "data": {
      "text/html": [
       "<div>\n",
       "<style scoped>\n",
       "    .dataframe tbody tr th:only-of-type {\n",
       "        vertical-align: middle;\n",
       "    }\n",
       "\n",
       "    .dataframe tbody tr th {\n",
       "        vertical-align: top;\n",
       "    }\n",
       "\n",
       "    .dataframe thead th {\n",
       "        text-align: right;\n",
       "    }\n",
       "</style>\n",
       "<table border=\"1\" class=\"dataframe\">\n",
       "  <thead>\n",
       "    <tr style=\"text-align: right;\">\n",
       "      <th></th>\n",
       "      <th>Store</th>\n",
       "      <th>DayOfWeek</th>\n",
       "      <th>Sales</th>\n",
       "      <th>Customers</th>\n",
       "      <th>Open</th>\n",
       "      <th>Promo</th>\n",
       "      <th>StateHoliday</th>\n",
       "      <th>SchoolHoliday</th>\n",
       "      <th>StoreType</th>\n",
       "      <th>Assortment</th>\n",
       "      <th>CompetitionDistance</th>\n",
       "      <th>CompetitionOpenSinceMonth</th>\n",
       "      <th>CompetitionOpenSinceYear</th>\n",
       "      <th>Promo2</th>\n",
       "      <th>Promo2SinceWeek</th>\n",
       "      <th>Promo2SinceYear</th>\n",
       "      <th>PromoInterval</th>\n",
       "    </tr>\n",
       "    <tr>\n",
       "      <th>Date</th>\n",
       "      <th></th>\n",
       "      <th></th>\n",
       "      <th></th>\n",
       "      <th></th>\n",
       "      <th></th>\n",
       "      <th></th>\n",
       "      <th></th>\n",
       "      <th></th>\n",
       "      <th></th>\n",
       "      <th></th>\n",
       "      <th></th>\n",
       "      <th></th>\n",
       "      <th></th>\n",
       "      <th></th>\n",
       "      <th></th>\n",
       "      <th></th>\n",
       "      <th></th>\n",
       "    </tr>\n",
       "  </thead>\n",
       "  <tbody>\n",
       "    <tr>\n",
       "      <th>2013-01-01</th>\n",
       "      <td>1115</td>\n",
       "      <td>2</td>\n",
       "      <td>0</td>\n",
       "      <td>0</td>\n",
       "      <td>0</td>\n",
       "      <td>0</td>\n",
       "      <td>a</td>\n",
       "      <td>1</td>\n",
       "      <td>d</td>\n",
       "      <td>c</td>\n",
       "      <td>5,350.00000</td>\n",
       "      <td>NaN</td>\n",
       "      <td>NaN</td>\n",
       "      <td>1</td>\n",
       "      <td>22.00000</td>\n",
       "      <td>2,012.00000</td>\n",
       "      <td>Mar,Jun,Sept,Dec</td>\n",
       "    </tr>\n",
       "    <tr>\n",
       "      <th>2013-01-01</th>\n",
       "      <td>746</td>\n",
       "      <td>2</td>\n",
       "      <td>0</td>\n",
       "      <td>0</td>\n",
       "      <td>0</td>\n",
       "      <td>0</td>\n",
       "      <td>a</td>\n",
       "      <td>1</td>\n",
       "      <td>d</td>\n",
       "      <td>c</td>\n",
       "      <td>4,330.00000</td>\n",
       "      <td>2.00000</td>\n",
       "      <td>2,011.00000</td>\n",
       "      <td>1</td>\n",
       "      <td>35.00000</td>\n",
       "      <td>2,011.00000</td>\n",
       "      <td>Mar,Jun,Sept,Dec</td>\n",
       "    </tr>\n",
       "    <tr>\n",
       "      <th>2013-01-01</th>\n",
       "      <td>171</td>\n",
       "      <td>2</td>\n",
       "      <td>0</td>\n",
       "      <td>0</td>\n",
       "      <td>0</td>\n",
       "      <td>0</td>\n",
       "      <td>a</td>\n",
       "      <td>1</td>\n",
       "      <td>a</td>\n",
       "      <td>a</td>\n",
       "      <td>2,640.00000</td>\n",
       "      <td>NaN</td>\n",
       "      <td>NaN</td>\n",
       "      <td>0</td>\n",
       "      <td>NaN</td>\n",
       "      <td>NaN</td>\n",
       "      <td>NaN</td>\n",
       "    </tr>\n",
       "    <tr>\n",
       "      <th>2013-01-01</th>\n",
       "      <td>694</td>\n",
       "      <td>2</td>\n",
       "      <td>0</td>\n",
       "      <td>0</td>\n",
       "      <td>0</td>\n",
       "      <td>0</td>\n",
       "      <td>a</td>\n",
       "      <td>1</td>\n",
       "      <td>a</td>\n",
       "      <td>c</td>\n",
       "      <td>460.00000</td>\n",
       "      <td>11.00000</td>\n",
       "      <td>2,012.00000</td>\n",
       "      <td>1</td>\n",
       "      <td>40.00000</td>\n",
       "      <td>2,014.00000</td>\n",
       "      <td>Jan,Apr,Jul,Oct</td>\n",
       "    </tr>\n",
       "    <tr>\n",
       "      <th>2013-01-01</th>\n",
       "      <td>396</td>\n",
       "      <td>2</td>\n",
       "      <td>0</td>\n",
       "      <td>0</td>\n",
       "      <td>0</td>\n",
       "      <td>0</td>\n",
       "      <td>a</td>\n",
       "      <td>1</td>\n",
       "      <td>a</td>\n",
       "      <td>c</td>\n",
       "      <td>23,130.00000</td>\n",
       "      <td>NaN</td>\n",
       "      <td>NaN</td>\n",
       "      <td>0</td>\n",
       "      <td>NaN</td>\n",
       "      <td>NaN</td>\n",
       "      <td>NaN</td>\n",
       "    </tr>\n",
       "  </tbody>\n",
       "</table>\n",
       "</div>"
      ],
      "text/plain": [
       "            Store  DayOfWeek  Sales  Customers  Open  Promo StateHoliday  \\\n",
       "Date                                                                       \n",
       "2013-01-01   1115          2      0          0     0      0            a   \n",
       "2013-01-01    746          2      0          0     0      0            a   \n",
       "2013-01-01    171          2      0          0     0      0            a   \n",
       "2013-01-01    694          2      0          0     0      0            a   \n",
       "2013-01-01    396          2      0          0     0      0            a   \n",
       "\n",
       "            SchoolHoliday StoreType Assortment  CompetitionDistance  \\\n",
       "Date                                                                  \n",
       "2013-01-01              1         d          c          5,350.00000   \n",
       "2013-01-01              1         d          c          4,330.00000   \n",
       "2013-01-01              1         a          a          2,640.00000   \n",
       "2013-01-01              1         a          c            460.00000   \n",
       "2013-01-01              1         a          c         23,130.00000   \n",
       "\n",
       "            CompetitionOpenSinceMonth  CompetitionOpenSinceYear  Promo2  \\\n",
       "Date                                                                      \n",
       "2013-01-01                        NaN                       NaN       1   \n",
       "2013-01-01                    2.00000               2,011.00000       1   \n",
       "2013-01-01                        NaN                       NaN       0   \n",
       "2013-01-01                   11.00000               2,012.00000       1   \n",
       "2013-01-01                        NaN                       NaN       0   \n",
       "\n",
       "            Promo2SinceWeek  Promo2SinceYear     PromoInterval  \n",
       "Date                                                            \n",
       "2013-01-01         22.00000      2,012.00000  Mar,Jun,Sept,Dec  \n",
       "2013-01-01         35.00000      2,011.00000  Mar,Jun,Sept,Dec  \n",
       "2013-01-01              NaN              NaN               NaN  \n",
       "2013-01-01         40.00000      2,014.00000   Jan,Apr,Jul,Oct  \n",
       "2013-01-01              NaN              NaN               NaN  "
      ]
     },
     "execution_count": 24,
     "metadata": {},
     "output_type": "execute_result"
    }
   ],
   "source": [
    "df.head()"
   ]
  },
  {
   "cell_type": "markdown",
   "metadata": {},
   "source": [
    "## Dropping Unneccessary columns:"
   ]
  },
  {
   "cell_type": "code",
   "execution_count": 25,
   "metadata": {},
   "outputs": [],
   "source": [
    "# After watching the columns i think Promo,Promo interval should be dropped as they are not much useful in modelling.\n",
    "\n",
    "df.drop(['Promo','PromoInterval','CompetitionOpenSinceMonth'],axis=1,inplace=True)"
   ]
  },
  {
   "cell_type": "code",
   "execution_count": 26,
   "metadata": {},
   "outputs": [
    {
     "data": {
      "text/html": [
       "<div>\n",
       "<style scoped>\n",
       "    .dataframe tbody tr th:only-of-type {\n",
       "        vertical-align: middle;\n",
       "    }\n",
       "\n",
       "    .dataframe tbody tr th {\n",
       "        vertical-align: top;\n",
       "    }\n",
       "\n",
       "    .dataframe thead th {\n",
       "        text-align: right;\n",
       "    }\n",
       "</style>\n",
       "<table border=\"1\" class=\"dataframe\">\n",
       "  <thead>\n",
       "    <tr style=\"text-align: right;\">\n",
       "      <th></th>\n",
       "      <th>Store</th>\n",
       "      <th>DayOfWeek</th>\n",
       "      <th>Sales</th>\n",
       "      <th>Customers</th>\n",
       "      <th>Open</th>\n",
       "      <th>StateHoliday</th>\n",
       "      <th>SchoolHoliday</th>\n",
       "      <th>StoreType</th>\n",
       "      <th>Assortment</th>\n",
       "      <th>CompetitionDistance</th>\n",
       "      <th>CompetitionOpenSinceYear</th>\n",
       "      <th>Promo2</th>\n",
       "      <th>Promo2SinceWeek</th>\n",
       "      <th>Promo2SinceYear</th>\n",
       "    </tr>\n",
       "    <tr>\n",
       "      <th>Date</th>\n",
       "      <th></th>\n",
       "      <th></th>\n",
       "      <th></th>\n",
       "      <th></th>\n",
       "      <th></th>\n",
       "      <th></th>\n",
       "      <th></th>\n",
       "      <th></th>\n",
       "      <th></th>\n",
       "      <th></th>\n",
       "      <th></th>\n",
       "      <th></th>\n",
       "      <th></th>\n",
       "      <th></th>\n",
       "    </tr>\n",
       "  </thead>\n",
       "  <tbody>\n",
       "    <tr>\n",
       "      <th>2013-01-01</th>\n",
       "      <td>1115</td>\n",
       "      <td>2</td>\n",
       "      <td>0</td>\n",
       "      <td>0</td>\n",
       "      <td>0</td>\n",
       "      <td>a</td>\n",
       "      <td>1</td>\n",
       "      <td>d</td>\n",
       "      <td>c</td>\n",
       "      <td>5,350.00000</td>\n",
       "      <td>NaN</td>\n",
       "      <td>1</td>\n",
       "      <td>22.00000</td>\n",
       "      <td>2,012.00000</td>\n",
       "    </tr>\n",
       "    <tr>\n",
       "      <th>2013-01-01</th>\n",
       "      <td>746</td>\n",
       "      <td>2</td>\n",
       "      <td>0</td>\n",
       "      <td>0</td>\n",
       "      <td>0</td>\n",
       "      <td>a</td>\n",
       "      <td>1</td>\n",
       "      <td>d</td>\n",
       "      <td>c</td>\n",
       "      <td>4,330.00000</td>\n",
       "      <td>2,011.00000</td>\n",
       "      <td>1</td>\n",
       "      <td>35.00000</td>\n",
       "      <td>2,011.00000</td>\n",
       "    </tr>\n",
       "    <tr>\n",
       "      <th>2013-01-01</th>\n",
       "      <td>171</td>\n",
       "      <td>2</td>\n",
       "      <td>0</td>\n",
       "      <td>0</td>\n",
       "      <td>0</td>\n",
       "      <td>a</td>\n",
       "      <td>1</td>\n",
       "      <td>a</td>\n",
       "      <td>a</td>\n",
       "      <td>2,640.00000</td>\n",
       "      <td>NaN</td>\n",
       "      <td>0</td>\n",
       "      <td>NaN</td>\n",
       "      <td>NaN</td>\n",
       "    </tr>\n",
       "    <tr>\n",
       "      <th>2013-01-01</th>\n",
       "      <td>694</td>\n",
       "      <td>2</td>\n",
       "      <td>0</td>\n",
       "      <td>0</td>\n",
       "      <td>0</td>\n",
       "      <td>a</td>\n",
       "      <td>1</td>\n",
       "      <td>a</td>\n",
       "      <td>c</td>\n",
       "      <td>460.00000</td>\n",
       "      <td>2,012.00000</td>\n",
       "      <td>1</td>\n",
       "      <td>40.00000</td>\n",
       "      <td>2,014.00000</td>\n",
       "    </tr>\n",
       "    <tr>\n",
       "      <th>2013-01-01</th>\n",
       "      <td>396</td>\n",
       "      <td>2</td>\n",
       "      <td>0</td>\n",
       "      <td>0</td>\n",
       "      <td>0</td>\n",
       "      <td>a</td>\n",
       "      <td>1</td>\n",
       "      <td>a</td>\n",
       "      <td>c</td>\n",
       "      <td>23,130.00000</td>\n",
       "      <td>NaN</td>\n",
       "      <td>0</td>\n",
       "      <td>NaN</td>\n",
       "      <td>NaN</td>\n",
       "    </tr>\n",
       "  </tbody>\n",
       "</table>\n",
       "</div>"
      ],
      "text/plain": [
       "            Store  DayOfWeek  Sales  Customers  Open StateHoliday  \\\n",
       "Date                                                                \n",
       "2013-01-01   1115          2      0          0     0            a   \n",
       "2013-01-01    746          2      0          0     0            a   \n",
       "2013-01-01    171          2      0          0     0            a   \n",
       "2013-01-01    694          2      0          0     0            a   \n",
       "2013-01-01    396          2      0          0     0            a   \n",
       "\n",
       "            SchoolHoliday StoreType Assortment  CompetitionDistance  \\\n",
       "Date                                                                  \n",
       "2013-01-01              1         d          c          5,350.00000   \n",
       "2013-01-01              1         d          c          4,330.00000   \n",
       "2013-01-01              1         a          a          2,640.00000   \n",
       "2013-01-01              1         a          c            460.00000   \n",
       "2013-01-01              1         a          c         23,130.00000   \n",
       "\n",
       "            CompetitionOpenSinceYear  Promo2  Promo2SinceWeek  Promo2SinceYear  \n",
       "Date                                                                            \n",
       "2013-01-01                       NaN       1         22.00000      2,012.00000  \n",
       "2013-01-01               2,011.00000       1         35.00000      2,011.00000  \n",
       "2013-01-01                       NaN       0              NaN              NaN  \n",
       "2013-01-01               2,012.00000       1         40.00000      2,014.00000  \n",
       "2013-01-01                       NaN       0              NaN              NaN  "
      ]
     },
     "execution_count": 26,
     "metadata": {},
     "output_type": "execute_result"
    }
   ],
   "source": [
    "df.head()"
   ]
  },
  {
   "cell_type": "code",
   "execution_count": 27,
   "metadata": {},
   "outputs": [
    {
     "data": {
      "text/plain": [
       "(1017209, 14)"
      ]
     },
     "execution_count": 27,
     "metadata": {},
     "output_type": "execute_result"
    }
   ],
   "source": [
    "df.shape"
   ]
  },
  {
   "cell_type": "markdown",
   "metadata": {},
   "source": [
    "## Handling null values:"
   ]
  },
  {
   "cell_type": "code",
   "execution_count": 28,
   "metadata": {},
   "outputs": [
    {
     "data": {
      "text/plain": [
       "(1017209, 14)"
      ]
     },
     "execution_count": 28,
     "metadata": {},
     "output_type": "execute_result"
    }
   ],
   "source": [
    "df.shape"
   ]
  },
  {
   "cell_type": "code",
   "execution_count": 29,
   "metadata": {
    "scrolled": true
   },
   "outputs": [
    {
     "data": {
      "text/plain": [
       "Store                            0\n",
       "DayOfWeek                        0\n",
       "Sales                            0\n",
       "Customers                        0\n",
       "Open                             0\n",
       "StateHoliday                     0\n",
       "SchoolHoliday                    0\n",
       "StoreType                        0\n",
       "Assortment                       0\n",
       "CompetitionDistance           2642\n",
       "CompetitionOpenSinceYear    323348\n",
       "Promo2                           0\n",
       "Promo2SinceWeek             508031\n",
       "Promo2SinceYear             508031\n",
       "dtype: int64"
      ]
     },
     "execution_count": 29,
     "metadata": {},
     "output_type": "execute_result"
    }
   ],
   "source": [
    "df.isnull().sum()        # Checking for null values"
   ]
  },
  {
   "cell_type": "code",
   "execution_count": 30,
   "metadata": {},
   "outputs": [
    {
     "data": {
      "text/plain": [
       "{'Store': 0.0,\n",
       " 'DayOfWeek': 0.0,\n",
       " 'Sales': 0.0,\n",
       " 'Customers': 0.0,\n",
       " 'Open': 0.0,\n",
       " 'StateHoliday': 0.0,\n",
       " 'SchoolHoliday': 0.0,\n",
       " 'StoreType': 0.0,\n",
       " 'Assortment': 0.0,\n",
       " 'CompetitionDistance': 0.26,\n",
       " 'CompetitionOpenSinceYear': 31.79,\n",
       " 'Promo2': 0.0,\n",
       " 'Promo2SinceWeek': 49.94,\n",
       " 'Promo2SinceYear': 49.94}"
      ]
     },
     "execution_count": 30,
     "metadata": {},
     "output_type": "execute_result"
    }
   ],
   "source": [
    "dict={}                        # getting null value percentage for each column.\n",
    "for i in df.columns:\n",
    "    dict[i]=round((df[i].isnull().sum()/df[i].shape[0])*100,2)\n",
    "dict"
   ]
  },
  {
   "cell_type": "code",
   "execution_count": 31,
   "metadata": {},
   "outputs": [],
   "source": [
    "# now we need to deal with these null values\n",
    "# Since Promo2SinceWeek and year has around 50% null values we can drop them\n",
    "df.drop(['Promo2SinceWeek','Promo2SinceYear'],axis=1,inplace=True)"
   ]
  },
  {
   "cell_type": "code",
   "execution_count": 32,
   "metadata": {},
   "outputs": [
    {
     "data": {
      "text/plain": [
       "(1017209, 12)"
      ]
     },
     "execution_count": 32,
     "metadata": {},
     "output_type": "execute_result"
    }
   ],
   "source": [
    "df.shape"
   ]
  },
  {
   "cell_type": "code",
   "execution_count": 33,
   "metadata": {},
   "outputs": [
    {
     "data": {
      "text/plain": [
       "Store                            0\n",
       "DayOfWeek                        0\n",
       "Sales                            0\n",
       "Customers                        0\n",
       "Open                             0\n",
       "StateHoliday                     0\n",
       "SchoolHoliday                    0\n",
       "StoreType                        0\n",
       "Assortment                       0\n",
       "CompetitionDistance           2642\n",
       "CompetitionOpenSinceYear    323348\n",
       "Promo2                           0\n",
       "dtype: int64"
      ]
     },
     "execution_count": 33,
     "metadata": {},
     "output_type": "execute_result"
    }
   ],
   "source": [
    "df.isnull().sum()"
   ]
  },
  {
   "cell_type": "code",
   "execution_count": 34,
   "metadata": {},
   "outputs": [
    {
     "data": {
      "text/plain": [
       "count   693,861.00000\n",
       "mean      2,008.69023\n",
       "std           5.99264\n",
       "min       1,900.00000\n",
       "25%       2,006.00000\n",
       "50%       2,010.00000\n",
       "75%       2,013.00000\n",
       "max       2,015.00000\n",
       "Name: CompetitionOpenSinceYear, dtype: float64"
      ]
     },
     "execution_count": 34,
     "metadata": {},
     "output_type": "execute_result"
    }
   ],
   "source": [
    "df['CompetitionOpenSinceYear'].describe()\n",
    "# Since it is a year column we can use mode for imputation."
   ]
  },
  {
   "cell_type": "code",
   "execution_count": 35,
   "metadata": {},
   "outputs": [],
   "source": [
    "df['CompetitionOpenSinceYear'].fillna(df['CompetitionOpenSinceYear'].mode()[0],inplace=True)"
   ]
  },
  {
   "cell_type": "code",
   "execution_count": 36,
   "metadata": {},
   "outputs": [
    {
     "data": {
      "text/plain": [
       "Store                          0\n",
       "DayOfWeek                      0\n",
       "Sales                          0\n",
       "Customers                      0\n",
       "Open                           0\n",
       "StateHoliday                   0\n",
       "SchoolHoliday                  0\n",
       "StoreType                      0\n",
       "Assortment                     0\n",
       "CompetitionDistance         2642\n",
       "CompetitionOpenSinceYear       0\n",
       "Promo2                         0\n",
       "dtype: int64"
      ]
     },
     "execution_count": 36,
     "metadata": {},
     "output_type": "execute_result"
    }
   ],
   "source": [
    "df.isnull().sum()"
   ]
  },
  {
   "cell_type": "code",
   "execution_count": 37,
   "metadata": {},
   "outputs": [
    {
     "data": {
      "image/png": "[encoded data removed]",
      "text/plain": [
       "<Figure size 432x288 with 1 Axes>"
      ]
     },
     "metadata": {
      "needs_background": "light"
     },
     "output_type": "display_data"
    }
   ],
   "source": [
    "# Since it is a continuos variable we ca either use mean/median for imputation.\n",
    "\n",
    "sns.boxplot(df['CompetitionDistance'])\n",
    "plt.show()"
   ]
  },
  {
   "cell_type": "code",
   "execution_count": 38,
   "metadata": {},
   "outputs": [],
   "source": [
    "# We can see that it is clearly effected by outliers so we use median for imputaion.\n",
    "df['CompetitionDistance'].fillna(df['CompetitionDistance'].median(),inplace=True)"
   ]
  },
  {
   "cell_type": "code",
   "execution_count": 39,
   "metadata": {},
   "outputs": [
    {
     "data": {
      "text/plain": [
       "0"
      ]
     },
     "execution_count": 39,
     "metadata": {},
     "output_type": "execute_result"
    }
   ],
   "source": [
    "df.isnull().sum().sum()             # Null values handled"
   ]
  },
  {
   "cell_type": "markdown",
   "metadata": {},
   "source": [
    "## Feature Engineering:"
   ]
  },
  {
   "cell_type": "code",
   "execution_count": 40,
   "metadata": {},
   "outputs": [
    {
     "data": {
      "text/html": [
       "<div>\n",
       "<style scoped>\n",
       "    .dataframe tbody tr th:only-of-type {\n",
       "        vertical-align: middle;\n",
       "    }\n",
       "\n",
       "    .dataframe tbody tr th {\n",
       "        vertical-align: top;\n",
       "    }\n",
       "\n",
       "    .dataframe thead th {\n",
       "        text-align: right;\n",
       "    }\n",
       "</style>\n",
       "<table border=\"1\" class=\"dataframe\">\n",
       "  <thead>\n",
       "    <tr style=\"text-align: right;\">\n",
       "      <th></th>\n",
       "      <th>Store</th>\n",
       "      <th>DayOfWeek</th>\n",
       "      <th>Sales</th>\n",
       "      <th>Customers</th>\n",
       "      <th>Open</th>\n",
       "      <th>StateHoliday</th>\n",
       "      <th>SchoolHoliday</th>\n",
       "      <th>StoreType</th>\n",
       "      <th>Assortment</th>\n",
       "      <th>CompetitionDistance</th>\n",
       "      <th>CompetitionOpenSinceYear</th>\n",
       "      <th>Promo2</th>\n",
       "    </tr>\n",
       "    <tr>\n",
       "      <th>Date</th>\n",
       "      <th></th>\n",
       "      <th></th>\n",
       "      <th></th>\n",
       "      <th></th>\n",
       "      <th></th>\n",
       "      <th></th>\n",
       "      <th></th>\n",
       "      <th></th>\n",
       "      <th></th>\n",
       "      <th></th>\n",
       "      <th></th>\n",
       "      <th></th>\n",
       "    </tr>\n",
       "  </thead>\n",
       "  <tbody>\n",
       "    <tr>\n",
       "      <th>2013-01-01</th>\n",
       "      <td>1115</td>\n",
       "      <td>2</td>\n",
       "      <td>0</td>\n",
       "      <td>0</td>\n",
       "      <td>0</td>\n",
       "      <td>a</td>\n",
       "      <td>1</td>\n",
       "      <td>d</td>\n",
       "      <td>c</td>\n",
       "      <td>5,350.00000</td>\n",
       "      <td>2,013.00000</td>\n",
       "      <td>1</td>\n",
       "    </tr>\n",
       "    <tr>\n",
       "      <th>2013-01-01</th>\n",
       "      <td>746</td>\n",
       "      <td>2</td>\n",
       "      <td>0</td>\n",
       "      <td>0</td>\n",
       "      <td>0</td>\n",
       "      <td>a</td>\n",
       "      <td>1</td>\n",
       "      <td>d</td>\n",
       "      <td>c</td>\n",
       "      <td>4,330.00000</td>\n",
       "      <td>2,011.00000</td>\n",
       "      <td>1</td>\n",
       "    </tr>\n",
       "    <tr>\n",
       "      <th>2013-01-01</th>\n",
       "      <td>171</td>\n",
       "      <td>2</td>\n",
       "      <td>0</td>\n",
       "      <td>0</td>\n",
       "      <td>0</td>\n",
       "      <td>a</td>\n",
       "      <td>1</td>\n",
       "      <td>a</td>\n",
       "      <td>a</td>\n",
       "      <td>2,640.00000</td>\n",
       "      <td>2,013.00000</td>\n",
       "      <td>0</td>\n",
       "    </tr>\n",
       "    <tr>\n",
       "      <th>2013-01-01</th>\n",
       "      <td>694</td>\n",
       "      <td>2</td>\n",
       "      <td>0</td>\n",
       "      <td>0</td>\n",
       "      <td>0</td>\n",
       "      <td>a</td>\n",
       "      <td>1</td>\n",
       "      <td>a</td>\n",
       "      <td>c</td>\n",
       "      <td>460.00000</td>\n",
       "      <td>2,012.00000</td>\n",
       "      <td>1</td>\n",
       "    </tr>\n",
       "    <tr>\n",
       "      <th>2013-01-01</th>\n",
       "      <td>396</td>\n",
       "      <td>2</td>\n",
       "      <td>0</td>\n",
       "      <td>0</td>\n",
       "      <td>0</td>\n",
       "      <td>a</td>\n",
       "      <td>1</td>\n",
       "      <td>a</td>\n",
       "      <td>c</td>\n",
       "      <td>23,130.00000</td>\n",
       "      <td>2,013.00000</td>\n",
       "      <td>0</td>\n",
       "    </tr>\n",
       "  </tbody>\n",
       "</table>\n",
       "</div>"
      ],
      "text/plain": [
       "            Store  DayOfWeek  Sales  Customers  Open StateHoliday  \\\n",
       "Date                                                                \n",
       "2013-01-01   1115          2      0          0     0            a   \n",
       "2013-01-01    746          2      0          0     0            a   \n",
       "2013-01-01    171          2      0          0     0            a   \n",
       "2013-01-01    694          2      0          0     0            a   \n",
       "2013-01-01    396          2      0          0     0            a   \n",
       "\n",
       "            SchoolHoliday StoreType Assortment  CompetitionDistance  \\\n",
       "Date                                                                  \n",
       "2013-01-01              1         d          c          5,350.00000   \n",
       "2013-01-01              1         d          c          4,330.00000   \n",
       "2013-01-01              1         a          a          2,640.00000   \n",
       "2013-01-01              1         a          c            460.00000   \n",
       "2013-01-01              1         a          c         23,130.00000   \n",
       "\n",
       "            CompetitionOpenSinceYear  Promo2  \n",
       "Date                                          \n",
       "2013-01-01               2,013.00000       1  \n",
       "2013-01-01               2,011.00000       1  \n",
       "2013-01-01               2,013.00000       0  \n",
       "2013-01-01               2,012.00000       1  \n",
       "2013-01-01               2,013.00000       0  "
      ]
     },
     "execution_count": 40,
     "metadata": {},
     "output_type": "execute_result"
    }
   ],
   "source": [
    "df.head()"
   ]
  },
  {
   "cell_type": "raw",
   "metadata": {},
   "source": [
    "We can convert CompetitionOpenSinceYear into years till competition opened (no of years more effective in modelling than year started)"
   ]
  },
  {
   "cell_type": "code",
   "execution_count": 41,
   "metadata": {},
   "outputs": [],
   "source": [
    "df['CompetitionOpenSinceYear']=df['CompetitionOpenSinceYear'].apply(lambda x: 2021-int(x))\n",
    "df.rename(columns={'CompetitionOpenSinceYear':'Competition since years'},inplace=True)"
   ]
  },
  {
   "cell_type": "raw",
   "metadata": {},
   "source": [
    "We can convert 'CompetitionDistance into kilometeres from meters as it will be more useful in modelling."
   ]
  },
  {
   "cell_type": "code",
   "execution_count": 42,
   "metadata": {},
   "outputs": [],
   "source": [
    "df['CompetitionDistance']=df['CompetitionDistance'].apply(lambda x:math.ceil(int(x)/1000))\n",
    "df.rename(columns={'CompetitionDistance':'CompetitionDistance_KM'},inplace=True)"
   ]
  },
  {
   "cell_type": "code",
   "execution_count": 43,
   "metadata": {},
   "outputs": [],
   "source": [
    "# From the DayOfWeek model we can create is_weekend variable which can has great effect on sales column"
   ]
  },
  {
   "cell_type": "code",
   "execution_count": 44,
   "metadata": {},
   "outputs": [
    {
     "data": {
      "text/plain": [
       "4    145845\n",
       "5    145845\n",
       "3    145665\n",
       "2    145664\n",
       "6    144730\n",
       "7    144730\n",
       "1    144730\n",
       "Name: DayOfWeek, dtype: int64"
      ]
     },
     "execution_count": 44,
     "metadata": {},
     "output_type": "execute_result"
    }
   ],
   "source": [
    "df['DayOfWeek'].value_counts()"
   ]
  },
  {
   "cell_type": "code",
   "execution_count": 45,
   "metadata": {
    "scrolled": true
   },
   "outputs": [],
   "source": [
    "df.insert(2,'is_weekend',df['DayOfWeek'].apply(lambda x:1 if (x==6 or x==7) else 0))\n",
    "# We are inserting it right next to DayOf Week variable"
   ]
  },
  {
   "cell_type": "code",
   "execution_count": 46,
   "metadata": {},
   "outputs": [
    {
     "data": {
      "text/html": [
       "<div>\n",
       "<style scoped>\n",
       "    .dataframe tbody tr th:only-of-type {\n",
       "        vertical-align: middle;\n",
       "    }\n",
       "\n",
       "    .dataframe tbody tr th {\n",
       "        vertical-align: top;\n",
       "    }\n",
       "\n",
       "    .dataframe thead th {\n",
       "        text-align: right;\n",
       "    }\n",
       "</style>\n",
       "<table border=\"1\" class=\"dataframe\">\n",
       "  <thead>\n",
       "    <tr style=\"text-align: right;\">\n",
       "      <th></th>\n",
       "      <th>Store</th>\n",
       "      <th>DayOfWeek</th>\n",
       "      <th>is_weekend</th>\n",
       "      <th>Sales</th>\n",
       "      <th>Customers</th>\n",
       "      <th>Open</th>\n",
       "      <th>StateHoliday</th>\n",
       "      <th>SchoolHoliday</th>\n",
       "      <th>StoreType</th>\n",
       "      <th>Assortment</th>\n",
       "      <th>CompetitionDistance_KM</th>\n",
       "      <th>Competition since years</th>\n",
       "      <th>Promo2</th>\n",
       "    </tr>\n",
       "    <tr>\n",
       "      <th>Date</th>\n",
       "      <th></th>\n",
       "      <th></th>\n",
       "      <th></th>\n",
       "      <th></th>\n",
       "      <th></th>\n",
       "      <th></th>\n",
       "      <th></th>\n",
       "      <th></th>\n",
       "      <th></th>\n",
       "      <th></th>\n",
       "      <th></th>\n",
       "      <th></th>\n",
       "      <th></th>\n",
       "    </tr>\n",
       "  </thead>\n",
       "  <tbody>\n",
       "    <tr>\n",
       "      <th>2013-01-01</th>\n",
       "      <td>1115</td>\n",
       "      <td>2</td>\n",
       "      <td>0</td>\n",
       "      <td>0</td>\n",
       "      <td>0</td>\n",
       "      <td>0</td>\n",
       "      <td>a</td>\n",
       "      <td>1</td>\n",
       "      <td>d</td>\n",
       "      <td>c</td>\n",
       "      <td>6</td>\n",
       "      <td>8</td>\n",
       "      <td>1</td>\n",
       "    </tr>\n",
       "    <tr>\n",
       "      <th>2013-01-01</th>\n",
       "      <td>746</td>\n",
       "      <td>2</td>\n",
       "      <td>0</td>\n",
       "      <td>0</td>\n",
       "      <td>0</td>\n",
       "      <td>0</td>\n",
       "      <td>a</td>\n",
       "      <td>1</td>\n",
       "      <td>d</td>\n",
       "      <td>c</td>\n",
       "      <td>5</td>\n",
       "      <td>10</td>\n",
       "      <td>1</td>\n",
       "    </tr>\n",
       "    <tr>\n",
       "      <th>2013-01-01</th>\n",
       "      <td>171</td>\n",
       "      <td>2</td>\n",
       "      <td>0</td>\n",
       "      <td>0</td>\n",
       "      <td>0</td>\n",
       "      <td>0</td>\n",
       "      <td>a</td>\n",
       "      <td>1</td>\n",
       "      <td>a</td>\n",
       "      <td>a</td>\n",
       "      <td>3</td>\n",
       "      <td>8</td>\n",
       "      <td>0</td>\n",
       "    </tr>\n",
       "    <tr>\n",
       "      <th>2013-01-01</th>\n",
       "      <td>694</td>\n",
       "      <td>2</td>\n",
       "      <td>0</td>\n",
       "      <td>0</td>\n",
       "      <td>0</td>\n",
       "      <td>0</td>\n",
       "      <td>a</td>\n",
       "      <td>1</td>\n",
       "      <td>a</td>\n",
       "      <td>c</td>\n",
       "      <td>1</td>\n",
       "      <td>9</td>\n",
       "      <td>1</td>\n",
       "    </tr>\n",
       "    <tr>\n",
       "      <th>2013-01-01</th>\n",
       "      <td>396</td>\n",
       "      <td>2</td>\n",
       "      <td>0</td>\n",
       "      <td>0</td>\n",
       "      <td>0</td>\n",
       "      <td>0</td>\n",
       "      <td>a</td>\n",
       "      <td>1</td>\n",
       "      <td>a</td>\n",
       "      <td>c</td>\n",
       "      <td>24</td>\n",
       "      <td>8</td>\n",
       "      <td>0</td>\n",
       "    </tr>\n",
       "  </tbody>\n",
       "</table>\n",
       "</div>"
      ],
      "text/plain": [
       "            Store  DayOfWeek  is_weekend  Sales  Customers  Open StateHoliday  \\\n",
       "Date                                                                            \n",
       "2013-01-01   1115          2           0      0          0     0            a   \n",
       "2013-01-01    746          2           0      0          0     0            a   \n",
       "2013-01-01    171          2           0      0          0     0            a   \n",
       "2013-01-01    694          2           0      0          0     0            a   \n",
       "2013-01-01    396          2           0      0          0     0            a   \n",
       "\n",
       "            SchoolHoliday StoreType Assortment  CompetitionDistance_KM  \\\n",
       "Date                                                                     \n",
       "2013-01-01              1         d          c                       6   \n",
       "2013-01-01              1         d          c                       5   \n",
       "2013-01-01              1         a          a                       3   \n",
       "2013-01-01              1         a          c                       1   \n",
       "2013-01-01              1         a          c                      24   \n",
       "\n",
       "            Competition since years  Promo2  \n",
       "Date                                         \n",
       "2013-01-01                        8       1  \n",
       "2013-01-01                       10       1  \n",
       "2013-01-01                        8       0  \n",
       "2013-01-01                        9       1  \n",
       "2013-01-01                        8       0  "
      ]
     },
     "execution_count": 46,
     "metadata": {},
     "output_type": "execute_result"
    }
   ],
   "source": [
    "df.head()"
   ]
  },
  {
   "cell_type": "markdown",
   "metadata": {},
   "source": [
    "## Sanity Checks:"
   ]
  },
  {
   "cell_type": "code",
   "execution_count": 47,
   "metadata": {
    "scrolled": true
   },
   "outputs": [
    {
     "data": {
      "text/html": [
       "<div>\n",
       "<style scoped>\n",
       "    .dataframe tbody tr th:only-of-type {\n",
       "        vertical-align: middle;\n",
       "    }\n",
       "\n",
       "    .dataframe tbody tr th {\n",
       "        vertical-align: top;\n",
       "    }\n",
       "\n",
       "    .dataframe thead th {\n",
       "        text-align: right;\n",
       "    }\n",
       "</style>\n",
       "<table border=\"1\" class=\"dataframe\">\n",
       "  <thead>\n",
       "    <tr style=\"text-align: right;\">\n",
       "      <th></th>\n",
       "      <th>Store</th>\n",
       "      <th>DayOfWeek</th>\n",
       "      <th>is_weekend</th>\n",
       "      <th>Sales</th>\n",
       "      <th>Customers</th>\n",
       "      <th>Open</th>\n",
       "      <th>StateHoliday</th>\n",
       "      <th>SchoolHoliday</th>\n",
       "      <th>StoreType</th>\n",
       "      <th>Assortment</th>\n",
       "      <th>CompetitionDistance_KM</th>\n",
       "      <th>Competition since years</th>\n",
       "      <th>Promo2</th>\n",
       "    </tr>\n",
       "    <tr>\n",
       "      <th>Date</th>\n",
       "      <th></th>\n",
       "      <th></th>\n",
       "      <th></th>\n",
       "      <th></th>\n",
       "      <th></th>\n",
       "      <th></th>\n",
       "      <th></th>\n",
       "      <th></th>\n",
       "      <th></th>\n",
       "      <th></th>\n",
       "      <th></th>\n",
       "      <th></th>\n",
       "      <th></th>\n",
       "    </tr>\n",
       "  </thead>\n",
       "  <tbody>\n",
       "    <tr>\n",
       "      <th>2013-01-01</th>\n",
       "      <td>1115</td>\n",
       "      <td>2</td>\n",
       "      <td>0</td>\n",
       "      <td>0</td>\n",
       "      <td>0</td>\n",
       "      <td>0</td>\n",
       "      <td>a</td>\n",
       "      <td>1</td>\n",
       "      <td>d</td>\n",
       "      <td>c</td>\n",
       "      <td>6</td>\n",
       "      <td>8</td>\n",
       "      <td>1</td>\n",
       "    </tr>\n",
       "    <tr>\n",
       "      <th>2013-01-01</th>\n",
       "      <td>746</td>\n",
       "      <td>2</td>\n",
       "      <td>0</td>\n",
       "      <td>0</td>\n",
       "      <td>0</td>\n",
       "      <td>0</td>\n",
       "      <td>a</td>\n",
       "      <td>1</td>\n",
       "      <td>d</td>\n",
       "      <td>c</td>\n",
       "      <td>5</td>\n",
       "      <td>10</td>\n",
       "      <td>1</td>\n",
       "    </tr>\n",
       "    <tr>\n",
       "      <th>2013-01-01</th>\n",
       "      <td>171</td>\n",
       "      <td>2</td>\n",
       "      <td>0</td>\n",
       "      <td>0</td>\n",
       "      <td>0</td>\n",
       "      <td>0</td>\n",
       "      <td>a</td>\n",
       "      <td>1</td>\n",
       "      <td>a</td>\n",
       "      <td>a</td>\n",
       "      <td>3</td>\n",
       "      <td>8</td>\n",
       "      <td>0</td>\n",
       "    </tr>\n",
       "    <tr>\n",
       "      <th>2013-01-01</th>\n",
       "      <td>694</td>\n",
       "      <td>2</td>\n",
       "      <td>0</td>\n",
       "      <td>0</td>\n",
       "      <td>0</td>\n",
       "      <td>0</td>\n",
       "      <td>a</td>\n",
       "      <td>1</td>\n",
       "      <td>a</td>\n",
       "      <td>c</td>\n",
       "      <td>1</td>\n",
       "      <td>9</td>\n",
       "      <td>1</td>\n",
       "    </tr>\n",
       "    <tr>\n",
       "      <th>2013-01-01</th>\n",
       "      <td>396</td>\n",
       "      <td>2</td>\n",
       "      <td>0</td>\n",
       "      <td>0</td>\n",
       "      <td>0</td>\n",
       "      <td>0</td>\n",
       "      <td>a</td>\n",
       "      <td>1</td>\n",
       "      <td>a</td>\n",
       "      <td>c</td>\n",
       "      <td>24</td>\n",
       "      <td>8</td>\n",
       "      <td>0</td>\n",
       "    </tr>\n",
       "  </tbody>\n",
       "</table>\n",
       "</div>"
      ],
      "text/plain": [
       "            Store  DayOfWeek  is_weekend  Sales  Customers  Open StateHoliday  \\\n",
       "Date                                                                            \n",
       "2013-01-01   1115          2           0      0          0     0            a   \n",
       "2013-01-01    746          2           0      0          0     0            a   \n",
       "2013-01-01    171          2           0      0          0     0            a   \n",
       "2013-01-01    694          2           0      0          0     0            a   \n",
       "2013-01-01    396          2           0      0          0     0            a   \n",
       "\n",
       "            SchoolHoliday StoreType Assortment  CompetitionDistance_KM  \\\n",
       "Date                                                                     \n",
       "2013-01-01              1         d          c                       6   \n",
       "2013-01-01              1         d          c                       5   \n",
       "2013-01-01              1         a          a                       3   \n",
       "2013-01-01              1         a          c                       1   \n",
       "2013-01-01              1         a          c                      24   \n",
       "\n",
       "            Competition since years  Promo2  \n",
       "Date                                         \n",
       "2013-01-01                        8       1  \n",
       "2013-01-01                       10       1  \n",
       "2013-01-01                        8       0  \n",
       "2013-01-01                        9       1  \n",
       "2013-01-01                        8       0  "
      ]
     },
     "execution_count": 47,
     "metadata": {},
     "output_type": "execute_result"
    }
   ],
   "source": [
    "df.head()"
   ]
  },
  {
   "cell_type": "code",
   "execution_count": 48,
   "metadata": {},
   "outputs": [
    {
     "data": {
      "text/plain": [
       "1    844392\n",
       "0    172817\n",
       "Name: Open, dtype: int64"
      ]
     },
     "execution_count": 48,
     "metadata": {},
     "output_type": "execute_result"
    }
   ],
   "source": [
    "df['Open'].value_counts()     # no wrong entries"
   ]
  },
  {
   "cell_type": "code",
   "execution_count": 49,
   "metadata": {},
   "outputs": [
    {
     "data": {
      "text/plain": [
       "a    551627\n",
       "d    312912\n",
       "c    136840\n",
       "b     15830\n",
       "Name: StoreType, dtype: int64"
      ]
     },
     "execution_count": 49,
     "metadata": {},
     "output_type": "execute_result"
    }
   ],
   "source": [
    "df['StoreType'].value_counts()        # no wrong entries"
   ]
  },
  {
   "cell_type": "code",
   "execution_count": 50,
   "metadata": {},
   "outputs": [
    {
     "data": {
      "text/plain": [
       "a    537445\n",
       "c    471470\n",
       "b      8294\n",
       "Name: Assortment, dtype: int64"
      ]
     },
     "execution_count": 50,
     "metadata": {},
     "output_type": "execute_result"
    }
   ],
   "source": [
    "df['Assortment'].value_counts()          # no wrong entries"
   ]
  },
  {
   "cell_type": "code",
   "execution_count": 51,
   "metadata": {},
   "outputs": [],
   "source": [
    "# All the categorical columns are in order(no irregular entries)"
   ]
  },
  {
   "cell_type": "markdown",
   "metadata": {},
   "source": [
    "## Checking for skewness"
   ]
  },
  {
   "cell_type": "code",
   "execution_count": 52,
   "metadata": {},
   "outputs": [
    {
     "data": {
      "text/html": [
       "<div>\n",
       "<style scoped>\n",
       "    .dataframe tbody tr th:only-of-type {\n",
       "        vertical-align: middle;\n",
       "    }\n",
       "\n",
       "    .dataframe tbody tr th {\n",
       "        vertical-align: top;\n",
       "    }\n",
       "\n",
       "    .dataframe thead th {\n",
       "        text-align: right;\n",
       "    }\n",
       "</style>\n",
       "<table border=\"1\" class=\"dataframe\">\n",
       "  <thead>\n",
       "    <tr style=\"text-align: right;\">\n",
       "      <th></th>\n",
       "      <th>Store</th>\n",
       "      <th>DayOfWeek</th>\n",
       "      <th>is_weekend</th>\n",
       "      <th>Sales</th>\n",
       "      <th>Customers</th>\n",
       "      <th>Open</th>\n",
       "      <th>StateHoliday</th>\n",
       "      <th>SchoolHoliday</th>\n",
       "      <th>StoreType</th>\n",
       "      <th>Assortment</th>\n",
       "      <th>CompetitionDistance_KM</th>\n",
       "      <th>Competition since years</th>\n",
       "      <th>Promo2</th>\n",
       "    </tr>\n",
       "    <tr>\n",
       "      <th>Date</th>\n",
       "      <th></th>\n",
       "      <th></th>\n",
       "      <th></th>\n",
       "      <th></th>\n",
       "      <th></th>\n",
       "      <th></th>\n",
       "      <th></th>\n",
       "      <th></th>\n",
       "      <th></th>\n",
       "      <th></th>\n",
       "      <th></th>\n",
       "      <th></th>\n",
       "      <th></th>\n",
       "    </tr>\n",
       "  </thead>\n",
       "  <tbody>\n",
       "    <tr>\n",
       "      <th>2013-01-01</th>\n",
       "      <td>1115</td>\n",
       "      <td>2</td>\n",
       "      <td>0</td>\n",
       "      <td>0</td>\n",
       "      <td>0</td>\n",
       "      <td>0</td>\n",
       "      <td>a</td>\n",
       "      <td>1</td>\n",
       "      <td>d</td>\n",
       "      <td>c</td>\n",
       "      <td>6</td>\n",
       "      <td>8</td>\n",
       "      <td>1</td>\n",
       "    </tr>\n",
       "    <tr>\n",
       "      <th>2013-01-01</th>\n",
       "      <td>746</td>\n",
       "      <td>2</td>\n",
       "      <td>0</td>\n",
       "      <td>0</td>\n",
       "      <td>0</td>\n",
       "      <td>0</td>\n",
       "      <td>a</td>\n",
       "      <td>1</td>\n",
       "      <td>d</td>\n",
       "      <td>c</td>\n",
       "      <td>5</td>\n",
       "      <td>10</td>\n",
       "      <td>1</td>\n",
       "    </tr>\n",
       "    <tr>\n",
       "      <th>2013-01-01</th>\n",
       "      <td>171</td>\n",
       "      <td>2</td>\n",
       "      <td>0</td>\n",
       "      <td>0</td>\n",
       "      <td>0</td>\n",
       "      <td>0</td>\n",
       "      <td>a</td>\n",
       "      <td>1</td>\n",
       "      <td>a</td>\n",
       "      <td>a</td>\n",
       "      <td>3</td>\n",
       "      <td>8</td>\n",
       "      <td>0</td>\n",
       "    </tr>\n",
       "    <tr>\n",
       "      <th>2013-01-01</th>\n",
       "      <td>694</td>\n",
       "      <td>2</td>\n",
       "      <td>0</td>\n",
       "      <td>0</td>\n",
       "      <td>0</td>\n",
       "      <td>0</td>\n",
       "      <td>a</td>\n",
       "      <td>1</td>\n",
       "      <td>a</td>\n",
       "      <td>c</td>\n",
       "      <td>1</td>\n",
       "      <td>9</td>\n",
       "      <td>1</td>\n",
       "    </tr>\n",
       "    <tr>\n",
       "      <th>2013-01-01</th>\n",
       "      <td>396</td>\n",
       "      <td>2</td>\n",
       "      <td>0</td>\n",
       "      <td>0</td>\n",
       "      <td>0</td>\n",
       "      <td>0</td>\n",
       "      <td>a</td>\n",
       "      <td>1</td>\n",
       "      <td>a</td>\n",
       "      <td>c</td>\n",
       "      <td>24</td>\n",
       "      <td>8</td>\n",
       "      <td>0</td>\n",
       "    </tr>\n",
       "  </tbody>\n",
       "</table>\n",
       "</div>"
      ],
      "text/plain": [
       "            Store  DayOfWeek  is_weekend  Sales  Customers  Open StateHoliday  \\\n",
       "Date                                                                            \n",
       "2013-01-01   1115          2           0      0          0     0            a   \n",
       "2013-01-01    746          2           0      0          0     0            a   \n",
       "2013-01-01    171          2           0      0          0     0            a   \n",
       "2013-01-01    694          2           0      0          0     0            a   \n",
       "2013-01-01    396          2           0      0          0     0            a   \n",
       "\n",
       "            SchoolHoliday StoreType Assortment  CompetitionDistance_KM  \\\n",
       "Date                                                                     \n",
       "2013-01-01              1         d          c                       6   \n",
       "2013-01-01              1         d          c                       5   \n",
       "2013-01-01              1         a          a                       3   \n",
       "2013-01-01              1         a          c                       1   \n",
       "2013-01-01              1         a          c                      24   \n",
       "\n",
       "            Competition since years  Promo2  \n",
       "Date                                         \n",
       "2013-01-01                        8       1  \n",
       "2013-01-01                       10       1  \n",
       "2013-01-01                        8       0  \n",
       "2013-01-01                        9       1  \n",
       "2013-01-01                        8       0  "
      ]
     },
     "execution_count": 52,
     "metadata": {},
     "output_type": "execute_result"
    }
   ],
   "source": [
    "df.head()"
   ]
  },
  {
   "cell_type": "code",
   "execution_count": 53,
   "metadata": {},
   "outputs": [
    {
     "data": {
      "text/plain": [
       "Store                     -0.00095\n",
       "DayOfWeek                  0.00159\n",
       "is_weekend                 0.95494\n",
       "Sales                      0.64146\n",
       "Customers                  1.59865\n",
       "Open                      -1.75804\n",
       "SchoolHoliday              1.67784\n",
       "CompetitionDistance_KM     2.95391\n",
       "Competition since years    7.88466\n",
       "Promo2                    -0.00226\n",
       "dtype: float64"
      ]
     },
     "execution_count": 53,
     "metadata": {},
     "output_type": "execute_result"
    }
   ],
   "source": [
    "df.skew(axis = 0, skipna = True)     # Skewness of every variable"
   ]
  },
  {
   "cell_type": "raw",
   "metadata": {},
   "source": [
    "If the skewness is less than -1 or greater than 1, the data are highly skewed.\n",
    "So we need to correct them by using log transform for numerical columns(not zero columns because log(0)=inf)."
   ]
  },
  {
   "cell_type": "code",
   "execution_count": 54,
   "metadata": {},
   "outputs": [],
   "source": [
    "for i in ['CompetitionDistance_KM','Competition since years']:\n",
    "    df[i]=np.log10(df[i])"
   ]
  },
  {
   "cell_type": "code",
   "execution_count": 55,
   "metadata": {},
   "outputs": [
    {
     "data": {
      "text/html": [
       "<div>\n",
       "<style scoped>\n",
       "    .dataframe tbody tr th:only-of-type {\n",
       "        vertical-align: middle;\n",
       "    }\n",
       "\n",
       "    .dataframe tbody tr th {\n",
       "        vertical-align: top;\n",
       "    }\n",
       "\n",
       "    .dataframe thead th {\n",
       "        text-align: right;\n",
       "    }\n",
       "</style>\n",
       "<table border=\"1\" class=\"dataframe\">\n",
       "  <thead>\n",
       "    <tr style=\"text-align: right;\">\n",
       "      <th></th>\n",
       "      <th>Store</th>\n",
       "      <th>DayOfWeek</th>\n",
       "      <th>is_weekend</th>\n",
       "      <th>Sales</th>\n",
       "      <th>Customers</th>\n",
       "      <th>Open</th>\n",
       "      <th>StateHoliday</th>\n",
       "      <th>SchoolHoliday</th>\n",
       "      <th>StoreType</th>\n",
       "      <th>Assortment</th>\n",
       "      <th>CompetitionDistance_KM</th>\n",
       "      <th>Competition since years</th>\n",
       "      <th>Promo2</th>\n",
       "    </tr>\n",
       "    <tr>\n",
       "      <th>Date</th>\n",
       "      <th></th>\n",
       "      <th></th>\n",
       "      <th></th>\n",
       "      <th></th>\n",
       "      <th></th>\n",
       "      <th></th>\n",
       "      <th></th>\n",
       "      <th></th>\n",
       "      <th></th>\n",
       "      <th></th>\n",
       "      <th></th>\n",
       "      <th></th>\n",
       "      <th></th>\n",
       "    </tr>\n",
       "  </thead>\n",
       "  <tbody>\n",
       "    <tr>\n",
       "      <th>2013-01-01</th>\n",
       "      <td>1115</td>\n",
       "      <td>2</td>\n",
       "      <td>0</td>\n",
       "      <td>0</td>\n",
       "      <td>0</td>\n",
       "      <td>0</td>\n",
       "      <td>a</td>\n",
       "      <td>1</td>\n",
       "      <td>d</td>\n",
       "      <td>c</td>\n",
       "      <td>0.77815</td>\n",
       "      <td>0.90309</td>\n",
       "      <td>1</td>\n",
       "    </tr>\n",
       "    <tr>\n",
       "      <th>2013-01-01</th>\n",
       "      <td>746</td>\n",
       "      <td>2</td>\n",
       "      <td>0</td>\n",
       "      <td>0</td>\n",
       "      <td>0</td>\n",
       "      <td>0</td>\n",
       "      <td>a</td>\n",
       "      <td>1</td>\n",
       "      <td>d</td>\n",
       "      <td>c</td>\n",
       "      <td>0.69897</td>\n",
       "      <td>1.00000</td>\n",
       "      <td>1</td>\n",
       "    </tr>\n",
       "    <tr>\n",
       "      <th>2013-01-01</th>\n",
       "      <td>171</td>\n",
       "      <td>2</td>\n",
       "      <td>0</td>\n",
       "      <td>0</td>\n",
       "      <td>0</td>\n",
       "      <td>0</td>\n",
       "      <td>a</td>\n",
       "      <td>1</td>\n",
       "      <td>a</td>\n",
       "      <td>a</td>\n",
       "      <td>0.47712</td>\n",
       "      <td>0.90309</td>\n",
       "      <td>0</td>\n",
       "    </tr>\n",
       "    <tr>\n",
       "      <th>2013-01-01</th>\n",
       "      <td>694</td>\n",
       "      <td>2</td>\n",
       "      <td>0</td>\n",
       "      <td>0</td>\n",
       "      <td>0</td>\n",
       "      <td>0</td>\n",
       "      <td>a</td>\n",
       "      <td>1</td>\n",
       "      <td>a</td>\n",
       "      <td>c</td>\n",
       "      <td>0.00000</td>\n",
       "      <td>0.95424</td>\n",
       "      <td>1</td>\n",
       "    </tr>\n",
       "    <tr>\n",
       "      <th>2013-01-01</th>\n",
       "      <td>396</td>\n",
       "      <td>2</td>\n",
       "      <td>0</td>\n",
       "      <td>0</td>\n",
       "      <td>0</td>\n",
       "      <td>0</td>\n",
       "      <td>a</td>\n",
       "      <td>1</td>\n",
       "      <td>a</td>\n",
       "      <td>c</td>\n",
       "      <td>1.38021</td>\n",
       "      <td>0.90309</td>\n",
       "      <td>0</td>\n",
       "    </tr>\n",
       "  </tbody>\n",
       "</table>\n",
       "</div>"
      ],
      "text/plain": [
       "            Store  DayOfWeek  is_weekend  Sales  Customers  Open StateHoliday  \\\n",
       "Date                                                                            \n",
       "2013-01-01   1115          2           0      0          0     0            a   \n",
       "2013-01-01    746          2           0      0          0     0            a   \n",
       "2013-01-01    171          2           0      0          0     0            a   \n",
       "2013-01-01    694          2           0      0          0     0            a   \n",
       "2013-01-01    396          2           0      0          0     0            a   \n",
       "\n",
       "            SchoolHoliday StoreType Assortment  CompetitionDistance_KM  \\\n",
       "Date                                                                     \n",
       "2013-01-01              1         d          c                 0.77815   \n",
       "2013-01-01              1         d          c                 0.69897   \n",
       "2013-01-01              1         a          a                 0.47712   \n",
       "2013-01-01              1         a          c                 0.00000   \n",
       "2013-01-01              1         a          c                 1.38021   \n",
       "\n",
       "            Competition since years  Promo2  \n",
       "Date                                         \n",
       "2013-01-01                  0.90309       1  \n",
       "2013-01-01                  1.00000       1  \n",
       "2013-01-01                  0.90309       0  \n",
       "2013-01-01                  0.95424       1  \n",
       "2013-01-01                  0.90309       0  "
      ]
     },
     "execution_count": 55,
     "metadata": {},
     "output_type": "execute_result"
    }
   ],
   "source": [
    "df.head()"
   ]
  },
  {
   "cell_type": "code",
   "execution_count": 56,
   "metadata": {},
   "outputs": [
    {
     "data": {
      "text/plain": [
       "Store                     -0.00095\n",
       "DayOfWeek                  0.00159\n",
       "is_weekend                 0.95494\n",
       "Sales                      0.64146\n",
       "Customers                  1.59865\n",
       "Open                      -1.75804\n",
       "SchoolHoliday              1.67784\n",
       "CompetitionDistance_KM     0.47113\n",
       "Competition since years    1.04946\n",
       "Promo2                    -0.00226\n",
       "dtype: float64"
      ]
     },
     "execution_count": 56,
     "metadata": {},
     "output_type": "execute_result"
    }
   ],
   "source": [
    "df.skew(axis = 0, skipna = True)"
   ]
  },
  {
   "cell_type": "code",
   "execution_count": 57,
   "metadata": {},
   "outputs": [],
   "source": [
    "# we can see that skewness for CompetitionDistance_km,Competition since year has decreased a lot."
   ]
  },
  {
   "cell_type": "markdown",
   "metadata": {},
   "source": [
    "# Exploratory Data Analysis:"
   ]
  },
  {
   "cell_type": "markdown",
   "metadata": {},
   "source": [
    "## Univariate Analysis:"
   ]
  },
  {
   "cell_type": "code",
   "execution_count": 58,
   "metadata": {},
   "outputs": [
    {
     "data": {
      "text/html": [
       "<div>\n",
       "<style scoped>\n",
       "    .dataframe tbody tr th:only-of-type {\n",
       "        vertical-align: middle;\n",
       "    }\n",
       "\n",
       "    .dataframe tbody tr th {\n",
       "        vertical-align: top;\n",
       "    }\n",
       "\n",
       "    .dataframe thead th {\n",
       "        text-align: right;\n",
       "    }\n",
       "</style>\n",
       "<table border=\"1\" class=\"dataframe\">\n",
       "  <thead>\n",
       "    <tr style=\"text-align: right;\">\n",
       "      <th></th>\n",
       "      <th>Store</th>\n",
       "      <th>DayOfWeek</th>\n",
       "      <th>is_weekend</th>\n",
       "      <th>Sales</th>\n",
       "      <th>Customers</th>\n",
       "      <th>Open</th>\n",
       "      <th>StateHoliday</th>\n",
       "      <th>SchoolHoliday</th>\n",
       "      <th>StoreType</th>\n",
       "      <th>Assortment</th>\n",
       "      <th>CompetitionDistance_KM</th>\n",
       "      <th>Competition since years</th>\n",
       "      <th>Promo2</th>\n",
       "    </tr>\n",
       "    <tr>\n",
       "      <th>Date</th>\n",
       "      <th></th>\n",
       "      <th></th>\n",
       "      <th></th>\n",
       "      <th></th>\n",
       "      <th></th>\n",
       "      <th></th>\n",
       "      <th></th>\n",
       "      <th></th>\n",
       "      <th></th>\n",
       "      <th></th>\n",
       "      <th></th>\n",
       "      <th></th>\n",
       "      <th></th>\n",
       "    </tr>\n",
       "  </thead>\n",
       "  <tbody>\n",
       "    <tr>\n",
       "      <th>2013-01-01</th>\n",
       "      <td>1115</td>\n",
       "      <td>2</td>\n",
       "      <td>0</td>\n",
       "      <td>0</td>\n",
       "      <td>0</td>\n",
       "      <td>0</td>\n",
       "      <td>a</td>\n",
       "      <td>1</td>\n",
       "      <td>d</td>\n",
       "      <td>c</td>\n",
       "      <td>0.77815</td>\n",
       "      <td>0.90309</td>\n",
       "      <td>1</td>\n",
       "    </tr>\n",
       "    <tr>\n",
       "      <th>2013-01-01</th>\n",
       "      <td>746</td>\n",
       "      <td>2</td>\n",
       "      <td>0</td>\n",
       "      <td>0</td>\n",
       "      <td>0</td>\n",
       "      <td>0</td>\n",
       "      <td>a</td>\n",
       "      <td>1</td>\n",
       "      <td>d</td>\n",
       "      <td>c</td>\n",
       "      <td>0.69897</td>\n",
       "      <td>1.00000</td>\n",
       "      <td>1</td>\n",
       "    </tr>\n",
       "    <tr>\n",
       "      <th>2013-01-01</th>\n",
       "      <td>171</td>\n",
       "      <td>2</td>\n",
       "      <td>0</td>\n",
       "      <td>0</td>\n",
       "      <td>0</td>\n",
       "      <td>0</td>\n",
       "      <td>a</td>\n",
       "      <td>1</td>\n",
       "      <td>a</td>\n",
       "      <td>a</td>\n",
       "      <td>0.47712</td>\n",
       "      <td>0.90309</td>\n",
       "      <td>0</td>\n",
       "    </tr>\n",
       "    <tr>\n",
       "      <th>2013-01-01</th>\n",
       "      <td>694</td>\n",
       "      <td>2</td>\n",
       "      <td>0</td>\n",
       "      <td>0</td>\n",
       "      <td>0</td>\n",
       "      <td>0</td>\n",
       "      <td>a</td>\n",
       "      <td>1</td>\n",
       "      <td>a</td>\n",
       "      <td>c</td>\n",
       "      <td>0.00000</td>\n",
       "      <td>0.95424</td>\n",
       "      <td>1</td>\n",
       "    </tr>\n",
       "    <tr>\n",
       "      <th>2013-01-01</th>\n",
       "      <td>396</td>\n",
       "      <td>2</td>\n",
       "      <td>0</td>\n",
       "      <td>0</td>\n",
       "      <td>0</td>\n",
       "      <td>0</td>\n",
       "      <td>a</td>\n",
       "      <td>1</td>\n",
       "      <td>a</td>\n",
       "      <td>c</td>\n",
       "      <td>1.38021</td>\n",
       "      <td>0.90309</td>\n",
       "      <td>0</td>\n",
       "    </tr>\n",
       "  </tbody>\n",
       "</table>\n",
       "</div>"
      ],
      "text/plain": [
       "            Store  DayOfWeek  is_weekend  Sales  Customers  Open StateHoliday  \\\n",
       "Date                                                                            \n",
       "2013-01-01   1115          2           0      0          0     0            a   \n",
       "2013-01-01    746          2           0      0          0     0            a   \n",
       "2013-01-01    171          2           0      0          0     0            a   \n",
       "2013-01-01    694          2           0      0          0     0            a   \n",
       "2013-01-01    396          2           0      0          0     0            a   \n",
       "\n",
       "            SchoolHoliday StoreType Assortment  CompetitionDistance_KM  \\\n",
       "Date                                                                     \n",
       "2013-01-01              1         d          c                 0.77815   \n",
       "2013-01-01              1         d          c                 0.69897   \n",
       "2013-01-01              1         a          a                 0.47712   \n",
       "2013-01-01              1         a          c                 0.00000   \n",
       "2013-01-01              1         a          c                 1.38021   \n",
       "\n",
       "            Competition since years  Promo2  \n",
       "Date                                         \n",
       "2013-01-01                  0.90309       1  \n",
       "2013-01-01                  1.00000       1  \n",
       "2013-01-01                  0.90309       0  \n",
       "2013-01-01                  0.95424       1  \n",
       "2013-01-01                  0.90309       0  "
      ]
     },
     "execution_count": 58,
     "metadata": {},
     "output_type": "execute_result"
    }
   ],
   "source": [
    "df.head()"
   ]
  },
  {
   "cell_type": "code",
   "execution_count": 59,
   "metadata": {},
   "outputs": [
    {
     "data": {
      "image/png": "[encoded data removed]",
      "text/plain": [
       "<Figure size 576x576 with 1 Axes>"
      ]
     },
     "metadata": {
      "needs_background": "light"
     },
     "output_type": "display_data"
    }
   ],
   "source": [
    "# count plot is used for plotting unique values of column and their counts.\n",
    "plt.figure(figsize=[8,8])\n",
    "g=sns.countplot(x='StoreType',data=df)\n",
    "for p in g.patches:\n",
    "    g.annotate('{:.0f}'.format(p.get_height()),(p.get_x()+0.3,p.get_height()),ha='center',va='bottom',color='black',fontsize=14)\n",
    "plt.show()"
   ]
  },
  {
   "cell_type": "code",
   "execution_count": 60,
   "metadata": {},
   "outputs": [
    {
     "data": {
      "image/png": "[encoded data removed]",
      "text/plain": [
       "<Figure size 576x576 with 1 Axes>"
      ]
     },
     "metadata": {
      "needs_background": "light"
     },
     "output_type": "display_data"
    }
   ],
   "source": [
    "plt.figure(figsize=[8,8])\n",
    "g=sns.countplot(x='Assortment',data=df)\n",
    "for p in g.patches:\n",
    "    g.annotate('{:.0f}'.format(p.get_height()),(p.get_x()+0.3,p.get_height()),ha='center',va='bottom',color='black',fontsize=14)\n",
    "plt.show()"
   ]
  },
  {
   "cell_type": "code",
   "execution_count": 61,
   "metadata": {},
   "outputs": [
    {
     "data": {
      "image/png": "[encoded data removed]",
      "text/plain": [
       "<Figure size 576x576 with 1 Axes>"
      ]
     },
     "metadata": {
      "needs_background": "light"
     },
     "output_type": "display_data"
    }
   ],
   "source": [
    "plt.figure(figsize=[8,8])\n",
    "g=sns.countplot(x='StateHoliday',data=df)\n",
    "for p in g.patches:\n",
    "    g.annotate('{:.0f}'.format(p.get_height()),(p.get_x()+0.3,p.get_height()),ha='center',va='bottom',color='black',fontsize=14)\n",
    "plt.show()"
   ]
  },
  {
   "cell_type": "code",
   "execution_count": 62,
   "metadata": {},
   "outputs": [
    {
     "data": {
      "image/png": "[encoded data removed]",
      "text/plain": [
       "<Figure size 576x576 with 1 Axes>"
      ]
     },
     "metadata": {
      "needs_background": "light"
     },
     "output_type": "display_data"
    }
   ],
   "source": [
    "plt.figure(figsize=[8,8])\n",
    "g=sns.countplot(x='SchoolHoliday',data=df)\n",
    "for p in g.patches:\n",
    "    g.annotate('{:.0f}'.format(p.get_height()),(p.get_x()+0.3,p.get_height()),ha='center',va='bottom',color='black',fontsize=14)\n",
    "plt.show()"
   ]
  },
  {
   "cell_type": "markdown",
   "metadata": {},
   "source": [
    "## Bivariate Analysis:"
   ]
  },
  {
   "cell_type": "code",
   "execution_count": 63,
   "metadata": {},
   "outputs": [
    {
     "data": {
      "text/html": [
       "<div>\n",
       "<style scoped>\n",
       "    .dataframe tbody tr th:only-of-type {\n",
       "        vertical-align: middle;\n",
       "    }\n",
       "\n",
       "    .dataframe tbody tr th {\n",
       "        vertical-align: top;\n",
       "    }\n",
       "\n",
       "    .dataframe thead th {\n",
       "        text-align: right;\n",
       "    }\n",
       "</style>\n",
       "<table border=\"1\" class=\"dataframe\">\n",
       "  <thead>\n",
       "    <tr style=\"text-align: right;\">\n",
       "      <th></th>\n",
       "      <th>Store</th>\n",
       "      <th>DayOfWeek</th>\n",
       "      <th>is_weekend</th>\n",
       "      <th>Sales</th>\n",
       "      <th>Customers</th>\n",
       "      <th>Open</th>\n",
       "      <th>StateHoliday</th>\n",
       "      <th>SchoolHoliday</th>\n",
       "      <th>StoreType</th>\n",
       "      <th>Assortment</th>\n",
       "      <th>CompetitionDistance_KM</th>\n",
       "      <th>Competition since years</th>\n",
       "      <th>Promo2</th>\n",
       "    </tr>\n",
       "    <tr>\n",
       "      <th>Date</th>\n",
       "      <th></th>\n",
       "      <th></th>\n",
       "      <th></th>\n",
       "      <th></th>\n",
       "      <th></th>\n",
       "      <th></th>\n",
       "      <th></th>\n",
       "      <th></th>\n",
       "      <th></th>\n",
       "      <th></th>\n",
       "      <th></th>\n",
       "      <th></th>\n",
       "      <th></th>\n",
       "    </tr>\n",
       "  </thead>\n",
       "  <tbody>\n",
       "    <tr>\n",
       "      <th>2013-01-01</th>\n",
       "      <td>1115</td>\n",
       "      <td>2</td>\n",
       "      <td>0</td>\n",
       "      <td>0</td>\n",
       "      <td>0</td>\n",
       "      <td>0</td>\n",
       "      <td>a</td>\n",
       "      <td>1</td>\n",
       "      <td>d</td>\n",
       "      <td>c</td>\n",
       "      <td>0.77815</td>\n",
       "      <td>0.90309</td>\n",
       "      <td>1</td>\n",
       "    </tr>\n",
       "    <tr>\n",
       "      <th>2013-01-01</th>\n",
       "      <td>746</td>\n",
       "      <td>2</td>\n",
       "      <td>0</td>\n",
       "      <td>0</td>\n",
       "      <td>0</td>\n",
       "      <td>0</td>\n",
       "      <td>a</td>\n",
       "      <td>1</td>\n",
       "      <td>d</td>\n",
       "      <td>c</td>\n",
       "      <td>0.69897</td>\n",
       "      <td>1.00000</td>\n",
       "      <td>1</td>\n",
       "    </tr>\n",
       "    <tr>\n",
       "      <th>2013-01-01</th>\n",
       "      <td>171</td>\n",
       "      <td>2</td>\n",
       "      <td>0</td>\n",
       "      <td>0</td>\n",
       "      <td>0</td>\n",
       "      <td>0</td>\n",
       "      <td>a</td>\n",
       "      <td>1</td>\n",
       "      <td>a</td>\n",
       "      <td>a</td>\n",
       "      <td>0.47712</td>\n",
       "      <td>0.90309</td>\n",
       "      <td>0</td>\n",
       "    </tr>\n",
       "    <tr>\n",
       "      <th>2013-01-01</th>\n",
       "      <td>694</td>\n",
       "      <td>2</td>\n",
       "      <td>0</td>\n",
       "      <td>0</td>\n",
       "      <td>0</td>\n",
       "      <td>0</td>\n",
       "      <td>a</td>\n",
       "      <td>1</td>\n",
       "      <td>a</td>\n",
       "      <td>c</td>\n",
       "      <td>0.00000</td>\n",
       "      <td>0.95424</td>\n",
       "      <td>1</td>\n",
       "    </tr>\n",
       "    <tr>\n",
       "      <th>2013-01-01</th>\n",
       "      <td>396</td>\n",
       "      <td>2</td>\n",
       "      <td>0</td>\n",
       "      <td>0</td>\n",
       "      <td>0</td>\n",
       "      <td>0</td>\n",
       "      <td>a</td>\n",
       "      <td>1</td>\n",
       "      <td>a</td>\n",
       "      <td>c</td>\n",
       "      <td>1.38021</td>\n",
       "      <td>0.90309</td>\n",
       "      <td>0</td>\n",
       "    </tr>\n",
       "  </tbody>\n",
       "</table>\n",
       "</div>"
      ],
      "text/plain": [
       "            Store  DayOfWeek  is_weekend  Sales  Customers  Open StateHoliday  \\\n",
       "Date                                                                            \n",
       "2013-01-01   1115          2           0      0          0     0            a   \n",
       "2013-01-01    746          2           0      0          0     0            a   \n",
       "2013-01-01    171          2           0      0          0     0            a   \n",
       "2013-01-01    694          2           0      0          0     0            a   \n",
       "2013-01-01    396          2           0      0          0     0            a   \n",
       "\n",
       "            SchoolHoliday StoreType Assortment  CompetitionDistance_KM  \\\n",
       "Date                                                                     \n",
       "2013-01-01              1         d          c                 0.77815   \n",
       "2013-01-01              1         d          c                 0.69897   \n",
       "2013-01-01              1         a          a                 0.47712   \n",
       "2013-01-01              1         a          c                 0.00000   \n",
       "2013-01-01              1         a          c                 1.38021   \n",
       "\n",
       "            Competition since years  Promo2  \n",
       "Date                                         \n",
       "2013-01-01                  0.90309       1  \n",
       "2013-01-01                  1.00000       1  \n",
       "2013-01-01                  0.90309       0  \n",
       "2013-01-01                  0.95424       1  \n",
       "2013-01-01                  0.90309       0  "
      ]
     },
     "execution_count": 63,
     "metadata": {},
     "output_type": "execute_result"
    }
   ],
   "source": [
    "df.head()"
   ]
  },
  {
   "cell_type": "code",
   "execution_count": 64,
   "metadata": {
    "scrolled": true
   },
   "outputs": [
    {
     "data": {
      "image/png": "[encoded data removed]",
      "text/plain": [
       "<Figure size 432x288 with 1 Axes>"
      ]
     },
     "metadata": {
      "needs_background": "light"
     },
     "output_type": "display_data"
    }
   ],
   "source": [
    "sns.scatterplot(df['Sales'],df['Customers'])\n",
    "plt.show()"
   ]
  },
  {
   "cell_type": "code",
   "execution_count": 65,
   "metadata": {},
   "outputs": [
    {
     "data": {
      "image/png": "[encoded data removed]",
      "text/plain": [
       "<Figure size 432x288 with 1 Axes>"
      ]
     },
     "metadata": {
      "needs_background": "light"
     },
     "output_type": "display_data"
    }
   ],
   "source": [
    "sns.scatterplot(df['Sales'],df['CompetitionDistance_KM'])\n",
    "plt.show()"
   ]
  },
  {
   "cell_type": "code",
   "execution_count": 66,
   "metadata": {},
   "outputs": [
    {
     "data": {
      "image/png": "[encoded data removed]",
      "text/plain": [
       "<Figure size 432x288 with 1 Axes>"
      ]
     },
     "metadata": {
      "needs_background": "light"
     },
     "output_type": "display_data"
    }
   ],
   "source": [
    "sns.scatterplot(df['Sales'],df['Competition since years'])\n",
    "plt.show()"
   ]
  },
  {
   "cell_type": "code",
   "execution_count": 67,
   "metadata": {},
   "outputs": [],
   "source": [
    "# We can see that Customers variable has good linear relationship with Sales variable."
   ]
  },
  {
   "cell_type": "markdown",
   "metadata": {},
   "source": [
    "## Correlation Analysis"
   ]
  },
  {
   "cell_type": "code",
   "execution_count": 68,
   "metadata": {},
   "outputs": [
    {
     "data": {
      "image/png": "[encoded data removed]",
      "text/plain": [
       "<Figure size 864x720 with 2 Axes>"
      ]
     },
     "metadata": {
      "needs_background": "light"
     },
     "output_type": "display_data"
    }
   ],
   "source": [
    "plt.figure(figsize=[12,10])\n",
    "sns.heatmap(df.corr(),annot=True,cmap='Greens')\n",
    "plt.show()"
   ]
  },
  {
   "cell_type": "code",
   "execution_count": 69,
   "metadata": {},
   "outputs": [],
   "source": [
    "# We can see that Sales column has good correlation with Customers,DayOfWeek,is_weekend,Open variables."
   ]
  },
  {
   "cell_type": "markdown",
   "metadata": {},
   "source": [
    "# Store 1:"
   ]
  },
  {
   "cell_type": "code",
   "execution_count": 70,
   "metadata": {},
   "outputs": [
    {
     "data": {
      "text/html": [
       "<div>\n",
       "<style scoped>\n",
       "    .dataframe tbody tr th:only-of-type {\n",
       "        vertical-align: middle;\n",
       "    }\n",
       "\n",
       "    .dataframe tbody tr th {\n",
       "        vertical-align: top;\n",
       "    }\n",
       "\n",
       "    .dataframe thead th {\n",
       "        text-align: right;\n",
       "    }\n",
       "</style>\n",
       "<table border=\"1\" class=\"dataframe\">\n",
       "  <thead>\n",
       "    <tr style=\"text-align: right;\">\n",
       "      <th></th>\n",
       "      <th>Store</th>\n",
       "      <th>DayOfWeek</th>\n",
       "      <th>is_weekend</th>\n",
       "      <th>Sales</th>\n",
       "      <th>Customers</th>\n",
       "      <th>Open</th>\n",
       "      <th>StateHoliday</th>\n",
       "      <th>SchoolHoliday</th>\n",
       "      <th>StoreType</th>\n",
       "      <th>Assortment</th>\n",
       "      <th>CompetitionDistance_KM</th>\n",
       "      <th>Competition since years</th>\n",
       "      <th>Promo2</th>\n",
       "    </tr>\n",
       "    <tr>\n",
       "      <th>Date</th>\n",
       "      <th></th>\n",
       "      <th></th>\n",
       "      <th></th>\n",
       "      <th></th>\n",
       "      <th></th>\n",
       "      <th></th>\n",
       "      <th></th>\n",
       "      <th></th>\n",
       "      <th></th>\n",
       "      <th></th>\n",
       "      <th></th>\n",
       "      <th></th>\n",
       "      <th></th>\n",
       "    </tr>\n",
       "  </thead>\n",
       "  <tbody>\n",
       "    <tr>\n",
       "      <th>2013-01-01</th>\n",
       "      <td>1</td>\n",
       "      <td>2</td>\n",
       "      <td>0</td>\n",
       "      <td>0</td>\n",
       "      <td>0</td>\n",
       "      <td>0</td>\n",
       "      <td>a</td>\n",
       "      <td>1</td>\n",
       "      <td>c</td>\n",
       "      <td>a</td>\n",
       "      <td>0.30103</td>\n",
       "      <td>1.11394</td>\n",
       "      <td>0</td>\n",
       "    </tr>\n",
       "    <tr>\n",
       "      <th>2013-01-02</th>\n",
       "      <td>1</td>\n",
       "      <td>3</td>\n",
       "      <td>0</td>\n",
       "      <td>5530</td>\n",
       "      <td>668</td>\n",
       "      <td>1</td>\n",
       "      <td>0</td>\n",
       "      <td>1</td>\n",
       "      <td>c</td>\n",
       "      <td>a</td>\n",
       "      <td>0.30103</td>\n",
       "      <td>1.11394</td>\n",
       "      <td>0</td>\n",
       "    </tr>\n",
       "    <tr>\n",
       "      <th>2013-01-03</th>\n",
       "      <td>1</td>\n",
       "      <td>4</td>\n",
       "      <td>0</td>\n",
       "      <td>4327</td>\n",
       "      <td>578</td>\n",
       "      <td>1</td>\n",
       "      <td>0</td>\n",
       "      <td>1</td>\n",
       "      <td>c</td>\n",
       "      <td>a</td>\n",
       "      <td>0.30103</td>\n",
       "      <td>1.11394</td>\n",
       "      <td>0</td>\n",
       "    </tr>\n",
       "    <tr>\n",
       "      <th>2013-01-04</th>\n",
       "      <td>1</td>\n",
       "      <td>5</td>\n",
       "      <td>0</td>\n",
       "      <td>4486</td>\n",
       "      <td>619</td>\n",
       "      <td>1</td>\n",
       "      <td>0</td>\n",
       "      <td>1</td>\n",
       "      <td>c</td>\n",
       "      <td>a</td>\n",
       "      <td>0.30103</td>\n",
       "      <td>1.11394</td>\n",
       "      <td>0</td>\n",
       "    </tr>\n",
       "    <tr>\n",
       "      <th>2013-01-05</th>\n",
       "      <td>1</td>\n",
       "      <td>6</td>\n",
       "      <td>1</td>\n",
       "      <td>4997</td>\n",
       "      <td>635</td>\n",
       "      <td>1</td>\n",
       "      <td>0</td>\n",
       "      <td>1</td>\n",
       "      <td>c</td>\n",
       "      <td>a</td>\n",
       "      <td>0.30103</td>\n",
       "      <td>1.11394</td>\n",
       "      <td>0</td>\n",
       "    </tr>\n",
       "  </tbody>\n",
       "</table>\n",
       "</div>"
      ],
      "text/plain": [
       "            Store  DayOfWeek  is_weekend  Sales  Customers  Open StateHoliday  \\\n",
       "Date                                                                            \n",
       "2013-01-01      1          2           0      0          0     0            a   \n",
       "2013-01-02      1          3           0   5530        668     1            0   \n",
       "2013-01-03      1          4           0   4327        578     1            0   \n",
       "2013-01-04      1          5           0   4486        619     1            0   \n",
       "2013-01-05      1          6           1   4997        635     1            0   \n",
       "\n",
       "            SchoolHoliday StoreType Assortment  CompetitionDistance_KM  \\\n",
       "Date                                                                     \n",
       "2013-01-01              1         c          a                 0.30103   \n",
       "2013-01-02              1         c          a                 0.30103   \n",
       "2013-01-03              1         c          a                 0.30103   \n",
       "2013-01-04              1         c          a                 0.30103   \n",
       "2013-01-05              1         c          a                 0.30103   \n",
       "\n",
       "            Competition since years  Promo2  \n",
       "Date                                         \n",
       "2013-01-01                  1.11394       0  \n",
       "2013-01-02                  1.11394       0  \n",
       "2013-01-03                  1.11394       0  \n",
       "2013-01-04                  1.11394       0  \n",
       "2013-01-05                  1.11394       0  "
      ]
     },
     "execution_count": 70,
     "metadata": {},
     "output_type": "execute_result"
    }
   ],
   "source": [
    "df_1=df[df['Store']==1]\n",
    "df_1.head()"
   ]
  },
  {
   "cell_type": "code",
   "execution_count": 71,
   "metadata": {},
   "outputs": [
    {
     "data": {
      "text/plain": [
       "(942, 13)"
      ]
     },
     "execution_count": 71,
     "metadata": {},
     "output_type": "execute_result"
    }
   ],
   "source": [
    "df_1.shape"
   ]
  },
  {
   "cell_type": "markdown",
   "metadata": {},
   "source": [
    "## Outlier Analysis:"
   ]
  },
  {
   "cell_type": "code",
   "execution_count": 72,
   "metadata": {},
   "outputs": [],
   "source": [
    "#Here we perform outlier analysis for sales and customers variables."
   ]
  },
  {
   "cell_type": "code",
   "execution_count": 73,
   "metadata": {},
   "outputs": [
    {
     "data": {
      "image/png": "[encoded data removed]",
      "text/plain": [
       "<Figure size 720x576 with 2 Axes>"
      ]
     },
     "metadata": {
      "needs_background": "light"
     },
     "output_type": "display_data"
    }
   ],
   "source": [
    "plt.figure(figsize=[10,8])\n",
    "plt.subplot(1,2,1)\n",
    "ax=sns.boxplot(df_1['Sales'])\n",
    "plt.subplot(1,2,2)\n",
    "ax=sns.boxplot(df_1['Customers'])"
   ]
  },
  {
   "cell_type": "code",
   "execution_count": 74,
   "metadata": {},
   "outputs": [],
   "source": [
    "# We need to cap the outliers to their 99 percentile value.\n",
    "df_1['Sales']=df_1['Sales'].clip(lower=df_1['Sales'].min(),upper=df_1['Sales'].quantile(0.99))\n",
    "df_1['Customers']=df_1['Customers'].clip(lower=df_1['Customers'].min(),upper=df_1['Customers'].quantile(0.99))"
   ]
  },
  {
   "cell_type": "code",
   "execution_count": 75,
   "metadata": {},
   "outputs": [
    {
     "data": {
      "image/png": "[encoded data removed]",
      "text/plain": [
       "<Figure size 720x576 with 2 Axes>"
      ]
     },
     "metadata": {
      "needs_background": "light"
     },
     "output_type": "display_data"
    }
   ],
   "source": [
    "plt.figure(figsize=[10,8])\n",
    "plt.subplot(1,2,1)\n",
    "ax=sns.boxplot(df_1['Sales'])\n",
    "plt.subplot(1,2,2)\n",
    "ax=sns.boxplot(df_1['Customers'])"
   ]
  },
  {
   "cell_type": "code",
   "execution_count": 76,
   "metadata": {},
   "outputs": [],
   "source": [
    "# We can see that outliers are minimized."
   ]
  },
  {
   "cell_type": "markdown",
   "metadata": {},
   "source": [
    "## Null value handling:"
   ]
  },
  {
   "cell_type": "code",
   "execution_count": 77,
   "metadata": {},
   "outputs": [],
   "source": [
    "# If Sales/Customers value ==0 consider them as 0.\n",
    "df_1['Sales']=df_1['Sales'].apply(lambda x:np.nan if x==0 else x)\n",
    "df_1['Customers']=df_1['Customers'].apply(lambda x:np.nan if x==0 else x)"
   ]
  },
  {
   "cell_type": "code",
   "execution_count": 78,
   "metadata": {},
   "outputs": [
    {
     "data": {
      "text/plain": [
       "Sales        161\n",
       "Customers    161\n",
       "dtype: int64"
      ]
     },
     "execution_count": 78,
     "metadata": {},
     "output_type": "execute_result"
    }
   ],
   "source": [
    "df_1[['Sales','Customers']].isnull().sum()"
   ]
  },
  {
   "cell_type": "code",
   "execution_count": 79,
   "metadata": {},
   "outputs": [],
   "source": [
    "# Since we have capped the outliers we can use mean for imputation."
   ]
  },
  {
   "cell_type": "markdown",
   "metadata": {},
   "source": [
    "### Mean imputation:"
   ]
  },
  {
   "cell_type": "code",
   "execution_count": 80,
   "metadata": {},
   "outputs": [
    {
     "data": {
      "image/png": "[encoded data removed]",
      "text/plain": [
       "<Figure size 1080x360 with 1 Axes>"
      ]
     },
     "metadata": {
      "needs_background": "light"
     },
     "output_type": "display_data"
    }
   ],
   "source": [
    "df_1.insert(4,'Sales_Mean_Imputation',df_1.Sales.fillna(df_1.Sales.mean()))\n",
    "df_1[['Sales_Mean_Imputation']].plot(figsize=(15, 5))\n",
    "plt.legend(loc='best')\n",
    "plt.title('Sales: Mean imputation')\n",
    "plt.show()"
   ]
  },
  {
   "cell_type": "code",
   "execution_count": 81,
   "metadata": {},
   "outputs": [
    {
     "data": {
      "text/html": [
       "<div>\n",
       "<style scoped>\n",
       "    .dataframe tbody tr th:only-of-type {\n",
       "        vertical-align: middle;\n",
       "    }\n",
       "\n",
       "    .dataframe tbody tr th {\n",
       "        vertical-align: top;\n",
       "    }\n",
       "\n",
       "    .dataframe thead th {\n",
       "        text-align: right;\n",
       "    }\n",
       "</style>\n",
       "<table border=\"1\" class=\"dataframe\">\n",
       "  <thead>\n",
       "    <tr style=\"text-align: right;\">\n",
       "      <th></th>\n",
       "      <th>Store</th>\n",
       "      <th>DayOfWeek</th>\n",
       "      <th>is_weekend</th>\n",
       "      <th>Sales</th>\n",
       "      <th>Sales_Mean_Imputation</th>\n",
       "      <th>Customers</th>\n",
       "      <th>Open</th>\n",
       "      <th>StateHoliday</th>\n",
       "      <th>SchoolHoliday</th>\n",
       "      <th>StoreType</th>\n",
       "      <th>Assortment</th>\n",
       "      <th>CompetitionDistance_KM</th>\n",
       "      <th>Competition since years</th>\n",
       "      <th>Promo2</th>\n",
       "    </tr>\n",
       "    <tr>\n",
       "      <th>Date</th>\n",
       "      <th></th>\n",
       "      <th></th>\n",
       "      <th></th>\n",
       "      <th></th>\n",
       "      <th></th>\n",
       "      <th></th>\n",
       "      <th></th>\n",
       "      <th></th>\n",
       "      <th></th>\n",
       "      <th></th>\n",
       "      <th></th>\n",
       "      <th></th>\n",
       "      <th></th>\n",
       "      <th></th>\n",
       "    </tr>\n",
       "  </thead>\n",
       "  <tbody>\n",
       "    <tr>\n",
       "      <th>2013-01-01</th>\n",
       "      <td>1</td>\n",
       "      <td>2</td>\n",
       "      <td>0</td>\n",
       "      <td>NaN</td>\n",
       "      <td>4,751.87503</td>\n",
       "      <td>NaN</td>\n",
       "      <td>0</td>\n",
       "      <td>a</td>\n",
       "      <td>1</td>\n",
       "      <td>c</td>\n",
       "      <td>a</td>\n",
       "      <td>0.30103</td>\n",
       "      <td>1.11394</td>\n",
       "      <td>0</td>\n",
       "    </tr>\n",
       "    <tr>\n",
       "      <th>2013-01-02</th>\n",
       "      <td>1</td>\n",
       "      <td>3</td>\n",
       "      <td>0</td>\n",
       "      <td>5,530.00000</td>\n",
       "      <td>5,530.00000</td>\n",
       "      <td>668.00000</td>\n",
       "      <td>1</td>\n",
       "      <td>0</td>\n",
       "      <td>1</td>\n",
       "      <td>c</td>\n",
       "      <td>a</td>\n",
       "      <td>0.30103</td>\n",
       "      <td>1.11394</td>\n",
       "      <td>0</td>\n",
       "    </tr>\n",
       "    <tr>\n",
       "      <th>2013-01-03</th>\n",
       "      <td>1</td>\n",
       "      <td>4</td>\n",
       "      <td>0</td>\n",
       "      <td>4,327.00000</td>\n",
       "      <td>4,327.00000</td>\n",
       "      <td>578.00000</td>\n",
       "      <td>1</td>\n",
       "      <td>0</td>\n",
       "      <td>1</td>\n",
       "      <td>c</td>\n",
       "      <td>a</td>\n",
       "      <td>0.30103</td>\n",
       "      <td>1.11394</td>\n",
       "      <td>0</td>\n",
       "    </tr>\n",
       "    <tr>\n",
       "      <th>2013-01-04</th>\n",
       "      <td>1</td>\n",
       "      <td>5</td>\n",
       "      <td>0</td>\n",
       "      <td>4,486.00000</td>\n",
       "      <td>4,486.00000</td>\n",
       "      <td>619.00000</td>\n",
       "      <td>1</td>\n",
       "      <td>0</td>\n",
       "      <td>1</td>\n",
       "      <td>c</td>\n",
       "      <td>a</td>\n",
       "      <td>0.30103</td>\n",
       "      <td>1.11394</td>\n",
       "      <td>0</td>\n",
       "    </tr>\n",
       "    <tr>\n",
       "      <th>2013-01-05</th>\n",
       "      <td>1</td>\n",
       "      <td>6</td>\n",
       "      <td>1</td>\n",
       "      <td>4,997.00000</td>\n",
       "      <td>4,997.00000</td>\n",
       "      <td>635.00000</td>\n",
       "      <td>1</td>\n",
       "      <td>0</td>\n",
       "      <td>1</td>\n",
       "      <td>c</td>\n",
       "      <td>a</td>\n",
       "      <td>0.30103</td>\n",
       "      <td>1.11394</td>\n",
       "      <td>0</td>\n",
       "    </tr>\n",
       "  </tbody>\n",
       "</table>\n",
       "</div>"
      ],
      "text/plain": [
       "            Store  DayOfWeek  is_weekend       Sales  Sales_Mean_Imputation  \\\n",
       "Date                                                                          \n",
       "2013-01-01      1          2           0         NaN            4,751.87503   \n",
       "2013-01-02      1          3           0 5,530.00000            5,530.00000   \n",
       "2013-01-03      1          4           0 4,327.00000            4,327.00000   \n",
       "2013-01-04      1          5           0 4,486.00000            4,486.00000   \n",
       "2013-01-05      1          6           1 4,997.00000            4,997.00000   \n",
       "\n",
       "            Customers  Open StateHoliday  SchoolHoliday StoreType Assortment  \\\n",
       "Date                                                                           \n",
       "2013-01-01        NaN     0            a              1         c          a   \n",
       "2013-01-02  668.00000     1            0              1         c          a   \n",
       "2013-01-03  578.00000     1            0              1         c          a   \n",
       "2013-01-04  619.00000     1            0              1         c          a   \n",
       "2013-01-05  635.00000     1            0              1         c          a   \n",
       "\n",
       "            CompetitionDistance_KM  Competition since years  Promo2  \n",
       "Date                                                                 \n",
       "2013-01-01                 0.30103                  1.11394       0  \n",
       "2013-01-02                 0.30103                  1.11394       0  \n",
       "2013-01-03                 0.30103                  1.11394       0  \n",
       "2013-01-04                 0.30103                  1.11394       0  \n",
       "2013-01-05                 0.30103                  1.11394       0  "
      ]
     },
     "execution_count": 81,
     "metadata": {},
     "output_type": "execute_result"
    }
   ],
   "source": [
    "df_1.head()"
   ]
  },
  {
   "cell_type": "raw",
   "metadata": {},
   "source": [
    "# since mean imputation is preferable we will drop sales and rename sales mean imputation as sales."
   ]
  },
  {
   "cell_type": "code",
   "execution_count": 82,
   "metadata": {},
   "outputs": [],
   "source": [
    "df_1.drop(['Sales'],axis=1,inplace=True)\n",
    "df_1.rename(columns={'Sales_Mean_Imputation':'Sales'},inplace=True)"
   ]
  },
  {
   "cell_type": "code",
   "execution_count": 83,
   "metadata": {},
   "outputs": [
    {
     "data": {
      "text/html": [
       "<div>\n",
       "<style scoped>\n",
       "    .dataframe tbody tr th:only-of-type {\n",
       "        vertical-align: middle;\n",
       "    }\n",
       "\n",
       "    .dataframe tbody tr th {\n",
       "        vertical-align: top;\n",
       "    }\n",
       "\n",
       "    .dataframe thead th {\n",
       "        text-align: right;\n",
       "    }\n",
       "</style>\n",
       "<table border=\"1\" class=\"dataframe\">\n",
       "  <thead>\n",
       "    <tr style=\"text-align: right;\">\n",
       "      <th></th>\n",
       "      <th>Store</th>\n",
       "      <th>DayOfWeek</th>\n",
       "      <th>is_weekend</th>\n",
       "      <th>Sales</th>\n",
       "      <th>Customers</th>\n",
       "      <th>Open</th>\n",
       "      <th>StateHoliday</th>\n",
       "      <th>SchoolHoliday</th>\n",
       "      <th>StoreType</th>\n",
       "      <th>Assortment</th>\n",
       "      <th>CompetitionDistance_KM</th>\n",
       "      <th>Competition since years</th>\n",
       "      <th>Promo2</th>\n",
       "    </tr>\n",
       "    <tr>\n",
       "      <th>Date</th>\n",
       "      <th></th>\n",
       "      <th></th>\n",
       "      <th></th>\n",
       "      <th></th>\n",
       "      <th></th>\n",
       "      <th></th>\n",
       "      <th></th>\n",
       "      <th></th>\n",
       "      <th></th>\n",
       "      <th></th>\n",
       "      <th></th>\n",
       "      <th></th>\n",
       "      <th></th>\n",
       "    </tr>\n",
       "  </thead>\n",
       "  <tbody>\n",
       "    <tr>\n",
       "      <th>2013-01-01</th>\n",
       "      <td>1</td>\n",
       "      <td>2</td>\n",
       "      <td>0</td>\n",
       "      <td>4,751.87503</td>\n",
       "      <td>NaN</td>\n",
       "      <td>0</td>\n",
       "      <td>a</td>\n",
       "      <td>1</td>\n",
       "      <td>c</td>\n",
       "      <td>a</td>\n",
       "      <td>0.30103</td>\n",
       "      <td>1.11394</td>\n",
       "      <td>0</td>\n",
       "    </tr>\n",
       "    <tr>\n",
       "      <th>2013-01-02</th>\n",
       "      <td>1</td>\n",
       "      <td>3</td>\n",
       "      <td>0</td>\n",
       "      <td>5,530.00000</td>\n",
       "      <td>668.00000</td>\n",
       "      <td>1</td>\n",
       "      <td>0</td>\n",
       "      <td>1</td>\n",
       "      <td>c</td>\n",
       "      <td>a</td>\n",
       "      <td>0.30103</td>\n",
       "      <td>1.11394</td>\n",
       "      <td>0</td>\n",
       "    </tr>\n",
       "    <tr>\n",
       "      <th>2013-01-03</th>\n",
       "      <td>1</td>\n",
       "      <td>4</td>\n",
       "      <td>0</td>\n",
       "      <td>4,327.00000</td>\n",
       "      <td>578.00000</td>\n",
       "      <td>1</td>\n",
       "      <td>0</td>\n",
       "      <td>1</td>\n",
       "      <td>c</td>\n",
       "      <td>a</td>\n",
       "      <td>0.30103</td>\n",
       "      <td>1.11394</td>\n",
       "      <td>0</td>\n",
       "    </tr>\n",
       "    <tr>\n",
       "      <th>2013-01-04</th>\n",
       "      <td>1</td>\n",
       "      <td>5</td>\n",
       "      <td>0</td>\n",
       "      <td>4,486.00000</td>\n",
       "      <td>619.00000</td>\n",
       "      <td>1</td>\n",
       "      <td>0</td>\n",
       "      <td>1</td>\n",
       "      <td>c</td>\n",
       "      <td>a</td>\n",
       "      <td>0.30103</td>\n",
       "      <td>1.11394</td>\n",
       "      <td>0</td>\n",
       "    </tr>\n",
       "    <tr>\n",
       "      <th>2013-01-05</th>\n",
       "      <td>1</td>\n",
       "      <td>6</td>\n",
       "      <td>1</td>\n",
       "      <td>4,997.00000</td>\n",
       "      <td>635.00000</td>\n",
       "      <td>1</td>\n",
       "      <td>0</td>\n",
       "      <td>1</td>\n",
       "      <td>c</td>\n",
       "      <td>a</td>\n",
       "      <td>0.30103</td>\n",
       "      <td>1.11394</td>\n",
       "      <td>0</td>\n",
       "    </tr>\n",
       "  </tbody>\n",
       "</table>\n",
       "</div>"
      ],
      "text/plain": [
       "            Store  DayOfWeek  is_weekend       Sales  Customers  Open  \\\n",
       "Date                                                                    \n",
       "2013-01-01      1          2           0 4,751.87503        NaN     0   \n",
       "2013-01-02      1          3           0 5,530.00000  668.00000     1   \n",
       "2013-01-03      1          4           0 4,327.00000  578.00000     1   \n",
       "2013-01-04      1          5           0 4,486.00000  619.00000     1   \n",
       "2013-01-05      1          6           1 4,997.00000  635.00000     1   \n",
       "\n",
       "           StateHoliday  SchoolHoliday StoreType Assortment  \\\n",
       "Date                                                          \n",
       "2013-01-01            a              1         c          a   \n",
       "2013-01-02            0              1         c          a   \n",
       "2013-01-03            0              1         c          a   \n",
       "2013-01-04            0              1         c          a   \n",
       "2013-01-05            0              1         c          a   \n",
       "\n",
       "            CompetitionDistance_KM  Competition since years  Promo2  \n",
       "Date                                                                 \n",
       "2013-01-01                 0.30103                  1.11394       0  \n",
       "2013-01-02                 0.30103                  1.11394       0  \n",
       "2013-01-03                 0.30103                  1.11394       0  \n",
       "2013-01-04                 0.30103                  1.11394       0  \n",
       "2013-01-05                 0.30103                  1.11394       0  "
      ]
     },
     "execution_count": 83,
     "metadata": {},
     "output_type": "execute_result"
    }
   ],
   "source": [
    "df_1.head()"
   ]
  },
  {
   "cell_type": "code",
   "execution_count": 84,
   "metadata": {},
   "outputs": [
    {
     "data": {
      "image/png": "[encoded data removed]",
      "text/plain": [
       "<Figure size 1080x360 with 1 Axes>"
      ]
     },
     "metadata": {
      "needs_background": "light"
     },
     "output_type": "display_data"
    }
   ],
   "source": [
    "# Do the same mean imputation for Customers variable\n",
    "df_1.insert(5,'Customers_Mean_Imputation',df_1.Customers.fillna(df_1.Customers.mean()))\n",
    "df_1[['Customers_Mean_Imputation']].plot(figsize=(15, 5))\n",
    "plt.legend(loc='best')\n",
    "plt.title('Customers: Mean imputation')\n",
    "plt.show()"
   ]
  },
  {
   "cell_type": "code",
   "execution_count": 85,
   "metadata": {},
   "outputs": [],
   "source": [
    "df_1.drop(['Customers'],axis=1,inplace=True)\n",
    "df_1.rename(columns={'Customers_Mean_Imputation':'Customers'},inplace=True)"
   ]
  },
  {
   "cell_type": "code",
   "execution_count": 86,
   "metadata": {},
   "outputs": [
    {
     "data": {
      "text/html": [
       "<div>\n",
       "<style scoped>\n",
       "    .dataframe tbody tr th:only-of-type {\n",
       "        vertical-align: middle;\n",
       "    }\n",
       "\n",
       "    .dataframe tbody tr th {\n",
       "        vertical-align: top;\n",
       "    }\n",
       "\n",
       "    .dataframe thead th {\n",
       "        text-align: right;\n",
       "    }\n",
       "</style>\n",
       "<table border=\"1\" class=\"dataframe\">\n",
       "  <thead>\n",
       "    <tr style=\"text-align: right;\">\n",
       "      <th></th>\n",
       "      <th>Store</th>\n",
       "      <th>DayOfWeek</th>\n",
       "      <th>is_weekend</th>\n",
       "      <th>Sales</th>\n",
       "      <th>Customers</th>\n",
       "      <th>Open</th>\n",
       "      <th>StateHoliday</th>\n",
       "      <th>SchoolHoliday</th>\n",
       "      <th>StoreType</th>\n",
       "      <th>Assortment</th>\n",
       "      <th>CompetitionDistance_KM</th>\n",
       "      <th>Competition since years</th>\n",
       "      <th>Promo2</th>\n",
       "    </tr>\n",
       "    <tr>\n",
       "      <th>Date</th>\n",
       "      <th></th>\n",
       "      <th></th>\n",
       "      <th></th>\n",
       "      <th></th>\n",
       "      <th></th>\n",
       "      <th></th>\n",
       "      <th></th>\n",
       "      <th></th>\n",
       "      <th></th>\n",
       "      <th></th>\n",
       "      <th></th>\n",
       "      <th></th>\n",
       "      <th></th>\n",
       "    </tr>\n",
       "  </thead>\n",
       "  <tbody>\n",
       "    <tr>\n",
       "      <th>2013-01-01</th>\n",
       "      <td>1</td>\n",
       "      <td>2</td>\n",
       "      <td>0</td>\n",
       "      <td>4751</td>\n",
       "      <td>562</td>\n",
       "      <td>0</td>\n",
       "      <td>a</td>\n",
       "      <td>1</td>\n",
       "      <td>c</td>\n",
       "      <td>a</td>\n",
       "      <td>0.30103</td>\n",
       "      <td>1.11394</td>\n",
       "      <td>0</td>\n",
       "    </tr>\n",
       "    <tr>\n",
       "      <th>2013-01-02</th>\n",
       "      <td>1</td>\n",
       "      <td>3</td>\n",
       "      <td>0</td>\n",
       "      <td>5530</td>\n",
       "      <td>668</td>\n",
       "      <td>1</td>\n",
       "      <td>0</td>\n",
       "      <td>1</td>\n",
       "      <td>c</td>\n",
       "      <td>a</td>\n",
       "      <td>0.30103</td>\n",
       "      <td>1.11394</td>\n",
       "      <td>0</td>\n",
       "    </tr>\n",
       "    <tr>\n",
       "      <th>2013-01-03</th>\n",
       "      <td>1</td>\n",
       "      <td>4</td>\n",
       "      <td>0</td>\n",
       "      <td>4327</td>\n",
       "      <td>578</td>\n",
       "      <td>1</td>\n",
       "      <td>0</td>\n",
       "      <td>1</td>\n",
       "      <td>c</td>\n",
       "      <td>a</td>\n",
       "      <td>0.30103</td>\n",
       "      <td>1.11394</td>\n",
       "      <td>0</td>\n",
       "    </tr>\n",
       "    <tr>\n",
       "      <th>2013-01-04</th>\n",
       "      <td>1</td>\n",
       "      <td>5</td>\n",
       "      <td>0</td>\n",
       "      <td>4486</td>\n",
       "      <td>619</td>\n",
       "      <td>1</td>\n",
       "      <td>0</td>\n",
       "      <td>1</td>\n",
       "      <td>c</td>\n",
       "      <td>a</td>\n",
       "      <td>0.30103</td>\n",
       "      <td>1.11394</td>\n",
       "      <td>0</td>\n",
       "    </tr>\n",
       "    <tr>\n",
       "      <th>2013-01-05</th>\n",
       "      <td>1</td>\n",
       "      <td>6</td>\n",
       "      <td>1</td>\n",
       "      <td>4997</td>\n",
       "      <td>635</td>\n",
       "      <td>1</td>\n",
       "      <td>0</td>\n",
       "      <td>1</td>\n",
       "      <td>c</td>\n",
       "      <td>a</td>\n",
       "      <td>0.30103</td>\n",
       "      <td>1.11394</td>\n",
       "      <td>0</td>\n",
       "    </tr>\n",
       "  </tbody>\n",
       "</table>\n",
       "</div>"
      ],
      "text/plain": [
       "            Store  DayOfWeek  is_weekend  Sales  Customers  Open StateHoliday  \\\n",
       "Date                                                                            \n",
       "2013-01-01      1          2           0   4751        562     0            a   \n",
       "2013-01-02      1          3           0   5530        668     1            0   \n",
       "2013-01-03      1          4           0   4327        578     1            0   \n",
       "2013-01-04      1          5           0   4486        619     1            0   \n",
       "2013-01-05      1          6           1   4997        635     1            0   \n",
       "\n",
       "            SchoolHoliday StoreType Assortment  CompetitionDistance_KM  \\\n",
       "Date                                                                     \n",
       "2013-01-01              1         c          a                 0.30103   \n",
       "2013-01-02              1         c          a                 0.30103   \n",
       "2013-01-03              1         c          a                 0.30103   \n",
       "2013-01-04              1         c          a                 0.30103   \n",
       "2013-01-05              1         c          a                 0.30103   \n",
       "\n",
       "            Competition since years  Promo2  \n",
       "Date                                         \n",
       "2013-01-01                  1.11394       0  \n",
       "2013-01-02                  1.11394       0  \n",
       "2013-01-03                  1.11394       0  \n",
       "2013-01-04                  1.11394       0  \n",
       "2013-01-05                  1.11394       0  "
      ]
     },
     "execution_count": 86,
     "metadata": {},
     "output_type": "execute_result"
    }
   ],
   "source": [
    "# convert both sales and customers to int\n",
    "df_1['Sales']=df_1['Sales'].astype('int64')\n",
    "df_1['Customers']=df_1['Customers'].astype('int64')\n",
    "df_1.head()"
   ]
  },
  {
   "cell_type": "markdown",
   "metadata": {},
   "source": [
    "## Train-Test split:"
   ]
  },
  {
   "cell_type": "code",
   "execution_count": 87,
   "metadata": {},
   "outputs": [],
   "source": [
    "train_len=900"
   ]
  },
  {
   "cell_type": "code",
   "execution_count": 88,
   "metadata": {},
   "outputs": [],
   "source": [
    "train=df_1[0:train_len]\n",
    "test=df_1[train_len:]"
   ]
  },
  {
   "cell_type": "code",
   "execution_count": 89,
   "metadata": {},
   "outputs": [
    {
     "data": {
      "text/plain": [
       "(900, 13)"
      ]
     },
     "execution_count": 89,
     "metadata": {},
     "output_type": "execute_result"
    }
   ],
   "source": [
    "train.shape"
   ]
  },
  {
   "cell_type": "code",
   "execution_count": 90,
   "metadata": {},
   "outputs": [
    {
     "data": {
      "text/plain": [
       "(42, 13)"
      ]
     },
     "execution_count": 90,
     "metadata": {},
     "output_type": "execute_result"
    }
   ],
   "source": [
    "test.shape"
   ]
  },
  {
   "cell_type": "markdown",
   "metadata": {},
   "source": [
    "## Stationarity test (ADF test):"
   ]
  },
  {
   "cell_type": "code",
   "execution_count": 91,
   "metadata": {},
   "outputs": [
    {
     "name": "stdout",
     "output_type": "stream",
     "text": [
      "\n",
      "\n",
      "Sales: ADF test results:\n",
      "ADF Statistic: -5.355618\n",
      "p-value: 0.000004\n",
      "Critical Values:\n",
      "\t5%: -2.865\n",
      "\n",
      "\n",
      "Customers: ADF test results:\n",
      "ADF Statistic: -3.808792\n",
      "p-value: 0.002819\n",
      "Critical Values:\n",
      "\t5%: -2.865\n"
     ]
    }
   ],
   "source": [
    "for i in ['Sales','Customers']:\n",
    "    print('\\n\\n' + i + ': ADF test results:')\n",
    "    result = adfuller(train[i].dropna())\n",
    "    print('ADF Statistic: %f' % result[0])\n",
    "    print('p-value: %f' % result[1])\n",
    "    print('Critical Values:')\n",
    "    for key, value in result[4].items():\n",
    "        if key=='5%':\n",
    "            print('\\t%s: %.3f' % (key, value))"
   ]
  },
  {
   "cell_type": "code",
   "execution_count": 92,
   "metadata": {},
   "outputs": [],
   "source": [
    "# since p-value for both variables is less than 0.05 they both are stationary."
   ]
  },
  {
   "cell_type": "markdown",
   "metadata": {},
   "source": [
    "## Model Building:"
   ]
  },
  {
   "cell_type": "markdown",
   "metadata": {},
   "source": [
    "## SARIMAX:"
   ]
  },
  {
   "cell_type": "code",
   "execution_count": 93,
   "metadata": {},
   "outputs": [
    {
     "name": "stdout",
     "output_type": "stream",
     "text": [
      "Open           289.57024\n",
      "ar.L1            0.58895\n",
      "ma.L1           -1.00000\n",
      "ar.S.L12         0.08534\n",
      "ma.S.L12        -0.99920\n",
      "sigma2     532,662.38857\n",
      "dtype: float64\n"
     ]
    }
   ],
   "source": [
    "model = SARIMAX(train['Sales'], order=(1, 1, 1), seasonal_order=(1, 1, 1, 12),exog=train['Open']) \n",
    "model_fit = model.fit()\n",
    "print(model_fit.params)"
   ]
  },
  {
   "cell_type": "code",
   "execution_count": 94,
   "metadata": {},
   "outputs": [
    {
     "data": {
      "text/html": [
       "<table class=\"simpletable\">\n",
       "<caption>SARIMAX Results</caption>\n",
       "<tr>\n",
       "  <th>Dep. Variable:</th>                <td>Sales</td>             <th>  No. Observations:  </th>    <td>900</td>   \n",
       "</tr>\n",
       "<tr>\n",
       "  <th>Model:</th>           <td>SARIMAX(1, 1, 1)x(1, 1, 1, 12)</td> <th>  Log Likelihood     </th> <td>-7135.194</td>\n",
       "</tr>\n",
       "<tr>\n",
       "  <th>Date:</th>                   <td>Tue, 09 Jan 2024</td>        <th>  AIC                </th> <td>14282.387</td>\n",
       "</tr>\n",
       "<tr>\n",
       "  <th>Time:</th>                       <td>01:51:28</td>            <th>  BIC                </th> <td>14311.114</td>\n",
       "</tr>\n",
       "<tr>\n",
       "  <th>Sample:</th>                    <td>01-01-2013</td>           <th>  HQIC               </th> <td>14293.369</td>\n",
       "</tr>\n",
       "<tr>\n",
       "  <th></th>                          <td>- 06-19-2015</td>          <th>                     </th>     <td> </td>    \n",
       "</tr>\n",
       "<tr>\n",
       "  <th>Covariance Type:</th>               <td>opg</td>              <th>                     </th>     <td> </td>    \n",
       "</tr>\n",
       "</table>\n",
       "<table class=\"simpletable\">\n",
       "<tr>\n",
       "      <td></td>        <th>coef</th>     <th>std err</th>      <th>z</th>      <th>P>|z|</th>  <th>[0.025</th>    <th>0.975]</th>  \n",
       "</tr>\n",
       "<tr>\n",
       "  <th>Open</th>     <td>  289.5702</td> <td>   51.064</td> <td>    5.671</td> <td> 0.000</td> <td>  189.487</td> <td>  389.653</td>\n",
       "</tr>\n",
       "<tr>\n",
       "  <th>ar.L1</th>    <td>    0.5890</td> <td>    0.023</td> <td>   26.021</td> <td> 0.000</td> <td>    0.545</td> <td>    0.633</td>\n",
       "</tr>\n",
       "<tr>\n",
       "  <th>ma.L1</th>    <td>   -1.0000</td> <td>    0.561</td> <td>   -1.783</td> <td> 0.075</td> <td>   -2.099</td> <td>    0.099</td>\n",
       "</tr>\n",
       "<tr>\n",
       "  <th>ar.S.L12</th> <td>    0.0853</td> <td>    0.033</td> <td>    2.579</td> <td> 0.010</td> <td>    0.020</td> <td>    0.150</td>\n",
       "</tr>\n",
       "<tr>\n",
       "  <th>ma.S.L12</th> <td>   -0.9992</td> <td>    0.568</td> <td>   -1.759</td> <td> 0.079</td> <td>   -2.113</td> <td>    0.114</td>\n",
       "</tr>\n",
       "<tr>\n",
       "  <th>sigma2</th>   <td> 5.327e+05</td> <td>    0.000</td> <td> 3.04e+09</td> <td> 0.000</td> <td> 5.33e+05</td> <td> 5.33e+05</td>\n",
       "</tr>\n",
       "</table>\n",
       "<table class=\"simpletable\">\n",
       "<tr>\n",
       "  <th>Ljung-Box (L1) (Q):</th>     <td>11.26</td> <th>  Jarque-Bera (JB):  </th> <td>252.41</td>\n",
       "</tr>\n",
       "<tr>\n",
       "  <th>Prob(Q):</th>                <td>0.00</td>  <th>  Prob(JB):          </th>  <td>0.00</td> \n",
       "</tr>\n",
       "<tr>\n",
       "  <th>Heteroskedasticity (H):</th> <td>1.40</td>  <th>  Skew:              </th>  <td>0.18</td> \n",
       "</tr>\n",
       "<tr>\n",
       "  <th>Prob(H) (two-sided):</th>    <td>0.00</td>  <th>  Kurtosis:          </th>  <td>5.59</td> \n",
       "</tr>\n",
       "</table><br/><br/>Warnings:<br/>[1] Covariance matrix calculated using the outer product of gradients (complex-step).<br/>[2] Covariance matrix is singular or near-singular, with condition number 3.06e+26. Standard errors may be unstable."
      ],
      "text/plain": [
       "<class 'statsmodels.iolib.summary.Summary'>\n",
       "\"\"\"\n",
       "                                     SARIMAX Results                                      \n",
       "==========================================================================================\n",
       "Dep. Variable:                              Sales   No. Observations:                  900\n",
       "Model:             SARIMAX(1, 1, 1)x(1, 1, 1, 12)   Log Likelihood               -7135.194\n",
       "Date:                            Tue, 09 Jan 2024   AIC                          14282.387\n",
       "Time:                                    01:51:28   BIC                          14311.114\n",
       "Sample:                                01-01-2013   HQIC                         14293.369\n",
       "                                     - 06-19-2015                                         \n",
       "Covariance Type:                              opg                                         \n",
       "==============================================================================\n",
       "                 coef    std err          z      P>|z|      [0.025      0.975]\n",
       "------------------------------------------------------------------------------\n",
       "Open         289.5702     51.064      5.671      0.000     189.487     389.653\n",
       "ar.L1          0.5890      0.023     26.021      0.000       0.545       0.633\n",
       "ma.L1         -1.0000      0.561     -1.783      0.075      -2.099       0.099\n",
       "ar.S.L12       0.0853      0.033      2.579      0.010       0.020       0.150\n",
       "ma.S.L12      -0.9992      0.568     -1.759      0.079      -2.113       0.114\n",
       "sigma2      5.327e+05      0.000   3.04e+09      0.000    5.33e+05    5.33e+05\n",
       "===================================================================================\n",
       "Ljung-Box (L1) (Q):                  11.26   Jarque-Bera (JB):               252.41\n",
       "Prob(Q):                              0.00   Prob(JB):                         0.00\n",
       "Heteroskedasticity (H):               1.40   Skew:                             0.18\n",
       "Prob(H) (two-sided):                  0.00   Kurtosis:                         5.59\n",
       "===================================================================================\n",
       "\n",
       "Warnings:\n",
       "[1] Covariance matrix calculated using the outer product of gradients (complex-step).\n",
       "[2] Covariance matrix is singular or near-singular, with condition number 3.06e+26. Standard errors may be unstable.\n",
       "\"\"\""
      ]
     },
     "execution_count": 94,
     "metadata": {},
     "output_type": "execute_result"
    }
   ],
   "source": [
    "model_fit.summary()"
   ]
  },
  {
   "cell_type": "code",
   "execution_count": 95,
   "metadata": {},
   "outputs": [],
   "source": [
    "pred = test.copy()\n",
    "pred['Sales'] = model_fit.predict(test.index.min(), test.index.max(),exog=test['Open'])"
   ]
  },
  {
   "cell_type": "code",
   "execution_count": 96,
   "metadata": {},
   "outputs": [
    {
     "data": {
      "image/png": "[encoded data removed]",
      "text/plain": [
       "<Figure size 864x288 with 1 Axes>"
      ]
     },
     "metadata": {
      "needs_background": "light"
     },
     "output_type": "display_data"
    }
   ],
   "source": [
    "plt.figure(figsize=(12,4))\n",
    "plt.plot(train['Sales'], label='Train')\n",
    "plt.plot(test['Sales'], label='Test')\n",
    "plt.plot(pred['Sales'][test.index.min():], label='SARIMAX forecast')\n",
    "plt.legend(loc='best')\n",
    "plt.title('SARIMAX')\n",
    "plt.show()"
   ]
  },
  {
   "cell_type": "code",
   "execution_count": 97,
   "metadata": {},
   "outputs": [
    {
     "data": {
      "text/html": [
       "<div>\n",
       "<style scoped>\n",
       "    .dataframe tbody tr th:only-of-type {\n",
       "        vertical-align: middle;\n",
       "    }\n",
       "\n",
       "    .dataframe tbody tr th {\n",
       "        vertical-align: top;\n",
       "    }\n",
       "\n",
       "    .dataframe thead th {\n",
       "        text-align: right;\n",
       "    }\n",
       "</style>\n",
       "<table border=\"1\" class=\"dataframe\">\n",
       "  <thead>\n",
       "    <tr style=\"text-align: right;\">\n",
       "      <th></th>\n",
       "      <th>Method</th>\n",
       "      <th>RMSE</th>\n",
       "      <th>MAPE</th>\n",
       "    </tr>\n",
       "  </thead>\n",
       "  <tbody>\n",
       "    <tr>\n",
       "      <th>0</th>\n",
       "      <td>SARIMAX</td>\n",
       "      <td>720.22000</td>\n",
       "      <td>14.75000</td>\n",
       "    </tr>\n",
       "  </tbody>\n",
       "</table>\n",
       "</div>"
      ],
      "text/plain": [
       "    Method      RMSE     MAPE\n",
       "0  SARIMAX 720.22000 14.75000"
      ]
     },
     "execution_count": 97,
     "metadata": {},
     "output_type": "execute_result"
    }
   ],
   "source": [
    "rmse = np.sqrt(mean_squared_error(test['Sales'], pred['Sales'])).round(2)\n",
    "mape = np.round(np.mean(np.abs(test['Sales']-pred['Sales'])/test['Sales'])*100,2)\n",
    "results = pd.DataFrame({'Method':['SARIMAX'], 'MAPE': [mape], 'RMSE': [rmse]})\n",
    "results = results[['Method', 'RMSE', 'MAPE']]\n",
    "results"
   ]
  },
  {
   "cell_type": "markdown",
   "metadata": {},
   "source": [
    "## Cointegration Johnason test:"
   ]
  },
  {
   "cell_type": "code",
   "execution_count": 98,
   "metadata": {},
   "outputs": [],
   "source": [
    "def joh_output(res):\n",
    "    output = pd.DataFrame([res.lr2,res.lr1],\n",
    "                          index=['max_eig_stat',\"trace_stat\"])\n",
    "    print(output.T,'\\n')\n",
    "    print(\"Critical values(90%, 95%, 99%) of max_eig_stat\\n\",res.cvm,'\\n')\n",
    "    print(\"Critical values(90%, 95%, 99%) of trace_stat\\n\",res.cvt,'\\n')"
   ]
  },
  {
   "cell_type": "code",
   "execution_count": 99,
   "metadata": {},
   "outputs": [
    {
     "name": "stdout",
     "output_type": "stream",
     "text": [
      "   max_eig_stat    trace_stat\n",
      "0 411,949.03587 870,043.68730\n",
      "1 351,718.14305 458,094.65143\n",
      "2 103,159.47970 106,376.50838\n",
      "3   3,217.02868   3,217.02868 \n",
      "\n",
      "Critical values(90%, 95%, 99%) of max_eig_stat\n",
      " [[21.837  24.1592 29.0609]\n",
      " [15.7175 17.7961 22.2519]\n",
      " [ 9.4748 11.2246 15.0923]\n",
      " [ 2.9762  4.1296  6.9406]] \n",
      "\n",
      "Critical values(90%, 95%, 99%) of trace_stat\n",
      " [[37.0339 40.1749 46.5716]\n",
      " [21.7781 24.2761 29.5147]\n",
      " [10.4741 12.3212 16.364 ]\n",
      " [ 2.9762  4.1296  6.9406]] \n",
      "\n"
     ]
    }
   ],
   "source": [
    "joh_model1 = coint_johansen(df[['Sales','Customers','CompetitionDistance_KM','Competition since years']],-1,1) # k_ar_diff +1 = K\n",
    "joh_output(joh_model1)"
   ]
  },
  {
   "cell_type": "markdown",
   "metadata": {},
   "source": [
    "## VARMAX-1:"
   ]
  },
  {
   "cell_type": "code",
   "execution_count": 109,
   "metadata": {
    "scrolled": true
   },
   "outputs": [
    {
     "data": {
      "text/html": [
       "<div>\n",
       "<style scoped>\n",
       "    .dataframe tbody tr th:only-of-type {\n",
       "        vertical-align: middle;\n",
       "    }\n",
       "\n",
       "    .dataframe tbody tr th {\n",
       "        vertical-align: top;\n",
       "    }\n",
       "\n",
       "    .dataframe thead th {\n",
       "        text-align: right;\n",
       "    }\n",
       "</style>\n",
       "<table border=\"1\" class=\"dataframe\">\n",
       "  <thead>\n",
       "    <tr style=\"text-align: right;\">\n",
       "      <th></th>\n",
       "      <th>Store</th>\n",
       "      <th>DayOfWeek</th>\n",
       "      <th>is_weekend</th>\n",
       "      <th>Sales</th>\n",
       "      <th>Customers</th>\n",
       "      <th>Open</th>\n",
       "      <th>StateHoliday</th>\n",
       "      <th>SchoolHoliday</th>\n",
       "      <th>StoreType</th>\n",
       "      <th>Assortment</th>\n",
       "      <th>CompetitionDistance_KM</th>\n",
       "      <th>Competition since years</th>\n",
       "      <th>Promo2</th>\n",
       "    </tr>\n",
       "    <tr>\n",
       "      <th>Date</th>\n",
       "      <th></th>\n",
       "      <th></th>\n",
       "      <th></th>\n",
       "      <th></th>\n",
       "      <th></th>\n",
       "      <th></th>\n",
       "      <th></th>\n",
       "      <th></th>\n",
       "      <th></th>\n",
       "      <th></th>\n",
       "      <th></th>\n",
       "      <th></th>\n",
       "      <th></th>\n",
       "    </tr>\n",
       "  </thead>\n",
       "  <tbody>\n",
       "    <tr>\n",
       "      <th>2013-01-01</th>\n",
       "      <td>1</td>\n",
       "      <td>2</td>\n",
       "      <td>0</td>\n",
       "      <td>4,751.00000</td>\n",
       "      <td>562.00000</td>\n",
       "      <td>0</td>\n",
       "      <td>a</td>\n",
       "      <td>1</td>\n",
       "      <td>c</td>\n",
       "      <td>a</td>\n",
       "      <td>0.30103</td>\n",
       "      <td>1.11394</td>\n",
       "      <td>0</td>\n",
       "    </tr>\n",
       "    <tr>\n",
       "      <th>2013-01-02</th>\n",
       "      <td>1</td>\n",
       "      <td>3</td>\n",
       "      <td>0</td>\n",
       "      <td>5,530.00000</td>\n",
       "      <td>668.00000</td>\n",
       "      <td>1</td>\n",
       "      <td>0</td>\n",
       "      <td>1</td>\n",
       "      <td>c</td>\n",
       "      <td>a</td>\n",
       "      <td>0.30103</td>\n",
       "      <td>1.11394</td>\n",
       "      <td>0</td>\n",
       "    </tr>\n",
       "    <tr>\n",
       "      <th>2013-01-03</th>\n",
       "      <td>1</td>\n",
       "      <td>4</td>\n",
       "      <td>0</td>\n",
       "      <td>4,327.00000</td>\n",
       "      <td>578.00000</td>\n",
       "      <td>1</td>\n",
       "      <td>0</td>\n",
       "      <td>1</td>\n",
       "      <td>c</td>\n",
       "      <td>a</td>\n",
       "      <td>0.30103</td>\n",
       "      <td>1.11394</td>\n",
       "      <td>0</td>\n",
       "    </tr>\n",
       "    <tr>\n",
       "      <th>2013-01-04</th>\n",
       "      <td>1</td>\n",
       "      <td>5</td>\n",
       "      <td>0</td>\n",
       "      <td>4,486.00000</td>\n",
       "      <td>619.00000</td>\n",
       "      <td>1</td>\n",
       "      <td>0</td>\n",
       "      <td>1</td>\n",
       "      <td>c</td>\n",
       "      <td>a</td>\n",
       "      <td>0.30103</td>\n",
       "      <td>1.11394</td>\n",
       "      <td>0</td>\n",
       "    </tr>\n",
       "    <tr>\n",
       "      <th>2013-01-05</th>\n",
       "      <td>1</td>\n",
       "      <td>6</td>\n",
       "      <td>1</td>\n",
       "      <td>4,997.00000</td>\n",
       "      <td>635.00000</td>\n",
       "      <td>1</td>\n",
       "      <td>0</td>\n",
       "      <td>1</td>\n",
       "      <td>c</td>\n",
       "      <td>a</td>\n",
       "      <td>0.30103</td>\n",
       "      <td>1.11394</td>\n",
       "      <td>0</td>\n",
       "    </tr>\n",
       "  </tbody>\n",
       "</table>\n",
       "</div>"
      ],
      "text/plain": [
       "            Store  DayOfWeek  is_weekend       Sales  Customers  Open  \\\n",
       "Date                                                                    \n",
       "2013-01-01      1          2           0 4,751.00000  562.00000     0   \n",
       "2013-01-02      1          3           0 5,530.00000  668.00000     1   \n",
       "2013-01-03      1          4           0 4,327.00000  578.00000     1   \n",
       "2013-01-04      1          5           0 4,486.00000  619.00000     1   \n",
       "2013-01-05      1          6           1 4,997.00000  635.00000     1   \n",
       "\n",
       "           StateHoliday  SchoolHoliday StoreType Assortment  \\\n",
       "Date                                                          \n",
       "2013-01-01            a              1         c          a   \n",
       "2013-01-02            0              1         c          a   \n",
       "2013-01-03            0              1         c          a   \n",
       "2013-01-04            0              1         c          a   \n",
       "2013-01-05            0              1         c          a   \n",
       "\n",
       "            CompetitionDistance_KM  Competition since years  Promo2  \n",
       "Date                                                                 \n",
       "2013-01-01                 0.30103                  1.11394       0  \n",
       "2013-01-02                 0.30103                  1.11394       0  \n",
       "2013-01-03                 0.30103                  1.11394       0  \n",
       "2013-01-04                 0.30103                  1.11394       0  \n",
       "2013-01-05                 0.30103                  1.11394       0  "
      ]
     },
     "execution_count": 109,
     "metadata": {},
     "output_type": "execute_result"
    }
   ],
   "source": [
    "train.head()"
   ]
  },
  {
   "cell_type": "code",
   "execution_count": 110,
   "metadata": {},
   "outputs": [],
   "source": [
    "train['Sales']=train['Sales'].astype('float64')\n",
    "train['Customers']=train['Customers'].astype('float64')"
   ]
  },
  {
   "cell_type": "code",
   "execution_count": 111,
   "metadata": {
    "scrolled": true
   },
   "outputs": [
    {
     "name": "stdout",
     "output_type": "stream",
     "text": [
      "                             Statespace Model Results                             \n",
      "==================================================================================\n",
      "Dep. Variable:     ['Sales', 'Customers']   No. Observations:                  900\n",
      "Model:                        VARMAX(1,1)   Log Likelihood              -12148.264\n",
      "Date:                    Tue, 09 Jan 2024   AIC                          24322.529\n",
      "Time:                            02:01:58   BIC                          24384.960\n",
      "Sample:                        01-01-2013   HQIC                         24346.378\n",
      "                             - 06-19-2015                                         \n",
      "Covariance Type:                      opg                                         \n",
      "===================================================================================\n",
      "Ljung-Box (L1) (Q):             4.80, 2.84   Jarque-Bera (JB):       145.93, 152.32\n",
      "Prob(Q):                        0.03, 0.09   Prob(JB):                   0.00, 0.00\n",
      "Heteroskedasticity (H):         1.08, 0.94   Skew:                       0.88, 0.21\n",
      "Prob(H) (two-sided):            0.53, 0.60   Kurtosis:                   3.90, 4.97\n",
      "                             Results for equation Sales                            \n",
      "===================================================================================\n",
      "                      coef    std err          z      P>|z|      [0.025      0.975]\n",
      "-----------------------------------------------------------------------------------\n",
      "L1.Sales            0.2681      0.618      0.434      0.664      -0.943       1.479\n",
      "L1.Customers        1.4284      5.381      0.265      0.791      -9.117      11.974\n",
      "L1.e(Sales)         0.8066      0.483      1.672      0.095      -0.139       1.752\n",
      "L1.e(Customers)    -7.6925      5.335     -1.442      0.149     -18.149       2.764\n",
      "beta.DayOfWeek    672.8135     46.345     14.517      0.000     581.978     763.649\n",
      "                           Results for equation Customers                          \n",
      "===================================================================================\n",
      "                      coef    std err          z      P>|z|      [0.025      0.975]\n",
      "-----------------------------------------------------------------------------------\n",
      "L1.Sales           -0.0557      0.050     -1.124      0.261      -0.153       0.041\n",
      "L1.Customers        1.0859      0.431      2.518      0.012       0.240       1.931\n",
      "L1.e(Sales)         0.1296      0.039      3.321      0.001       0.053       0.206\n",
      "L1.e(Customers)    -1.4258      0.429     -3.320      0.001      -2.268      -0.584\n",
      "beta.DayOfWeek     54.3975      3.736     14.560      0.000      47.075      61.720\n",
      "                                  Error covariance matrix                                   \n",
      "============================================================================================\n",
      "                               coef    std err          z      P>|z|      [0.025      0.975]\n",
      "--------------------------------------------------------------------------------------------\n",
      "sqrt.var.Sales            2134.6748     93.051     22.941      0.000    1952.298    2317.051\n",
      "sqrt.cov.Sales.Customers   169.5468      7.827     21.662      0.000     154.206     184.887\n",
      "sqrt.var.Customers          27.2626      0.582     46.807      0.000      26.121      28.404\n",
      "============================================================================================\n",
      "\n",
      "Warnings:\n",
      "[1] Covariance matrix calculated using the outer product of gradients (complex-step).\n"
     ]
    }
   ],
   "source": [
    "mod = sm.tsa.VARMAX(train[['Sales', 'Customers']], order=(1,1), trend='n', exog=train['DayOfWeek'])\n",
    "res = mod.fit(maxiter=1000, disp=False)\n",
    "print(res.summary())"
   ]
  },
  {
   "cell_type": "code",
   "execution_count": 114,
   "metadata": {},
   "outputs": [
    {
     "ename": "ValueError",
     "evalue": "Columns must be same length as key",
     "output_type": "error",
     "traceback": [
      "\u001b[1;31m---------------------------------------------------------------------------\u001b[0m",
      "\u001b[1;31mValueError\u001b[0m                                Traceback (most recent call last)",
      "\u001b[1;32m<ipython-input-114-49d200b5b441>\u001b[0m in \u001b[0;36m<module>\u001b[1;34m\u001b[0m\n\u001b[0;32m      1\u001b[0m \u001b[0mpred_var\u001b[0m \u001b[1;33m=\u001b[0m \u001b[0mtest\u001b[0m\u001b[1;33m[\u001b[0m\u001b[1;33m[\u001b[0m\u001b[1;34m'Sales'\u001b[0m\u001b[1;33m,\u001b[0m \u001b[1;34m'Customers'\u001b[0m\u001b[1;33m]\u001b[0m\u001b[1;33m]\u001b[0m\u001b[1;33m.\u001b[0m\u001b[0mcopy\u001b[0m\u001b[1;33m(\u001b[0m\u001b[1;33m)\u001b[0m\u001b[1;33m\u001b[0m\u001b[1;33m\u001b[0m\u001b[0m\n\u001b[0;32m      2\u001b[0m \u001b[0mexog\u001b[0m \u001b[1;33m=\u001b[0m \u001b[0mtest\u001b[0m\u001b[1;33m[\u001b[0m\u001b[1;34m'DayOfWeek'\u001b[0m\u001b[1;33m]\u001b[0m\u001b[1;33m\u001b[0m\u001b[1;33m\u001b[0m\u001b[0m\n\u001b[1;32m----> 3\u001b[1;33m \u001b[0mpred_var\u001b[0m\u001b[1;33m[\u001b[0m\u001b[1;34m'Sales'\u001b[0m\u001b[1;33m]\u001b[0m \u001b[1;33m=\u001b[0m \u001b[0mres\u001b[0m\u001b[1;33m.\u001b[0m\u001b[0mpredict\u001b[0m\u001b[1;33m(\u001b[0m\u001b[0mpred_var\u001b[0m\u001b[1;33m.\u001b[0m\u001b[0mindex\u001b[0m\u001b[1;33m.\u001b[0m\u001b[0mmin\u001b[0m\u001b[1;33m(\u001b[0m\u001b[1;33m)\u001b[0m\u001b[1;33m,\u001b[0m \u001b[0mpred_var\u001b[0m\u001b[1;33m.\u001b[0m\u001b[0mindex\u001b[0m\u001b[1;33m.\u001b[0m\u001b[0mmax\u001b[0m\u001b[1;33m(\u001b[0m\u001b[1;33m)\u001b[0m\u001b[1;33m,\u001b[0m\u001b[0mexog\u001b[0m\u001b[1;33m=\u001b[0m\u001b[0mexog\u001b[0m\u001b[1;33m)\u001b[0m\u001b[1;33m\u001b[0m\u001b[1;33m\u001b[0m\u001b[0m\n\u001b[0m",
      "\u001b[1;32m~\\anaconda3\\lib\\site-packages\\pandas\\core\\frame.py\u001b[0m in \u001b[0;36m__setitem__\u001b[1;34m(self, key, value)\u001b[0m\n\u001b[0;32m   3966\u001b[0m             \u001b[0mself\u001b[0m\u001b[1;33m.\u001b[0m\u001b[0m_setitem_array\u001b[0m\u001b[1;33m(\u001b[0m\u001b[0mkey\u001b[0m\u001b[1;33m,\u001b[0m \u001b[0mvalue\u001b[0m\u001b[1;33m)\u001b[0m\u001b[1;33m\u001b[0m\u001b[1;33m\u001b[0m\u001b[0m\n\u001b[0;32m   3967\u001b[0m         \u001b[1;32melif\u001b[0m \u001b[0misinstance\u001b[0m\u001b[1;33m(\u001b[0m\u001b[0mvalue\u001b[0m\u001b[1;33m,\u001b[0m \u001b[0mDataFrame\u001b[0m\u001b[1;33m)\u001b[0m\u001b[1;33m:\u001b[0m\u001b[1;33m\u001b[0m\u001b[1;33m\u001b[0m\u001b[0m\n\u001b[1;32m-> 3968\u001b[1;33m             \u001b[0mself\u001b[0m\u001b[1;33m.\u001b[0m\u001b[0m_set_item_frame_value\u001b[0m\u001b[1;33m(\u001b[0m\u001b[0mkey\u001b[0m\u001b[1;33m,\u001b[0m \u001b[0mvalue\u001b[0m\u001b[1;33m)\u001b[0m\u001b[1;33m\u001b[0m\u001b[1;33m\u001b[0m\u001b[0m\n\u001b[0m\u001b[0;32m   3969\u001b[0m         elif (\n\u001b[0;32m   3970\u001b[0m             \u001b[0mis_list_like\u001b[0m\u001b[1;33m(\u001b[0m\u001b[0mvalue\u001b[0m\u001b[1;33m)\u001b[0m\u001b[1;33m\u001b[0m\u001b[1;33m\u001b[0m\u001b[0m\n",
      "\u001b[1;32m~\\anaconda3\\lib\\site-packages\\pandas\\core\\frame.py\u001b[0m in \u001b[0;36m_set_item_frame_value\u001b[1;34m(self, key, value)\u001b[0m\n\u001b[0;32m   4096\u001b[0m             \u001b[0mlen_cols\u001b[0m \u001b[1;33m=\u001b[0m \u001b[1;36m1\u001b[0m \u001b[1;32mif\u001b[0m \u001b[0mis_scalar\u001b[0m\u001b[1;33m(\u001b[0m\u001b[0mcols\u001b[0m\u001b[1;33m)\u001b[0m \u001b[1;32melse\u001b[0m \u001b[0mlen\u001b[0m\u001b[1;33m(\u001b[0m\u001b[0mcols\u001b[0m\u001b[1;33m)\u001b[0m\u001b[1;33m\u001b[0m\u001b[1;33m\u001b[0m\u001b[0m\n\u001b[0;32m   4097\u001b[0m             \u001b[1;32mif\u001b[0m \u001b[0mlen_cols\u001b[0m \u001b[1;33m!=\u001b[0m \u001b[0mlen\u001b[0m\u001b[1;33m(\u001b[0m\u001b[0mvalue\u001b[0m\u001b[1;33m.\u001b[0m\u001b[0mcolumns\u001b[0m\u001b[1;33m)\u001b[0m\u001b[1;33m:\u001b[0m\u001b[1;33m\u001b[0m\u001b[1;33m\u001b[0m\u001b[0m\n\u001b[1;32m-> 4098\u001b[1;33m                 \u001b[1;32mraise\u001b[0m \u001b[0mValueError\u001b[0m\u001b[1;33m(\u001b[0m\u001b[1;34m\"Columns must be same length as key\"\u001b[0m\u001b[1;33m)\u001b[0m\u001b[1;33m\u001b[0m\u001b[1;33m\u001b[0m\u001b[0m\n\u001b[0m\u001b[0;32m   4099\u001b[0m \u001b[1;33m\u001b[0m\u001b[0m\n\u001b[0;32m   4100\u001b[0m             \u001b[1;31m# align right-hand-side columns if self.columns\u001b[0m\u001b[1;33m\u001b[0m\u001b[1;33m\u001b[0m\u001b[1;33m\u001b[0m\u001b[0m\n",
      "\u001b[1;31mValueError\u001b[0m: Columns must be same length as key"
     ]
    }
   ],
   "source": [
    "pred_var = test[['Sales', 'Customers']].copy()\n",
    "exog = test['DayOfWeek']\n",
    "pred_var['Sales'] = res.predict(pred_var.index.min(), pred_var.index.max(),exog=exog)"
   ]
  },
  {
   "cell_type": "code",
   "execution_count": null,
   "metadata": {},
   "outputs": [],
   "source": [
    "plt.figure(figsize=(12,4))\n",
    "plt.plot(train['Sales'], label='Train')\n",
    "plt.plot(test['Sales'], label='Test')\n",
    "plt.plot(Sales'][test.index.min():], label='VARMAX')\n",
    "plt.legend(loc='best')\n",
    "plt.title('VARMAX')\n",
    "plt.show()"
   ]
  },
  {
   "cell_type": "code",
   "execution_count": null,
   "metadata": {},
   "outputs": [],
   "source": [
    "rmse = np.sqrt(mean_squared_error(test['Sales'], pred_var['Sales'])).round(2)\n",
    "mape = np.round(np.mean(np.abs(test['Sales']-pred_var['Sales'])/test['Sales'])*100,2)\n",
    "\n",
    "tempResults = pd.DataFrame({'Method':['VARMAX'],'MAPE': [mape],'RMSE': [rmse]})\n",
    "results = pd.concat([results, tempResults])\n",
    "results = results[['Method', 'RMSE', 'MAPE']]\n",
    "results"
   ]
  },
  {
   "cell_type": "markdown",
   "metadata": {},
   "source": [
    "### VARMAX-2:"
   ]
  },
  {
   "cell_type": "code",
   "execution_count": 106,
   "metadata": {},
   "outputs": [
    {
     "name": "stdout",
     "output_type": "stream",
     "text": [
      "                             Statespace Model Results                             \n",
      "==================================================================================\n",
      "Dep. Variable:     ['Sales', 'Customers']   No. Observations:                  900\n",
      "Model:                        VARMAX(1,1)   Log Likelihood              -12115.619\n",
      "Date:                    Tue, 09 Jan 2024   AIC                          24257.238\n",
      "Time:                            00:49:50   BIC                          24319.669\n",
      "Sample:                        01-01-2013   HQIC                         24281.087\n",
      "                             - 06-19-2015                                         \n",
      "Covariance Type:                      opg                                         \n",
      "===================================================================================\n",
      "Ljung-Box (L1) (Q):            0.09, 13.30   Jarque-Bera (JB):       182.63, 189.39\n",
      "Prob(Q):                        0.77, 0.00   Prob(JB):                   0.00, 0.00\n",
      "Heteroskedasticity (H):         1.11, 1.00   Skew:                       1.03, 0.32\n",
      "Prob(H) (two-sided):            0.39, 0.98   Kurtosis:                   3.78, 5.15\n",
      "                             Results for equation Sales                            \n",
      "===================================================================================\n",
      "                      coef    std err          z      P>|z|      [0.025      0.975]\n",
      "-----------------------------------------------------------------------------------\n",
      "L1.Sales            1.6454      0.439      3.750      0.000       0.785       2.505\n",
      "L1.Customers      -10.7789      3.743     -2.879      0.004     -18.116      -3.442\n",
      "L1.e(Sales)        -1.9683      0.395     -4.983      0.000      -2.743      -1.194\n",
      "L1.e(Customers)    23.9257      4.547      5.262      0.000      15.014      32.838\n",
      "beta.Open        3640.5406    207.502     17.545      0.000    3233.844    4047.238\n",
      "                           Results for equation Customers                          \n",
      "===================================================================================\n",
      "                      coef    std err          z      P>|z|      [0.025      0.975]\n",
      "-----------------------------------------------------------------------------------\n",
      "L1.Sales            0.0543      0.035      1.563      0.118      -0.014       0.122\n",
      "L1.Customers        0.1152      0.299      0.385      0.700      -0.471       0.701\n",
      "L1.e(Sales)        -0.0851      0.032     -2.693      0.007      -0.147      -0.023\n",
      "L1.e(Customers)     0.9938      0.367      2.708      0.007       0.275       1.713\n",
      "beta.Open         291.0276     17.411     16.715      0.000     256.902     325.153\n",
      "                                  Error covariance matrix                                   \n",
      "============================================================================================\n",
      "                               coef    std err          z      P>|z|      [0.025      0.975]\n",
      "--------------------------------------------------------------------------------------------\n",
      "sqrt.var.Sales            2089.9881    100.388     20.819      0.000    1893.230    2286.746\n",
      "sqrt.cov.Sales.Customers   165.5876      7.756     21.349      0.000     150.385     180.790\n",
      "sqrt.var.Customers          25.0768      0.448     56.023      0.000      24.199      25.954\n",
      "============================================================================================\n",
      "\n",
      "Warnings:\n",
      "[1] Covariance matrix calculated using the outer product of gradients (complex-step).\n"
     ]
    }
   ],
   "source": [
    "exog = train['Open']\n",
    "mod = sm.tsa.VARMAX(train[['Sales', 'Customers']], order=(1,1), trend='n', exog=exog)\n",
    "res = mod.fit(maxiter=1000, disp=False)\n",
    "print(res.summary())"
   ]
  },
  {
   "cell_type": "code",
   "execution_count": 107,
   "metadata": {},
   "outputs": [
    {
     "ename": "ValueError",
     "evalue": "Columns must be same length as key",
     "output_type": "error",
     "traceback": [
      "\u001b[1;31m---------------------------------------------------------------------------\u001b[0m",
      "\u001b[1;31mValueError\u001b[0m                                Traceback (most recent call last)",
      "\u001b[1;32m<ipython-input-107-b1cfaee45e81>\u001b[0m in \u001b[0;36m<module>\u001b[1;34m\u001b[0m\n\u001b[0;32m      1\u001b[0m \u001b[0mpred_var\u001b[0m \u001b[1;33m=\u001b[0m \u001b[0mtest\u001b[0m\u001b[1;33m.\u001b[0m\u001b[0mcopy\u001b[0m\u001b[1;33m(\u001b[0m\u001b[1;33m)\u001b[0m\u001b[1;33m\u001b[0m\u001b[1;33m\u001b[0m\u001b[0m\n\u001b[1;32m----> 2\u001b[1;33m \u001b[0mpred_var\u001b[0m\u001b[1;33m[\u001b[0m\u001b[1;34m'Sales'\u001b[0m\u001b[1;33m]\u001b[0m \u001b[1;33m=\u001b[0m \u001b[0mres\u001b[0m\u001b[1;33m.\u001b[0m\u001b[0mpredict\u001b[0m\u001b[1;33m(\u001b[0m\u001b[0mtest\u001b[0m\u001b[1;33m.\u001b[0m\u001b[0mindex\u001b[0m\u001b[1;33m.\u001b[0m\u001b[0mmin\u001b[0m\u001b[1;33m(\u001b[0m\u001b[1;33m)\u001b[0m\u001b[1;33m,\u001b[0m \u001b[0mtest\u001b[0m\u001b[1;33m.\u001b[0m\u001b[0mindex\u001b[0m\u001b[1;33m.\u001b[0m\u001b[0mmax\u001b[0m\u001b[1;33m(\u001b[0m\u001b[1;33m)\u001b[0m\u001b[1;33m,\u001b[0m\u001b[0mexog\u001b[0m\u001b[1;33m=\u001b[0m\u001b[0mtest\u001b[0m\u001b[1;33m[\u001b[0m\u001b[1;34m'Open'\u001b[0m\u001b[1;33m]\u001b[0m\u001b[1;33m)\u001b[0m\u001b[1;33m\u001b[0m\u001b[1;33m\u001b[0m\u001b[0m\n\u001b[0m",
      "\u001b[1;32m~\\anaconda3\\lib\\site-packages\\pandas\\core\\frame.py\u001b[0m in \u001b[0;36m__setitem__\u001b[1;34m(self, key, value)\u001b[0m\n\u001b[0;32m   3966\u001b[0m             \u001b[0mself\u001b[0m\u001b[1;33m.\u001b[0m\u001b[0m_setitem_array\u001b[0m\u001b[1;33m(\u001b[0m\u001b[0mkey\u001b[0m\u001b[1;33m,\u001b[0m \u001b[0mvalue\u001b[0m\u001b[1;33m)\u001b[0m\u001b[1;33m\u001b[0m\u001b[1;33m\u001b[0m\u001b[0m\n\u001b[0;32m   3967\u001b[0m         \u001b[1;32melif\u001b[0m \u001b[0misinstance\u001b[0m\u001b[1;33m(\u001b[0m\u001b[0mvalue\u001b[0m\u001b[1;33m,\u001b[0m \u001b[0mDataFrame\u001b[0m\u001b[1;33m)\u001b[0m\u001b[1;33m:\u001b[0m\u001b[1;33m\u001b[0m\u001b[1;33m\u001b[0m\u001b[0m\n\u001b[1;32m-> 3968\u001b[1;33m             \u001b[0mself\u001b[0m\u001b[1;33m.\u001b[0m\u001b[0m_set_item_frame_value\u001b[0m\u001b[1;33m(\u001b[0m\u001b[0mkey\u001b[0m\u001b[1;33m,\u001b[0m \u001b[0mvalue\u001b[0m\u001b[1;33m)\u001b[0m\u001b[1;33m\u001b[0m\u001b[1;33m\u001b[0m\u001b[0m\n\u001b[0m\u001b[0;32m   3969\u001b[0m         elif (\n\u001b[0;32m   3970\u001b[0m             \u001b[0mis_list_like\u001b[0m\u001b[1;33m(\u001b[0m\u001b[0mvalue\u001b[0m\u001b[1;33m)\u001b[0m\u001b[1;33m\u001b[0m\u001b[1;33m\u001b[0m\u001b[0m\n",
      "\u001b[1;32m~\\anaconda3\\lib\\site-packages\\pandas\\core\\frame.py\u001b[0m in \u001b[0;36m_set_item_frame_value\u001b[1;34m(self, key, value)\u001b[0m\n\u001b[0;32m   4096\u001b[0m             \u001b[0mlen_cols\u001b[0m \u001b[1;33m=\u001b[0m \u001b[1;36m1\u001b[0m \u001b[1;32mif\u001b[0m \u001b[0mis_scalar\u001b[0m\u001b[1;33m(\u001b[0m\u001b[0mcols\u001b[0m\u001b[1;33m)\u001b[0m \u001b[1;32melse\u001b[0m \u001b[0mlen\u001b[0m\u001b[1;33m(\u001b[0m\u001b[0mcols\u001b[0m\u001b[1;33m)\u001b[0m\u001b[1;33m\u001b[0m\u001b[1;33m\u001b[0m\u001b[0m\n\u001b[0;32m   4097\u001b[0m             \u001b[1;32mif\u001b[0m \u001b[0mlen_cols\u001b[0m \u001b[1;33m!=\u001b[0m \u001b[0mlen\u001b[0m\u001b[1;33m(\u001b[0m\u001b[0mvalue\u001b[0m\u001b[1;33m.\u001b[0m\u001b[0mcolumns\u001b[0m\u001b[1;33m)\u001b[0m\u001b[1;33m:\u001b[0m\u001b[1;33m\u001b[0m\u001b[1;33m\u001b[0m\u001b[0m\n\u001b[1;32m-> 4098\u001b[1;33m                 \u001b[1;32mraise\u001b[0m \u001b[0mValueError\u001b[0m\u001b[1;33m(\u001b[0m\u001b[1;34m\"Columns must be same length as key\"\u001b[0m\u001b[1;33m)\u001b[0m\u001b[1;33m\u001b[0m\u001b[1;33m\u001b[0m\u001b[0m\n\u001b[0m\u001b[0;32m   4099\u001b[0m \u001b[1;33m\u001b[0m\u001b[0m\n\u001b[0;32m   4100\u001b[0m             \u001b[1;31m# align right-hand-side columns if self.columns\u001b[0m\u001b[1;33m\u001b[0m\u001b[1;33m\u001b[0m\u001b[1;33m\u001b[0m\u001b[0m\n",
      "\u001b[1;31mValueError\u001b[0m: Columns must be same length as key"
     ]
    }
   ],
   "source": [
    "pred_var = test.copy()\n",
    "pred_var['Sales'] = res.predict(test.index.min(), test.index.max(),exog=test['Open'])"
   ]
  },
  {
   "cell_type": "code",
   "execution_count": null,
   "metadata": {},
   "outputs": [],
   "source": [
    "plt.figure(figsize=(12,4))\n",
    "plt.plot(train['Sales'], label='Train')\n",
    "plt.plot(test['Sales'], label='Test')\n",
    "plt.plot(pred_var['Sales'][test.index.min():], label='VARMAX')\n",
    "plt.legend(loc='best')\n",
    "plt.title('VARMAX')\n",
    "plt.show()"
   ]
  },
  {
   "cell_type": "code",
   "execution_count": null,
   "metadata": {},
   "outputs": [],
   "source": [
    "rmse = np.sqrt(mean_squared_error(test['Sales'], pred_var['Sales'])).round(2)\n",
    "mape = np.round(np.mean(np.abs(test['Sales']-pred_var['Sales'])/test['Sales'])*100,2)\n",
    "\n",
    "tempResults = pd.DataFrame({'Method':['VARMAX2'],'MAPE': [mape],'RMSE': [rmse]})\n",
    "results = pd.concat([results, tempResults])\n",
    "results = results[['Method', 'RMSE', 'MAPE']]\n",
    "results"
   ]
  },
  {
   "cell_type": "markdown",
   "metadata": {},
   "source": [
    "### VARMAX 3:"
   ]
  },
  {
   "cell_type": "code",
   "execution_count": null,
   "metadata": {},
   "outputs": [],
   "source": [
    "df.head()"
   ]
  },
  {
   "cell_type": "code",
   "execution_count": null,
   "metadata": {},
   "outputs": [],
   "source": [
    "exog = train['Customers']\n",
    "mod = sm.tsa.VARMAX(train[['Sales', 'Competition since years']], order=(1,1), trend='n', exog=exog)\n",
    "res = mod.fit(maxiter=1000, disp=False)\n",
    "print(res.summary())"
   ]
  },
  {
   "cell_type": "code",
   "execution_count": null,
   "metadata": {},
   "outputs": [],
   "source": [
    "pred_var = test.copy()\n",
    "pred_var['Sales'] = res.predict(test.index.min(), test.index.max(),exog=test['Customers'])"
   ]
  },
  {
   "cell_type": "code",
   "execution_count": null,
   "metadata": {},
   "outputs": [],
   "source": [
    "plt.figure(figsize=(12,4))\n",
    "plt.plot(train['Sales'], label='Train')\n",
    "plt.plot(test['Sales'], label='Test')\n",
    "plt.plot(pred_var['Sales'][test.index.min():], label='VARMAX')\n",
    "plt.legend(loc='best')\n",
    "plt.title('VARMAX')\n",
    "plt.show()"
   ]
  },
  {
   "cell_type": "code",
   "execution_count": null,
   "metadata": {},
   "outputs": [],
   "source": [
    "rmse = np.sqrt(mean_squared_error(test['Sales'], pred_var['Sales'])).round(2)\n",
    "mape = np.round(np.mean(np.abs(test['Sales']-pred_var['Sales'])/test['Sales'])*100,2)\n",
    "\n",
    "tempResults = pd.DataFrame({'Method':['VARMAX3'],'MAPE': [mape],'RMSE': [rmse]})\n",
    "results = pd.concat([results, tempResults])\n",
    "results = results[['Method', 'RMSE', 'MAPE']]\n",
    "results"
   ]
  },
  {
   "cell_type": "markdown",
   "metadata": {},
   "source": [
    "### VARMAX 4:"
   ]
  },
  {
   "cell_type": "code",
   "execution_count": null,
   "metadata": {},
   "outputs": [],
   "source": [
    "exog = train['Customers']\n",
    "mod = sm.tsa.VARMAX(train[['Sales', 'Competition since years']], order=(4,4), trend='n', exog=exog)\n",
    "res = mod.fit(maxiter=1000, disp=False)\n",
    "print(res.summary())"
   ]
  },
  {
   "cell_type": "code",
   "execution_count": null,
   "metadata": {},
   "outputs": [],
   "source": [
    "pred_var = test.copy()\n",
    "pred_var['Sales'] = res.predict(test.index.min(), test.index.max(),exog=test['Customers'])"
   ]
  },
  {
   "cell_type": "code",
   "execution_count": null,
   "metadata": {},
   "outputs": [],
   "source": [
    "plt.figure(figsize=(12,4))\n",
    "plt.plot(train['Sales'], label='Train')\n",
    "plt.plot(test['Sales'], label='Test')\n",
    "plt.plot(pred_var['Sales'][test.index.min():], label='VARMAX')\n",
    "plt.legend(loc='best')\n",
    "plt.title('VARMAX')\n",
    "plt.show()"
   ]
  },
  {
   "cell_type": "code",
   "execution_count": null,
   "metadata": {},
   "outputs": [],
   "source": [
    "rmse = np.sqrt(mean_squared_error(test['Sales'], pred_var['Sales'])).round(2)\n",
    "mape = np.round(np.mean(np.abs(test['Sales']-pred_var['Sales'])/test['Sales'])*100,2)\n",
    "\n",
    "tempResults = pd.DataFrame({'Method':['VARMAX4'],'MAPE': [mape],'RMSE': [rmse]})\n",
    "results = pd.concat([results, tempResults])\n",
    "results = results[['Method', 'RMSE', 'MAPE']]\n",
    "results"
   ]
  },
  {
   "cell_type": "code",
   "execution_count": null,
   "metadata": {},
   "outputs": [],
   "source": [
    "# After comparing all the five models VARMAX 3 is the best model to forecast sales for Store 1. "
   ]
  },
  {
   "cell_type": "markdown",
   "metadata": {},
   "source": [
    "# Store 3"
   ]
  },
  {
   "cell_type": "code",
   "execution_count": null,
   "metadata": {},
   "outputs": [],
   "source": [
    "df_3=df[df['Store']==3]"
   ]
  },
  {
   "cell_type": "code",
   "execution_count": null,
   "metadata": {},
   "outputs": [],
   "source": [
    "df_3.head()"
   ]
  },
  {
   "cell_type": "markdown",
   "metadata": {},
   "source": [
    "## Outlier Analysis:"
   ]
  },
  {
   "cell_type": "code",
   "execution_count": null,
   "metadata": {},
   "outputs": [],
   "source": [
    "#Here we perform outlier analysis for sales and customers variables."
   ]
  },
  {
   "cell_type": "code",
   "execution_count": null,
   "metadata": {},
   "outputs": [],
   "source": [
    "plt.figure(figsize=[10,8])\n",
    "plt.subplot(1,2,1)\n",
    "ax=sns.boxplot(df_3['Sales'])\n",
    "plt.subplot(1,2,2)\n",
    "ax=sns.boxplot(df_3['Customers'])"
   ]
  },
  {
   "cell_type": "code",
   "execution_count": null,
   "metadata": {},
   "outputs": [],
   "source": [
    "# We need to cap the outliers to their 99 percentile value.\n",
    "df_3['Sales']=df_3['Sales'].clip(lower=df_3['Sales'].min(),upper=df_3['Sales'].quantile(0.99))\n",
    "df_3['Customers']=df_3['Customers'].clip(lower=df_3['Customers'].min(),upper=df_3['Customers'].quantile(0.99))"
   ]
  },
  {
   "cell_type": "code",
   "execution_count": null,
   "metadata": {},
   "outputs": [],
   "source": [
    "plt.figure(figsize=[10,8])\n",
    "plt.subplot(1,2,1)\n",
    "ax=sns.boxplot(df_3['Sales'])\n",
    "plt.subplot(1,2,2)\n",
    "ax=sns.boxplot(df_3['Customers'])"
   ]
  },
  {
   "cell_type": "code",
   "execution_count": null,
   "metadata": {},
   "outputs": [],
   "source": [
    "# We can see that outliers are minimized."
   ]
  },
  {
   "cell_type": "markdown",
   "metadata": {},
   "source": [
    "## Null value handling:"
   ]
  },
  {
   "cell_type": "code",
   "execution_count": null,
   "metadata": {},
   "outputs": [],
   "source": [
    "# If Sales/Customers value ==0 consider them as 0.\n",
    "df_3['Sales']=df_3['Sales'].apply(lambda x:np.nan if x==0 else x)\n",
    "df_3['Customers']=df_3['Customers'].apply(lambda x:np.nan if x==0 else x)"
   ]
  },
  {
   "cell_type": "code",
   "execution_count": null,
   "metadata": {},
   "outputs": [],
   "source": [
    "df_3[['Sales','Customers']].isnull().sum()"
   ]
  },
  {
   "cell_type": "code",
   "execution_count": null,
   "metadata": {},
   "outputs": [],
   "source": [
    "# Since we have capped the outliers we can use mean for imputation."
   ]
  },
  {
   "cell_type": "markdown",
   "metadata": {},
   "source": [
    "### Mean imputation:"
   ]
  },
  {
   "cell_type": "code",
   "execution_count": null,
   "metadata": {},
   "outputs": [],
   "source": [
    "df_3.insert(4,'Sales_Mean_Imputation',df_3.Sales.fillna(df_3.Sales.mean()))\n",
    "df_3[['Sales_Mean_Imputation']].plot(figsize=(15, 5))\n",
    "plt.legend(loc='best')\n",
    "plt.title('Sales: Mean imputation')\n",
    "plt.show()"
   ]
  },
  {
   "cell_type": "code",
   "execution_count": null,
   "metadata": {},
   "outputs": [],
   "source": [
    "# since mean imputation is preferable we will drop sales and rename sales mean imputation as sales.\n",
    "df_3.drop(['Sales'],axis=1,inplace=True)\n",
    "df_3.rename(columns={'Sales_Mean_Imputation':'Sales'},inplace=True)"
   ]
  },
  {
   "cell_type": "code",
   "execution_count": null,
   "metadata": {},
   "outputs": [],
   "source": [
    "df_3.head()"
   ]
  },
  {
   "cell_type": "code",
   "execution_count": null,
   "metadata": {},
   "outputs": [],
   "source": [
    "# Do the same mean imputation for Customers variable\n",
    "df_3.insert(5,'Customers_Mean_Imputation',df_3.Customers.fillna(df_3.Customers.mean()))\n",
    "df_3[['Customers_Mean_Imputation']].plot(figsize=(15, 5))\n",
    "plt.legend(loc='best')\n",
    "plt.title('Customers: Mean imputation')\n",
    "plt.show()"
   ]
  },
  {
   "cell_type": "code",
   "execution_count": null,
   "metadata": {},
   "outputs": [],
   "source": [
    "df_3.drop(['Customers'],axis=1,inplace=True)\n",
    "df_3.rename(columns={'Customers_Mean_Imputation':'Customers'},inplace=True)"
   ]
  },
  {
   "cell_type": "code",
   "execution_count": null,
   "metadata": {},
   "outputs": [],
   "source": [
    "df_3.head()"
   ]
  },
  {
   "cell_type": "markdown",
   "metadata": {},
   "source": [
    "## Train-Test Split:"
   ]
  },
  {
   "cell_type": "code",
   "execution_count": null,
   "metadata": {},
   "outputs": [],
   "source": [
    "train_len=900\n",
    "train=df_3[0:train_len]\n",
    "test=df_3[train_len:]"
   ]
  },
  {
   "cell_type": "code",
   "execution_count": null,
   "metadata": {},
   "outputs": [],
   "source": [
    "print(train.shape)\n",
    "print(test.shape)"
   ]
  },
  {
   "cell_type": "markdown",
   "metadata": {},
   "source": [
    "## Stationarity Test (ADF Test):"
   ]
  },
  {
   "cell_type": "code",
   "execution_count": null,
   "metadata": {},
   "outputs": [],
   "source": [
    "for i in ['Sales','Customers']:\n",
    "    print('\\n\\n' + i + ': ADF test results:')\n",
    "    result = adfuller(train[i].dropna())\n",
    "    print('ADF Statistic: %f' % result[0])\n",
    "    print('p-value: %f' % result[1])\n",
    "    print('Critical Values:')\n",
    "    for key, value in result[4].items():\n",
    "        if key=='5%':\n",
    "            print('\\t%s: %.3f' % (key, value))"
   ]
  },
  {
   "cell_type": "code",
   "execution_count": null,
   "metadata": {},
   "outputs": [],
   "source": [
    "# since p-value for both variables is less than 0.05 they both are stationary."
   ]
  },
  {
   "cell_type": "markdown",
   "metadata": {},
   "source": [
    "## Model Building:"
   ]
  },
  {
   "cell_type": "markdown",
   "metadata": {},
   "source": [
    "### Sarimax:"
   ]
  },
  {
   "cell_type": "code",
   "execution_count": null,
   "metadata": {},
   "outputs": [],
   "source": [
    "model = SARIMAX(train['Sales'], order=(1, 1, 1), seasonal_order=(1, 1, 1, 12),exog=train['Open']) \n",
    "model_fit = model.fit()\n",
    "print(model_fit.params)"
   ]
  },
  {
   "cell_type": "code",
   "execution_count": null,
   "metadata": {},
   "outputs": [],
   "source": [
    "model_fit.summary()"
   ]
  },
  {
   "cell_type": "code",
   "execution_count": null,
   "metadata": {},
   "outputs": [],
   "source": [
    "pred = test.copy()\n",
    "pred['Sales'] = model_fit.predict(test.index.min(), test.index.max(),exog=test['Open'])"
   ]
  },
  {
   "cell_type": "code",
   "execution_count": null,
   "metadata": {},
   "outputs": [],
   "source": [
    "plt.figure(figsize=(12,4))\n",
    "plt.plot(train['Sales'], label='Train')\n",
    "plt.plot(test['Sales'], label='Test')\n",
    "plt.plot(pred['Sales'][test.index.min():], label='Auto regression forecast')\n",
    "plt.legend(loc='best')\n",
    "plt.title('SARIMAX')\n",
    "plt.show()"
   ]
  },
  {
   "cell_type": "code",
   "execution_count": null,
   "metadata": {},
   "outputs": [],
   "source": [
    "rmse = np.sqrt(mean_squared_error(test['Sales'], pred['Sales'])).round(2)\n",
    "mape = np.round(np.mean(np.abs(test['Sales']-pred['Sales'])/test['Sales'])*100,2)\n",
    "results = pd.DataFrame({'Method':['SARIMAX'], 'MAPE': [mape], 'RMSE': [rmse]})\n",
    "results = results[['Method', 'RMSE', 'MAPE']]\n",
    "results"
   ]
  },
  {
   "cell_type": "markdown",
   "metadata": {},
   "source": [
    "### VARMAX:"
   ]
  },
  {
   "cell_type": "markdown",
   "metadata": {},
   "source": [
    "#### Cointegration - Johanson test:"
   ]
  },
  {
   "cell_type": "code",
   "execution_count": null,
   "metadata": {},
   "outputs": [],
   "source": [
    "def joh_output(res):\n",
    "    output = pd.DataFrame([res.lr2,res.lr1],\n",
    "                          index=['max_eig_stat',\"trace_stat\"])\n",
    "    print(output.T,'\\n')\n",
    "    print(\"Critical values(90%, 95%, 99%) of max_eig_stat\\n\",res.cvm,'\\n')\n",
    "    print(\"Critical values(90%, 95%, 99%) of trace_stat\\n\",res.cvt,'\\n')"
   ]
  },
  {
   "cell_type": "code",
   "execution_count": null,
   "metadata": {},
   "outputs": [],
   "source": [
    "joh_model1 = coint_johansen(df[['Sales','Customers','CompetitionDistance_KM','Competition since years']],-1,1) # k_ar_diff +1 = K\n",
    "joh_output(joh_model1)"
   ]
  },
  {
   "cell_type": "code",
   "execution_count": null,
   "metadata": {},
   "outputs": [],
   "source": [
    "exog = train['DayOfWeek']\n",
    "mod = sm.tsa.VARMAX(train[['Sales', 'Customers']], order=(1,1), trend='n',exog=exog)\n",
    "res = mod.fit(maxiter=1000, disp=False)\n",
    "print(res.summary())"
   ]
  },
  {
   "cell_type": "code",
   "execution_count": null,
   "metadata": {},
   "outputs": [],
   "source": [
    "pred_var = test.copy()\n",
    "pred_var['Sales'] = res.predict(test.index.min(), test.index.max(),exog=test['DayOfWeek'])"
   ]
  },
  {
   "cell_type": "code",
   "execution_count": null,
   "metadata": {},
   "outputs": [],
   "source": [
    "plt.figure(figsize=(12,4))\n",
    "plt.plot(train['Sales'], label='Train')\n",
    "plt.plot(test['Sales'], label='Test')\n",
    "plt.plot(pred_var['Sales'][test.index.min():], label='VARMAX')\n",
    "plt.legend(loc='best')\n",
    "plt.title('VAR')\n",
    "plt.show()"
   ]
  },
  {
   "cell_type": "code",
   "execution_count": null,
   "metadata": {},
   "outputs": [],
   "source": [
    "rmse = np.sqrt(mean_squared_error(test['Sales'], pred_var['Sales'])).round(2)\n",
    "mape = np.round(np.mean(np.abs(test['Sales']-pred_var['Sales'])/test['Sales'])*100,2)\n",
    "\n",
    "tempResults = pd.DataFrame({'Method':['VARMAX'],'MAPE': [mape],'RMSE': [rmse]})\n",
    "results = pd.concat([results, tempResults])\n",
    "results = results[['Method', 'RMSE', 'MAPE']]\n",
    "results"
   ]
  },
  {
   "cell_type": "markdown",
   "metadata": {},
   "source": [
    "## VARMAX 2:"
   ]
  },
  {
   "cell_type": "code",
   "execution_count": null,
   "metadata": {},
   "outputs": [],
   "source": [
    "exog = train['Open']\n",
    "mod = sm.tsa.VARMAX(train[['Sales', 'Customers']], order=(1,1), trend='n', exog=exog)\n",
    "res = mod.fit(maxiter=1000, disp=False)\n",
    "print(res.summary())"
   ]
  },
  {
   "cell_type": "code",
   "execution_count": null,
   "metadata": {},
   "outputs": [],
   "source": [
    "pred_var = test.copy()\n",
    "pred_var['Sales'] = res.predict(test.index.min(), test.index.max(),exog=test['Open'])"
   ]
  },
  {
   "cell_type": "code",
   "execution_count": null,
   "metadata": {},
   "outputs": [],
   "source": [
    "plt.figure(figsize=(12,4))\n",
    "plt.plot(train['Sales'], label='Train')\n",
    "plt.plot(test['Sales'], label='Test')\n",
    "plt.plot(pred_var['Sales'][test.index.min():], label='VARMAX')\n",
    "plt.legend(loc='best')\n",
    "plt.title('VARMAX')\n",
    "plt.show()"
   ]
  },
  {
   "cell_type": "code",
   "execution_count": null,
   "metadata": {},
   "outputs": [],
   "source": [
    "rmse = np.sqrt(mean_squared_error(test['Sales'], pred_var['Sales'])).round(2)\n",
    "mape = np.round(np.mean(np.abs(test['Sales']-pred_var['Sales'])/test['Sales'])*100,2)\n",
    "\n",
    "tempResults = pd.DataFrame({'Method':['VARMAX2'],'MAPE': [mape],'RMSE': [rmse]})\n",
    "results = pd.concat([results, tempResults])\n",
    "results = results[['Method', 'RMSE', 'MAPE']]\n",
    "results"
   ]
  },
  {
   "cell_type": "markdown",
   "metadata": {},
   "source": [
    "## VARMAX 3:"
   ]
  },
  {
   "cell_type": "code",
   "execution_count": null,
   "metadata": {},
   "outputs": [],
   "source": [
    "exog = train['Customers']\n",
    "mod = sm.tsa.VARMAX(train[['Sales', 'Competition since years']], order=(1,1), trend='n', exog=exog)\n",
    "res = mod.fit(maxiter=1000, disp=False)\n",
    "print(res.summary())"
   ]
  },
  {
   "cell_type": "code",
   "execution_count": null,
   "metadata": {},
   "outputs": [],
   "source": [
    "pred_var = test.copy()\n",
    "pred_var['Sales'] = res.predict(test.index.min(), test.index.max(),exog=test['Customers'])"
   ]
  },
  {
   "cell_type": "code",
   "execution_count": null,
   "metadata": {},
   "outputs": [],
   "source": [
    "plt.figure(figsize=(12,4))\n",
    "plt.plot(train['Sales'], label='Train')\n",
    "plt.plot(test['Sales'], label='Test')\n",
    "plt.plot(pred_var['Sales'][test.index.min():], label='VARMAX')\n",
    "plt.legend(loc='best')\n",
    "plt.title('VARMAX')\n",
    "plt.show()"
   ]
  },
  {
   "cell_type": "code",
   "execution_count": null,
   "metadata": {},
   "outputs": [],
   "source": [
    "rmse = np.sqrt(mean_squared_error(test['Sales'], pred_var['Sales'])).round(2)\n",
    "mape = np.round(np.mean(np.abs(test['Sales']-pred_var['Sales'])/test['Sales'])*100,2)\n",
    "\n",
    "tempResults = pd.DataFrame({'Method':['VARMAX3'],'MAPE': [mape],'RMSE': [rmse]})\n",
    "results = pd.concat([results, tempResults])\n",
    "results = results[['Method', 'RMSE', 'MAPE']]\n",
    "results"
   ]
  },
  {
   "cell_type": "markdown",
   "metadata": {},
   "source": [
    "## VARMAX 4:"
   ]
  },
  {
   "cell_type": "code",
   "execution_count": null,
   "metadata": {},
   "outputs": [],
   "source": [
    "exog = train['Customers']\n",
    "mod = sm.tsa.VARMAX(train[['Sales', 'Competition since years']], order=(4,4), trend='n', exog=exog)\n",
    "res = mod.fit(maxiter=1000, disp=False)\n",
    "print(res.summary())"
   ]
  },
  {
   "cell_type": "code",
   "execution_count": null,
   "metadata": {},
   "outputs": [],
   "source": [
    "pred_var = test.copy()\n",
    "pred_var['Sales'] = res.predict(test.index.min(), test.index.max(),exog=test['Customers'])"
   ]
  },
  {
   "cell_type": "code",
   "execution_count": null,
   "metadata": {},
   "outputs": [],
   "source": [
    "plt.figure(figsize=(12,4))\n",
    "plt.plot(train['Sales'], label='Train')\n",
    "plt.plot(test['Sales'], label='Test')\n",
    "plt.plot(pred_var['Sales'][test.index.min():], label='VARMAX')\n",
    "plt.legend(loc='best')\n",
    "plt.title('VARMAX')\n",
    "plt.show()"
   ]
  },
  {
   "cell_type": "code",
   "execution_count": null,
   "metadata": {},
   "outputs": [],
   "source": [
    "rmse = np.sqrt(mean_squared_error(test['Sales'], pred_var['Sales'])).round(2)\n",
    "mape = np.round(np.mean(np.abs(test['Sales']-pred_var['Sales'])/test['Sales'])*100,2)\n",
    "\n",
    "tempResults = pd.DataFrame({'Method':['VARMAX4'],'MAPE': [mape],'RMSE': [rmse]})\n",
    "results = pd.concat([results, tempResults])\n",
    "results = results[['Method', 'RMSE', 'MAPE']]\n",
    "results"
   ]
  },
  {
   "cell_type": "code",
   "execution_count": null,
   "metadata": {},
   "outputs": [],
   "source": [
    "# After comparing all the five models VARMAX 4 is the best model to forecast sales for Store 3. "
   ]
  },
  {
   "cell_type": "markdown",
   "metadata": {},
   "source": [
    "# Store - 8 :"
   ]
  },
  {
   "cell_type": "code",
   "execution_count": null,
   "metadata": {},
   "outputs": [],
   "source": [
    "df_8=df[df['Store']==8]\n",
    "df_8.head()"
   ]
  },
  {
   "cell_type": "code",
   "execution_count": null,
   "metadata": {},
   "outputs": [],
   "source": [
    "df_8.shape"
   ]
  },
  {
   "cell_type": "markdown",
   "metadata": {},
   "source": [
    "## Outlier Analysis:"
   ]
  },
  {
   "cell_type": "code",
   "execution_count": null,
   "metadata": {},
   "outputs": [],
   "source": [
    "#Here we perform outlier analysis for sales and customers variables.\n",
    "plt.figure(figsize=[10,8])\n",
    "plt.subplot(1,2,1)\n",
    "ax=sns.boxplot(df_8['Sales'])\n",
    "plt.subplot(1,2,2)\n",
    "ax=sns.boxplot(df_8['Customers'])"
   ]
  },
  {
   "cell_type": "code",
   "execution_count": null,
   "metadata": {},
   "outputs": [],
   "source": [
    "# We need to cap the outliers to their 99 percentile value.\n",
    "df_8['Sales']=df_8['Sales'].clip(lower=df_8['Sales'].min(),upper=df_8['Sales'].quantile(0.99))\n",
    "df_8['Customers']=df_8['Customers'].clip(lower=df_8['Customers'].min(),upper=df_8['Customers'].quantile(0.99))"
   ]
  },
  {
   "cell_type": "code",
   "execution_count": null,
   "metadata": {},
   "outputs": [],
   "source": [
    "plt.figure(figsize=[10,8])\n",
    "plt.subplot(1,2,1)\n",
    "ax=sns.boxplot(df_8['Sales'])\n",
    "plt.subplot(1,2,2)\n",
    "ax=sns.boxplot(df_8['Customers'])"
   ]
  },
  {
   "cell_type": "code",
   "execution_count": null,
   "metadata": {},
   "outputs": [],
   "source": [
    "# We can see that outliers are minimized."
   ]
  },
  {
   "cell_type": "markdown",
   "metadata": {},
   "source": [
    "## Null values handling:"
   ]
  },
  {
   "cell_type": "code",
   "execution_count": null,
   "metadata": {},
   "outputs": [],
   "source": [
    "# If Sales/Customers value ==0 consider them as null.\n",
    "df_8['Sales']=df_8['Sales'].apply(lambda x:np.nan if x==0 else x)\n",
    "df_8['Customers']=df_8['Customers'].apply(lambda x:np.nan if x==0 else x)"
   ]
  },
  {
   "cell_type": "code",
   "execution_count": null,
   "metadata": {},
   "outputs": [],
   "source": [
    "df_8[['Sales','Customers']].isnull().sum()"
   ]
  },
  {
   "cell_type": "code",
   "execution_count": null,
   "metadata": {},
   "outputs": [],
   "source": [
    "# Since we have capped the outliers we can use mean for imputation."
   ]
  },
  {
   "cell_type": "markdown",
   "metadata": {},
   "source": [
    "## Mean imputation:"
   ]
  },
  {
   "cell_type": "code",
   "execution_count": null,
   "metadata": {},
   "outputs": [],
   "source": [
    "df_8.insert(4,'Sales_Mean_Imputation',df_8.Sales.fillna(df_8.Sales.mean()))\n",
    "df_8[['Sales_Mean_Imputation']].plot(figsize=(15, 5))\n",
    "plt.legend(loc='best')\n",
    "plt.title('Sales: Mean imputation')\n",
    "plt.show()"
   ]
  },
  {
   "cell_type": "code",
   "execution_count": null,
   "metadata": {},
   "outputs": [],
   "source": [
    "df_8.drop(['Sales'],axis=1,inplace=True)\n",
    "df_8.rename(columns={'Sales_Mean_Imputation':'Sales'},inplace=True)"
   ]
  },
  {
   "cell_type": "code",
   "execution_count": null,
   "metadata": {},
   "outputs": [],
   "source": [
    "# Do the same mean imputation for Customers variable\n",
    "df_8.insert(5,'Customers_Mean_Imputation',df_8.Customers.fillna(df_8.Customers.mean()))\n",
    "df_8[['Customers_Mean_Imputation']].plot(figsize=(15, 5))\n",
    "plt.legend(loc='best')\n",
    "plt.title('Customers: Mean imputation')\n",
    "plt.show()"
   ]
  },
  {
   "cell_type": "code",
   "execution_count": null,
   "metadata": {},
   "outputs": [],
   "source": [
    "df_8.drop(['Customers'],axis=1,inplace=True)\n",
    "df_8.rename(columns={'Customers_Mean_Imputation':'Customers'},inplace=True)"
   ]
  },
  {
   "cell_type": "code",
   "execution_count": null,
   "metadata": {},
   "outputs": [],
   "source": [
    "# convert both sales and customers to int\n",
    "df_8['Sales']=df_8['Sales'].astype('int64')\n",
    "df_8['Customers']=df_8['Customers'].astype('int64')\n",
    "df_8.head()"
   ]
  },
  {
   "cell_type": "markdown",
   "metadata": {},
   "source": [
    "## Train-Test Split:"
   ]
  },
  {
   "cell_type": "code",
   "execution_count": null,
   "metadata": {},
   "outputs": [],
   "source": [
    "train=df_8[0:train_len]\n",
    "test=df_8[train_len:]"
   ]
  },
  {
   "cell_type": "code",
   "execution_count": null,
   "metadata": {},
   "outputs": [],
   "source": [
    "train.shape"
   ]
  },
  {
   "cell_type": "code",
   "execution_count": null,
   "metadata": {},
   "outputs": [],
   "source": [
    "test.shape"
   ]
  },
  {
   "cell_type": "markdown",
   "metadata": {},
   "source": [
    "## Stationarity test(ADF test):"
   ]
  },
  {
   "cell_type": "code",
   "execution_count": null,
   "metadata": {},
   "outputs": [],
   "source": [
    "for i in ['Sales','Customers']:\n",
    "    print('\\n\\n' + i + ': ADF test results:')\n",
    "    result = adfuller(train[i].dropna())\n",
    "    print('ADF Statistic: %f' % result[0])\n",
    "    print('p-value: %f' % result[1])\n",
    "    print('Critical Values:')\n",
    "    for key, value in result[4].items():\n",
    "        if key=='5%':\n",
    "            print('\\t%s: %.3f' % (key, value))"
   ]
  },
  {
   "cell_type": "markdown",
   "metadata": {},
   "source": [
    "## Model Building:"
   ]
  },
  {
   "cell_type": "markdown",
   "metadata": {},
   "source": [
    "### SARIMAX:"
   ]
  },
  {
   "cell_type": "code",
   "execution_count": null,
   "metadata": {},
   "outputs": [],
   "source": [
    "model = SARIMAX(train['Sales'], order=(1, 1, 1), seasonal_order=(1, 1, 1, 12),exog=train['Customers']) \n",
    "model_fit = model.fit()\n",
    "print(model_fit.params)"
   ]
  },
  {
   "cell_type": "code",
   "execution_count": null,
   "metadata": {},
   "outputs": [],
   "source": [
    "model_fit.summary()"
   ]
  },
  {
   "cell_type": "code",
   "execution_count": null,
   "metadata": {},
   "outputs": [],
   "source": [
    "pred = test.copy()\n",
    "pred['Sales'] = model_fit.predict(test.index.min(), test.index.max(),exog=test['Customers'])"
   ]
  },
  {
   "cell_type": "code",
   "execution_count": null,
   "metadata": {},
   "outputs": [],
   "source": [
    "plt.figure(figsize=(12,4))\n",
    "plt.plot(train['Sales'], label='Train')\n",
    "plt.plot(test['Sales'], label='Test')\n",
    "plt.plot(pred['Sales'][test.index.min():], label='SARIMAX forecast')\n",
    "plt.legend(loc='best')\n",
    "plt.title('SARIMAX')\n",
    "plt.show()"
   ]
  },
  {
   "cell_type": "code",
   "execution_count": null,
   "metadata": {},
   "outputs": [],
   "source": [
    "rmse = np.sqrt(mean_squared_error(test['Sales'], pred['Sales'])).round(2)\n",
    "mape = np.round(np.mean(np.abs(test['Sales']-pred['Sales'])/test['Sales'])*100,2)\n",
    "results = pd.DataFrame({'Method':['SARIMAX'], 'MAPE': [mape], 'RMSE': [rmse]})\n",
    "results = results[['Method', 'RMSE', 'MAPE']]\n",
    "results"
   ]
  },
  {
   "cell_type": "markdown",
   "metadata": {},
   "source": [
    "## VARMAX 1:"
   ]
  },
  {
   "cell_type": "code",
   "execution_count": null,
   "metadata": {},
   "outputs": [],
   "source": [
    "train.head()"
   ]
  },
  {
   "cell_type": "code",
   "execution_count": null,
   "metadata": {},
   "outputs": [],
   "source": [
    "train['Sales']=train['Sales'].astype('float64')\n",
    "train['Customers']=train['Customers'].astype('float64')"
   ]
  },
  {
   "cell_type": "code",
   "execution_count": null,
   "metadata": {},
   "outputs": [],
   "source": [
    "exog = train['DayOfWeek']\n",
    "mod = sm.tsa.VARMAX(train[['Sales', 'Customers']], order=(1,1), trend='n', exog=exog)\n",
    "res = mod.fit(maxiter=1000, disp=False)\n",
    "print(res.summary())"
   ]
  },
  {
   "cell_type": "code",
   "execution_count": null,
   "metadata": {},
   "outputs": [],
   "source": [
    "pred_var = test.copy()\n",
    "pred_var['Sales'] = res.predict(test.index.min(), test.index.max(),exog=test['DayOfWeek'])"
   ]
  },
  {
   "cell_type": "code",
   "execution_count": null,
   "metadata": {},
   "outputs": [],
   "source": [
    "plt.figure(figsize=(12,4))\n",
    "plt.plot(train['Sales'], label='Train')\n",
    "plt.plot(test['Sales'], label='Test')\n",
    "plt.plot(pred_var['Sales'][test.index.min():], label='VARMAX')\n",
    "plt.legend(loc='best')\n",
    "plt.title('VARMAX')\n",
    "plt.show()"
   ]
  },
  {
   "cell_type": "code",
   "execution_count": null,
   "metadata": {},
   "outputs": [],
   "source": [
    "rmse = np.sqrt(mean_squared_error(test['Sales'], pred_var['Sales'])).round(2)\n",
    "mape = np.round(np.mean(np.abs(test['Sales']-pred_var['Sales'])/test['Sales'])*100,2)\n",
    "\n",
    "tempResults = pd.DataFrame({'Method':['VARMAX'],'MAPE': [mape],'RMSE': [rmse]})\n",
    "results = pd.concat([results, tempResults])\n",
    "results = results[['Method', 'RMSE', 'MAPE']]\n",
    "results"
   ]
  },
  {
   "cell_type": "markdown",
   "metadata": {},
   "source": [
    "## VARMAX 2:"
   ]
  },
  {
   "cell_type": "code",
   "execution_count": null,
   "metadata": {},
   "outputs": [],
   "source": [
    "exog = train['Open']\n",
    "mod = sm.tsa.VARMAX(train[['Sales', 'Customers']], order=(1,1), trend='n', exog=exog)\n",
    "res = mod.fit(maxiter=1000, disp=False)\n",
    "print(res.summary())"
   ]
  },
  {
   "cell_type": "code",
   "execution_count": null,
   "metadata": {},
   "outputs": [],
   "source": [
    "pred_var = test.copy()\n",
    "pred_var['Sales'] = res.predict(test.index.min(), test.index.max(),exog=test['Open'])"
   ]
  },
  {
   "cell_type": "code",
   "execution_count": null,
   "metadata": {},
   "outputs": [],
   "source": [
    "plt.figure(figsize=(12,4))\n",
    "plt.plot(train['Sales'], label='Train')\n",
    "plt.plot(test['Sales'], label='Test')\n",
    "plt.plot(pred_var['Sales'][test.index.min():], label='VARMAX')\n",
    "plt.legend(loc='best')\n",
    "plt.title('VARMAX')\n",
    "plt.show()"
   ]
  },
  {
   "cell_type": "code",
   "execution_count": null,
   "metadata": {},
   "outputs": [],
   "source": [
    "rmse = np.sqrt(mean_squared_error(test['Sales'], pred_var['Sales'])).round(2)\n",
    "mape = np.round(np.mean(np.abs(test['Sales']-pred_var['Sales'])/test['Sales'])*100,2)\n",
    "\n",
    "tempResults = pd.DataFrame({'Method':['VARMAX2'],'MAPE': [mape],'RMSE': [rmse]})\n",
    "results = pd.concat([results, tempResults])\n",
    "results = results[['Method', 'RMSE', 'MAPE']]\n",
    "results"
   ]
  },
  {
   "cell_type": "markdown",
   "metadata": {},
   "source": [
    "### VARMAX 3:"
   ]
  },
  {
   "cell_type": "code",
   "execution_count": null,
   "metadata": {},
   "outputs": [],
   "source": [
    "exog = train['Customers']\n",
    "mod = sm.tsa.VARMAX(train[['Sales', 'Competition since years']], order=(1,1), trend='n', exog=exog)\n",
    "res = mod.fit(maxiter=1000, disp=False)\n",
    "print(res.summary())"
   ]
  },
  {
   "cell_type": "code",
   "execution_count": null,
   "metadata": {},
   "outputs": [],
   "source": [
    "pred_var = test.copy()\n",
    "pred_var['Sales'] = res.predict(test.index.min(), test.index.max(),exog=test['Customers'])"
   ]
  },
  {
   "cell_type": "code",
   "execution_count": null,
   "metadata": {},
   "outputs": [],
   "source": [
    "plt.figure(figsize=(12,4))\n",
    "plt.plot(train['Sales'], label='Train')\n",
    "plt.plot(test['Sales'], label='Test')\n",
    "plt.plot(pred_var['Sales'][test.index.min():], label='VARMAX')\n",
    "plt.legend(loc='best')\n",
    "plt.title('VARMAX')\n",
    "plt.show()"
   ]
  },
  {
   "cell_type": "code",
   "execution_count": null,
   "metadata": {},
   "outputs": [],
   "source": [
    "rmse = np.sqrt(mean_squared_error(test['Sales'], pred_var['Sales'])).round(2)\n",
    "mape = np.round(np.mean(np.abs(test['Sales']-pred_var['Sales'])/test['Sales'])*100,2)\n",
    "\n",
    "tempResults = pd.DataFrame({'Method':['VARMAX3'],'MAPE': [mape],'RMSE': [rmse]})\n",
    "results = pd.concat([results, tempResults])\n",
    "results = results[['Method', 'RMSE', 'MAPE']]\n",
    "results"
   ]
  },
  {
   "cell_type": "markdown",
   "metadata": {},
   "source": [
    "### VARMAX 4:"
   ]
  },
  {
   "cell_type": "code",
   "execution_count": null,
   "metadata": {},
   "outputs": [],
   "source": [
    "exog = train['Customers']\n",
    "mod = sm.tsa.VARMAX(train[['Sales', 'Competition since years']], order=(6,6), trend='n', exog=exog)\n",
    "res = mod.fit(maxiter=1000, disp=False)\n",
    "print(res.summary())"
   ]
  },
  {
   "cell_type": "code",
   "execution_count": null,
   "metadata": {},
   "outputs": [],
   "source": [
    "pred_var = test.copy()\n",
    "pred_var['Sales'] = res.predict(test.index.min(), test.index.max(),exog=test['Customers'])"
   ]
  },
  {
   "cell_type": "code",
   "execution_count": null,
   "metadata": {},
   "outputs": [],
   "source": [
    "plt.figure(figsize=(12,4))\n",
    "plt.plot(train['Sales'], label='Train')\n",
    "plt.plot(test['Sales'], label='Test')\n",
    "plt.plot(pred_var['Sales'][test.index.min():], label='VARMAX')\n",
    "plt.legend(loc='best')\n",
    "plt.title('VARMAX')\n",
    "plt.show()"
   ]
  },
  {
   "cell_type": "code",
   "execution_count": null,
   "metadata": {},
   "outputs": [],
   "source": [
    "rmse = np.sqrt(mean_squared_error(test['Sales'], pred_var['Sales'])).round(2)\n",
    "mape = np.round(np.mean(np.abs(test['Sales']-pred_var['Sales'])/test['Sales'])*100,2)\n",
    "\n",
    "tempResults = pd.DataFrame({'Method':['VARMAX4'],'MAPE': [mape],'RMSE': [rmse]})\n",
    "results = pd.concat([results, tempResults])\n",
    "results = results[['Method', 'RMSE', 'MAPE']]\n",
    "results"
   ]
  },
  {
   "cell_type": "code",
   "execution_count": null,
   "metadata": {},
   "outputs": [],
   "source": [
    "# After comparing all the five models SARIMAX is the best model to forecast sales for Store 8. "
   ]
  },
  {
   "cell_type": "markdown",
   "metadata": {},
   "source": [
    "# Store 9:"
   ]
  },
  {
   "cell_type": "code",
   "execution_count": null,
   "metadata": {},
   "outputs": [],
   "source": [
    "df_9=df[df['Store']==9]\n",
    "df_9.head()"
   ]
  },
  {
   "cell_type": "code",
   "execution_count": null,
   "metadata": {},
   "outputs": [],
   "source": [
    "df_9.shape"
   ]
  },
  {
   "cell_type": "markdown",
   "metadata": {},
   "source": [
    "## Outliers Analysis:"
   ]
  },
  {
   "cell_type": "code",
   "execution_count": null,
   "metadata": {},
   "outputs": [],
   "source": [
    "#Here we perform outlier analysis for sales and customers variables.\n",
    "plt.figure(figsize=[10,8])\n",
    "plt.subplot(1,2,1)\n",
    "ax=sns.boxplot(df_9['Sales'])\n",
    "plt.subplot(1,2,2)\n",
    "ax=sns.boxplot(df_9['Customers'])"
   ]
  },
  {
   "cell_type": "code",
   "execution_count": null,
   "metadata": {},
   "outputs": [],
   "source": [
    "# We need to cap the outliers to their 99 percentile value.\n",
    "df_9['Sales']=df_9['Sales'].clip(lower=df_9['Sales'].min(),upper=df_9['Sales'].quantile(0.99))\n",
    "df_9['Customers']=df_9['Customers'].clip(lower=df_9['Customers'].min(),upper=df_9['Customers'].quantile(0.99))"
   ]
  },
  {
   "cell_type": "code",
   "execution_count": null,
   "metadata": {},
   "outputs": [],
   "source": [
    "#Here we perform outlier analysis for sales and customers variables.\n",
    "plt.figure(figsize=[10,8])\n",
    "plt.subplot(1,2,1)\n",
    "ax=sns.boxplot(df_9['Sales'])\n",
    "plt.subplot(1,2,2)\n",
    "ax=sns.boxplot(df_9['Customers'])"
   ]
  },
  {
   "cell_type": "code",
   "execution_count": null,
   "metadata": {},
   "outputs": [],
   "source": [
    "# We can see that outliers are minimized."
   ]
  },
  {
   "cell_type": "markdown",
   "metadata": {},
   "source": [
    "## Handling null values:"
   ]
  },
  {
   "cell_type": "code",
   "execution_count": null,
   "metadata": {},
   "outputs": [],
   "source": [
    "# If Sales/Customers value ==0 consider them as null.\n",
    "df_9['Sales']=df_9['Sales'].apply(lambda x:np.nan if x==0 else x)\n",
    "df_9['Customers']=df_9['Customers'].apply(lambda x:np.nan if x==0 else x)"
   ]
  },
  {
   "cell_type": "code",
   "execution_count": null,
   "metadata": {},
   "outputs": [],
   "source": [
    "df_9[['Sales','Customers']].isnull().sum()"
   ]
  },
  {
   "cell_type": "markdown",
   "metadata": {},
   "source": [
    "## Mean imputation:"
   ]
  },
  {
   "cell_type": "code",
   "execution_count": null,
   "metadata": {},
   "outputs": [],
   "source": [
    "df_9.insert(4,'Sales_Mean_Imputation',df_9.Sales.fillna(df_9.Sales.mean()))\n",
    "df_9[['Sales_Mean_Imputation']].plot(figsize=(15, 5))\n",
    "plt.legend(loc='best')\n",
    "plt.title('Sales: Mean imputation')\n",
    "plt.show()"
   ]
  },
  {
   "cell_type": "code",
   "execution_count": null,
   "metadata": {},
   "outputs": [],
   "source": [
    "df_9.drop(['Sales'],axis=1,inplace=True)\n",
    "df_9.rename(columns={'Sales_Mean_Imputation':'Sales'},inplace=True)"
   ]
  },
  {
   "cell_type": "code",
   "execution_count": null,
   "metadata": {},
   "outputs": [],
   "source": [
    "# Do the same mean imputation for Customers variable\n",
    "df_9.insert(5,'Customers_Mean_Imputation',df_9.Customers.fillna(df_9.Customers.mean()))\n",
    "df_9[['Customers_Mean_Imputation']].plot(figsize=(15, 5))\n",
    "plt.legend(loc='best')\n",
    "plt.title('Customers: Mean imputation')\n",
    "plt.show()"
   ]
  },
  {
   "cell_type": "code",
   "execution_count": null,
   "metadata": {},
   "outputs": [],
   "source": [
    "df_9.drop(['Customers'],axis=1,inplace=True)\n",
    "df_9.rename(columns={'Customers_Mean_Imputation':'Customers'},inplace=True)"
   ]
  },
  {
   "cell_type": "markdown",
   "metadata": {},
   "source": [
    "## Train-Test Split:"
   ]
  },
  {
   "cell_type": "code",
   "execution_count": null,
   "metadata": {},
   "outputs": [],
   "source": [
    "train=df_9[0:train_len]\n",
    "test=df_9[train_len:]"
   ]
  },
  {
   "cell_type": "code",
   "execution_count": null,
   "metadata": {},
   "outputs": [],
   "source": [
    "train.shape"
   ]
  },
  {
   "cell_type": "code",
   "execution_count": null,
   "metadata": {},
   "outputs": [],
   "source": [
    "test.shape"
   ]
  },
  {
   "cell_type": "markdown",
   "metadata": {},
   "source": [
    "## Stationarity test (ADF test):"
   ]
  },
  {
   "cell_type": "code",
   "execution_count": null,
   "metadata": {},
   "outputs": [],
   "source": [
    "for i in ['Sales','Customers']:\n",
    "    print('\\n\\n' + i + ': ADF test results:')\n",
    "    result = adfuller(train[i].dropna())\n",
    "    print('ADF Statistic: %f' % result[0])\n",
    "    print('p-value: %f' % result[1])\n",
    "    print('Critical Values:')\n",
    "    for key, value in result[4].items():\n",
    "        if key=='5%':\n",
    "            print('\\t%s: %.3f' % (key, value))"
   ]
  },
  {
   "cell_type": "code",
   "execution_count": null,
   "metadata": {},
   "outputs": [],
   "source": [
    "# since p-value for both variables is less than 0.05 they both are stationary."
   ]
  },
  {
   "cell_type": "markdown",
   "metadata": {},
   "source": [
    "## Model Building:"
   ]
  },
  {
   "cell_type": "markdown",
   "metadata": {},
   "source": [
    "### SARIMAX:"
   ]
  },
  {
   "cell_type": "code",
   "execution_count": null,
   "metadata": {},
   "outputs": [],
   "source": [
    "model = SARIMAX(train['Sales'], order=(1, 1, 1), seasonal_order=(1, 1, 1, 12),exog=train['Promo2']) \n",
    "model_fit = model.fit()\n",
    "print(model_fit.params)"
   ]
  },
  {
   "cell_type": "code",
   "execution_count": null,
   "metadata": {},
   "outputs": [],
   "source": [
    "model_fit.summary()"
   ]
  },
  {
   "cell_type": "code",
   "execution_count": null,
   "metadata": {},
   "outputs": [],
   "source": [
    "pred = test.copy()\n",
    "pred['Sales'] = model_fit.predict(test.index.min(), test.index.max(),exog=test['Promo2'])"
   ]
  },
  {
   "cell_type": "code",
   "execution_count": null,
   "metadata": {},
   "outputs": [],
   "source": [
    "plt.figure(figsize=(12,4))\n",
    "plt.plot(train['Sales'], label='Train')\n",
    "plt.plot(test['Sales'], label='Test')\n",
    "plt.plot(pred['Sales'][test.index.min():], label='SARIMAX forecast')\n",
    "plt.legend(loc='best')\n",
    "plt.title('SARIMAX')\n",
    "plt.show()"
   ]
  },
  {
   "cell_type": "code",
   "execution_count": null,
   "metadata": {},
   "outputs": [],
   "source": [
    "rmse = np.sqrt(mean_squared_error(test['Sales'], pred['Sales'])).round(2)\n",
    "mape = np.round(np.mean(np.abs(test['Sales']-pred['Sales'])/test['Sales'])*100,2)\n",
    "results = pd.DataFrame({'Method':['SARIMAX'], 'MAPE': [mape], 'RMSE': [rmse]})\n",
    "results = results[['Method', 'RMSE', 'MAPE']]\n",
    "results"
   ]
  },
  {
   "cell_type": "markdown",
   "metadata": {},
   "source": [
    "### VARMAX 1:"
   ]
  },
  {
   "cell_type": "code",
   "execution_count": null,
   "metadata": {},
   "outputs": [],
   "source": [
    "train['Sales']=train['Sales'].astype('float64')\n",
    "train['Customers']=train['Customers'].astype('float64')"
   ]
  },
  {
   "cell_type": "code",
   "execution_count": null,
   "metadata": {},
   "outputs": [],
   "source": [
    "exog = train['DayOfWeek']\n",
    "mod = sm.tsa.VARMAX(train[['Sales', 'Customers']], order=(1,1), trend='n', exog=exog)\n",
    "res = mod.fit(maxiter=1000, disp=False)\n",
    "print(res.summary())"
   ]
  },
  {
   "cell_type": "code",
   "execution_count": null,
   "metadata": {},
   "outputs": [],
   "source": [
    "pred_var = test.copy()\n",
    "pred_var['Sales'] = res.predict(test.index.min(), test.index.max(),exog=test['DayOfWeek'])"
   ]
  },
  {
   "cell_type": "code",
   "execution_count": null,
   "metadata": {},
   "outputs": [],
   "source": [
    "plt.figure(figsize=(12,4))\n",
    "plt.plot(train['Sales'], label='Train')\n",
    "plt.plot(test['Sales'], label='Test')\n",
    "plt.plot(pred_var['Sales'][test.index.min():], label='VARMAX')\n",
    "plt.legend(loc='best')\n",
    "plt.title('VARMAX')\n",
    "plt.show()"
   ]
  },
  {
   "cell_type": "code",
   "execution_count": null,
   "metadata": {},
   "outputs": [],
   "source": [
    "rmse = np.sqrt(mean_squared_error(test['Sales'], pred_var['Sales'])).round(2)\n",
    "mape = np.round(np.mean(np.abs(test['Sales']-pred_var['Sales'])/test['Sales'])*100,2)\n",
    "\n",
    "tempResults = pd.DataFrame({'Method':['VARMAX'],'MAPE': [mape],'RMSE': [rmse]})\n",
    "results = pd.concat([results, tempResults])\n",
    "results = results[['Method', 'RMSE', 'MAPE']]\n",
    "results"
   ]
  },
  {
   "cell_type": "markdown",
   "metadata": {},
   "source": [
    "## VARMAX 2:"
   ]
  },
  {
   "cell_type": "code",
   "execution_count": null,
   "metadata": {},
   "outputs": [],
   "source": [
    "exog = train['Open']\n",
    "mod = sm.tsa.VARMAX(train[['Sales', 'Customers']], order=(1,1), trend='n', exog=exog)\n",
    "res = mod.fit(maxiter=1000, disp=False)\n",
    "print(res.summary())"
   ]
  },
  {
   "cell_type": "code",
   "execution_count": null,
   "metadata": {},
   "outputs": [],
   "source": [
    "pred_var = test.copy()\n",
    "pred_var['Sales'] = res.predict(test.index.min(), test.index.max(),exog=test['Open'])"
   ]
  },
  {
   "cell_type": "code",
   "execution_count": null,
   "metadata": {},
   "outputs": [],
   "source": [
    "plt.figure(figsize=(12,4))\n",
    "plt.plot(train['Sales'], label='Train')\n",
    "plt.plot(test['Sales'], label='Test')\n",
    "plt.plot(pred_var['Sales'][test.index.min():], label='VARMAX')\n",
    "plt.legend(loc='best')\n",
    "plt.title('VARMAX')\n",
    "plt.show()"
   ]
  },
  {
   "cell_type": "code",
   "execution_count": null,
   "metadata": {},
   "outputs": [],
   "source": [
    "rmse = np.sqrt(mean_squared_error(test['Sales'], pred_var['Sales'])).round(2)\n",
    "mape = np.round(np.mean(np.abs(test['Sales']-pred_var['Sales'])/test['Sales'])*100,2)\n",
    "\n",
    "tempResults = pd.DataFrame({'Method':['VARMAX2'],'MAPE': [mape],'RMSE': [rmse]})\n",
    "results = pd.concat([results, tempResults])\n",
    "results = results[['Method', 'RMSE', 'MAPE']]\n",
    "results"
   ]
  },
  {
   "cell_type": "markdown",
   "metadata": {},
   "source": [
    "### VARMAX 3:"
   ]
  },
  {
   "cell_type": "code",
   "execution_count": null,
   "metadata": {},
   "outputs": [],
   "source": [
    "exog = train['Customers']\n",
    "mod = sm.tsa.VARMAX(train[['Sales', 'Competition since years']], order=(1,1), trend='n', exog=exog)\n",
    "res = mod.fit(maxiter=1000, disp=False)\n",
    "print(res.summary())"
   ]
  },
  {
   "cell_type": "code",
   "execution_count": null,
   "metadata": {},
   "outputs": [],
   "source": [
    "pred_var = test.copy()\n",
    "pred_var['Sales'] = res.predict(test.index.min(), test.index.max(),exog=test['Customers'])"
   ]
  },
  {
   "cell_type": "code",
   "execution_count": null,
   "metadata": {},
   "outputs": [],
   "source": [
    "plt.figure(figsize=(12,4))\n",
    "plt.plot(train['Sales'], label='Train')\n",
    "plt.plot(test['Sales'], label='Test')\n",
    "plt.plot(pred_var['Sales'][test.index.min():], label='VARMAX')\n",
    "plt.legend(loc='best')\n",
    "plt.title('VARMAX')\n",
    "plt.show()"
   ]
  },
  {
   "cell_type": "code",
   "execution_count": null,
   "metadata": {},
   "outputs": [],
   "source": [
    "rmse = np.sqrt(mean_squared_error(test['Sales'], pred_var['Sales'])).round(2)\n",
    "mape = np.round(np.mean(np.abs(test['Sales']-pred_var['Sales'])/test['Sales'])*100,2)\n",
    "\n",
    "tempResults = pd.DataFrame({'Method':['VARMAX3'],'MAPE': [mape],'RMSE': [rmse]})\n",
    "results = pd.concat([results, tempResults])\n",
    "results = results[['Method', 'RMSE', 'MAPE']]\n",
    "results"
   ]
  },
  {
   "cell_type": "markdown",
   "metadata": {},
   "source": [
    "### VARMAX 4:"
   ]
  },
  {
   "cell_type": "code",
   "execution_count": null,
   "metadata": {},
   "outputs": [],
   "source": [
    "exog = train['Customers']\n",
    "mod = sm.tsa.VARMAX(train[['Sales', 'Competition since years']], order=(6,6), trend='n', exog=exog)\n",
    "res = mod.fit(maxiter=1000, disp=False)\n",
    "print(res.summary())"
   ]
  },
  {
   "cell_type": "code",
   "execution_count": null,
   "metadata": {},
   "outputs": [],
   "source": [
    "pred_var = test.copy()\n",
    "pred_var['Sales'] = res.predict(test.index.min(), test.index.max(),exog=test['Customers'])"
   ]
  },
  {
   "cell_type": "code",
   "execution_count": null,
   "metadata": {},
   "outputs": [],
   "source": [
    "plt.figure(figsize=(12,4))\n",
    "plt.plot(train['Sales'], label='Train')\n",
    "plt.plot(test['Sales'], label='Test')\n",
    "plt.plot(pred_var['Sales'][test.index.min():], label='VARMAX')\n",
    "plt.legend(loc='best')\n",
    "plt.title('VARMAX')\n",
    "plt.show()"
   ]
  },
  {
   "cell_type": "code",
   "execution_count": null,
   "metadata": {},
   "outputs": [],
   "source": [
    "rmse = np.sqrt(mean_squared_error(test['Sales'], pred_var['Sales'])).round(2)\n",
    "mape = np.round(np.mean(np.abs(test['Sales']-pred_var['Sales'])/test['Sales'])*100,2)\n",
    "\n",
    "tempResults = pd.DataFrame({'Method':['VARMAX4'],'MAPE': [mape],'RMSE': [rmse]})\n",
    "results = pd.concat([results, tempResults])\n",
    "results = results[['Method', 'RMSE', 'MAPE']]\n",
    "results"
   ]
  },
  {
   "cell_type": "code",
   "execution_count": null,
   "metadata": {},
   "outputs": [],
   "source": [
    "# After comparing all the five models VARMAX 3 is the best model to forecast sales for Store 9. "
   ]
  },
  {
   "cell_type": "markdown",
   "metadata": {},
   "source": [
    "# Store 13:"
   ]
  },
  {
   "cell_type": "code",
   "execution_count": null,
   "metadata": {},
   "outputs": [],
   "source": [
    "df_13=df[df['Store']==13]"
   ]
  },
  {
   "cell_type": "code",
   "execution_count": null,
   "metadata": {},
   "outputs": [],
   "source": [
    "df_13.head()"
   ]
  },
  {
   "cell_type": "code",
   "execution_count": null,
   "metadata": {},
   "outputs": [],
   "source": [
    "df_13.shape"
   ]
  },
  {
   "cell_type": "markdown",
   "metadata": {},
   "source": [
    "## Outlier Analysis:"
   ]
  },
  {
   "cell_type": "code",
   "execution_count": null,
   "metadata": {},
   "outputs": [],
   "source": [
    "#Here we perform outlier analysis for sales and customers variables.\n",
    "plt.figure(figsize=[10,8])\n",
    "plt.subplot(1,2,1)\n",
    "ax=sns.boxplot(df_13['Sales'])\n",
    "plt.subplot(1,2,2)\n",
    "ax=sns.boxplot(df_13['Customers'])"
   ]
  },
  {
   "cell_type": "code",
   "execution_count": null,
   "metadata": {},
   "outputs": [],
   "source": [
    "# We need to cap the outliers to their 99 percentile value.\n",
    "df_13['Sales']=df_13['Sales'].clip(lower=df_13['Sales'].min(),upper=df_13['Sales'].quantile(0.99))\n",
    "df_13['Customers']=df_13['Customers'].clip(lower=df_13['Customers'].min(),upper=df_13['Customers'].quantile(0.99))"
   ]
  },
  {
   "cell_type": "code",
   "execution_count": null,
   "metadata": {},
   "outputs": [],
   "source": [
    "plt.figure(figsize=[10,8])\n",
    "plt.subplot(1,2,1)\n",
    "ax=sns.boxplot(df_13['Sales'])\n",
    "plt.subplot(1,2,2)\n",
    "ax=sns.boxplot(df_13['Customers'])"
   ]
  },
  {
   "cell_type": "code",
   "execution_count": null,
   "metadata": {},
   "outputs": [],
   "source": [
    "# We can see that outliers are minimized."
   ]
  },
  {
   "cell_type": "markdown",
   "metadata": {},
   "source": [
    "## Null Value Handling:"
   ]
  },
  {
   "cell_type": "code",
   "execution_count": null,
   "metadata": {},
   "outputs": [],
   "source": [
    "# If Sales/Customers value ==0 consider them as null.\n",
    "df_13['Sales']=df_13['Sales'].apply(lambda x:np.nan if x==0 else x)\n",
    "df_13['Customers']=df_13['Customers'].apply(lambda x:np.nan if x==0 else x)"
   ]
  },
  {
   "cell_type": "code",
   "execution_count": null,
   "metadata": {},
   "outputs": [],
   "source": [
    "df_13[['Sales','Customers']].isnull().sum()"
   ]
  },
  {
   "cell_type": "code",
   "execution_count": null,
   "metadata": {},
   "outputs": [],
   "source": [
    "# Since we have capped the outliers we can use mean for imputation."
   ]
  },
  {
   "cell_type": "markdown",
   "metadata": {},
   "source": [
    "## Mean imputation:"
   ]
  },
  {
   "cell_type": "code",
   "execution_count": null,
   "metadata": {},
   "outputs": [],
   "source": [
    "df_13.insert(4,'Sales_Mean_Imputation',df_13.Sales.fillna(df_13.Sales.mean()))\n",
    "df_13[['Sales_Mean_Imputation']].plot(figsize=(15, 5))\n",
    "plt.legend(loc='best')\n",
    "plt.title('Sales: Mean imputation')\n",
    "plt.show()"
   ]
  },
  {
   "cell_type": "code",
   "execution_count": null,
   "metadata": {},
   "outputs": [],
   "source": [
    "df_13.drop(['Sales'],axis=1,inplace=True)\n",
    "df_13.rename(columns={'Sales_Mean_Imputation':'Sales'},inplace=True)"
   ]
  },
  {
   "cell_type": "code",
   "execution_count": null,
   "metadata": {},
   "outputs": [],
   "source": [
    "# Do the same mean imputation for Customers variable\n",
    "df_13.insert(5,'Customers_Mean_Imputation',df_13.Customers.fillna(df_13.Customers.mean()))\n",
    "df_13[['Customers_Mean_Imputation']].plot(figsize=(15, 5))\n",
    "plt.legend(loc='best')\n",
    "plt.title('Customers: Mean imputation')\n",
    "plt.show()"
   ]
  },
  {
   "cell_type": "code",
   "execution_count": null,
   "metadata": {},
   "outputs": [],
   "source": [
    "df_13.drop(['Customers'],axis=1,inplace=True)\n",
    "df_13.rename(columns={'Customers_Mean_Imputation':'Customers'},inplace=True)"
   ]
  },
  {
   "cell_type": "markdown",
   "metadata": {},
   "source": [
    "## Train-Test Split:"
   ]
  },
  {
   "cell_type": "code",
   "execution_count": null,
   "metadata": {},
   "outputs": [],
   "source": [
    "train=df_1[0:train_len]\n",
    "test=df_1[train_len:]"
   ]
  },
  {
   "cell_type": "code",
   "execution_count": null,
   "metadata": {},
   "outputs": [],
   "source": [
    "train.shape"
   ]
  },
  {
   "cell_type": "code",
   "execution_count": null,
   "metadata": {},
   "outputs": [],
   "source": [
    "test.shape"
   ]
  },
  {
   "cell_type": "code",
   "execution_count": null,
   "metadata": {},
   "outputs": [],
   "source": [
    "train.tail(2)"
   ]
  },
  {
   "cell_type": "markdown",
   "metadata": {},
   "source": [
    "## Stationarity test:"
   ]
  },
  {
   "cell_type": "code",
   "execution_count": null,
   "metadata": {},
   "outputs": [],
   "source": [
    "for i in ['Sales','Customers']:\n",
    "    print('\\n\\n' + i + ': ADF test results:')\n",
    "    result = adfuller(train[i].dropna())\n",
    "    print('ADF Statistic: %f' % result[0])\n",
    "    print('p-value: %f' % result[1])\n",
    "    print('Critical Values:')\n",
    "    for key, value in result[4].items():\n",
    "        if key=='5%':\n",
    "            print('\\t%s: %.3f' % (key, value))"
   ]
  },
  {
   "cell_type": "code",
   "execution_count": null,
   "metadata": {},
   "outputs": [],
   "source": [
    "# since p-value for both variables is less than 0.05 they both are stationary."
   ]
  },
  {
   "cell_type": "markdown",
   "metadata": {},
   "source": [
    "## Modelling:"
   ]
  },
  {
   "cell_type": "markdown",
   "metadata": {},
   "source": [
    "### SARIMAX:"
   ]
  },
  {
   "cell_type": "code",
   "execution_count": null,
   "metadata": {},
   "outputs": [],
   "source": [
    "model = SARIMAX(train['Sales'], order=(1, 1, 1), seasonal_order=(1, 1, 1, 12),exog=train['Customers']) \n",
    "model_fit = model.fit()\n",
    "print(model_fit.params)"
   ]
  },
  {
   "cell_type": "code",
   "execution_count": null,
   "metadata": {},
   "outputs": [],
   "source": [
    "model_fit.summary()"
   ]
  },
  {
   "cell_type": "code",
   "execution_count": null,
   "metadata": {
    "scrolled": true
   },
   "outputs": [],
   "source": [
    "pred = test.copy()\n",
    "pred['Sales'] = model_fit.predict(test.index.min(), test.index.max(),exog=test['Customers'])"
   ]
  },
  {
   "cell_type": "code",
   "execution_count": null,
   "metadata": {},
   "outputs": [],
   "source": [
    "plt.figure(figsize=(12,4))\n",
    "plt.plot(train['Sales'], label='Train')\n",
    "plt.plot(test['Sales'], label='Test')\n",
    "plt.plot(pred['Sales'][test.index.min():], label='SARIMAX forecast')\n",
    "plt.legend(loc='best')\n",
    "plt.title('SARIMAX')\n",
    "plt.show()"
   ]
  },
  {
   "cell_type": "code",
   "execution_count": null,
   "metadata": {},
   "outputs": [],
   "source": [
    "rmse = np.sqrt(mean_squared_error(test['Sales'], pred['Sales'])).round(2)\n",
    "mape = np.round(np.mean(np.abs(test['Sales']-pred['Sales'])/test['Sales'])*100,2)\n",
    "results = pd.DataFrame({'Method':['SARIMAX'], 'MAPE': [mape], 'RMSE': [rmse]})\n",
    "results = results[['Method', 'RMSE', 'MAPE']]\n",
    "results"
   ]
  },
  {
   "cell_type": "markdown",
   "metadata": {},
   "source": [
    "### VARMAX 1:"
   ]
  },
  {
   "cell_type": "code",
   "execution_count": null,
   "metadata": {},
   "outputs": [],
   "source": [
    "train['Sales']=train['Sales'].astype('float64')\n",
    "train['Customers']=train['Customers'].astype('float64')"
   ]
  },
  {
   "cell_type": "code",
   "execution_count": null,
   "metadata": {},
   "outputs": [],
   "source": [
    "exog = train['DayOfWeek']\n",
    "mod = sm.tsa.VARMAX(train[['Sales', 'Customers']], order=(1,1), trend='n', exog=exog)\n",
    "res = mod.fit(maxiter=1000, disp=False)\n",
    "print(res.summary())"
   ]
  },
  {
   "cell_type": "code",
   "execution_count": null,
   "metadata": {},
   "outputs": [],
   "source": [
    "pred_var = test.copy()\n",
    "pred_var['Sales'] = res.predict(test.index.min(), test.index.max(),exog=test['DayOfWeek'])"
   ]
  },
  {
   "cell_type": "code",
   "execution_count": null,
   "metadata": {},
   "outputs": [],
   "source": [
    "plt.figure(figsize=(12,4))\n",
    "plt.plot(train['Sales'], label='Train')\n",
    "plt.plot(test['Sales'], label='Test')\n",
    "plt.plot(pred_var['Sales'][test.index.min():], label='VARMAX')\n",
    "plt.legend(loc='best')\n",
    "plt.title('VARMAX')\n",
    "plt.show()"
   ]
  },
  {
   "cell_type": "code",
   "execution_count": null,
   "metadata": {},
   "outputs": [],
   "source": [
    "rmse = np.sqrt(mean_squared_error(test['Sales'], pred_var['Sales'])).round(2)\n",
    "mape = np.round(np.mean(np.abs(test['Sales']-pred_var['Sales'])/test['Sales'])*100,2)\n",
    "\n",
    "tempResults = pd.DataFrame({'Method':['VARMAX'],'MAPE': [mape],'RMSE': [rmse]})\n",
    "results = pd.concat([results, tempResults])\n",
    "results = results[['Method', 'RMSE', 'MAPE']]\n",
    "results"
   ]
  },
  {
   "cell_type": "markdown",
   "metadata": {},
   "source": [
    "## VARMAX 2:"
   ]
  },
  {
   "cell_type": "code",
   "execution_count": null,
   "metadata": {},
   "outputs": [],
   "source": [
    "exog = train['Open']\n",
    "mod = sm.tsa.VARMAX(train[['Sales', 'Customers']], order=(1,1), trend='n', exog=exog)\n",
    "res = mod.fit(maxiter=1000, disp=False)\n",
    "print(res.summary())"
   ]
  },
  {
   "cell_type": "code",
   "execution_count": null,
   "metadata": {},
   "outputs": [],
   "source": [
    "pred_var = test.copy()\n",
    "pred_var['Sales'] = res.predict(test.index.min(), test.index.max(),exog=test['Open'])"
   ]
  },
  {
   "cell_type": "code",
   "execution_count": null,
   "metadata": {},
   "outputs": [],
   "source": [
    "plt.figure(figsize=(12,4))\n",
    "plt.plot(train['Sales'], label='Train')\n",
    "plt.plot(test['Sales'], label='Test')\n",
    "plt.plot(pred_var['Sales'][test.index.min():], label='VARMAX')\n",
    "plt.legend(loc='best')\n",
    "plt.title('VARMAX')\n",
    "plt.show()"
   ]
  },
  {
   "cell_type": "code",
   "execution_count": null,
   "metadata": {},
   "outputs": [],
   "source": [
    "rmse = np.sqrt(mean_squared_error(test['Sales'], pred_var['Sales'])).round(2)\n",
    "mape = np.round(np.mean(np.abs(test['Sales']-pred_var['Sales'])/test['Sales'])*100,2)\n",
    "\n",
    "tempResults = pd.DataFrame({'Method':['VARMAX2'],'MAPE': [mape],'RMSE': [rmse]})\n",
    "results = pd.concat([results, tempResults])\n",
    "results = results[['Method', 'RMSE', 'MAPE']]\n",
    "results"
   ]
  },
  {
   "cell_type": "markdown",
   "metadata": {},
   "source": [
    "## VARMAX 3:"
   ]
  },
  {
   "cell_type": "code",
   "execution_count": null,
   "metadata": {},
   "outputs": [],
   "source": [
    "exog = train['Customers']\n",
    "mod = sm.tsa.VARMAX(train[['Sales', 'Competition since years']], order=(1,1), trend='n', exog=exog)\n",
    "res = mod.fit(maxiter=1000, disp=False)\n",
    "print(res.summary())"
   ]
  },
  {
   "cell_type": "code",
   "execution_count": null,
   "metadata": {},
   "outputs": [],
   "source": [
    "pred_var = test.copy()\n",
    "pred_var['Sales'] = res.predict(test.index.min(), test.index.max(),exog=test['Customers'])"
   ]
  },
  {
   "cell_type": "code",
   "execution_count": null,
   "metadata": {},
   "outputs": [],
   "source": [
    "plt.figure(figsize=(12,4))\n",
    "plt.plot(train['Sales'], label='Train')\n",
    "plt.plot(test['Sales'], label='Test')\n",
    "plt.plot(pred_var['Sales'][test.index.min():], label='VARMAX')\n",
    "plt.legend(loc='best')\n",
    "plt.title('VARMAX')\n",
    "plt.show()"
   ]
  },
  {
   "cell_type": "code",
   "execution_count": null,
   "metadata": {},
   "outputs": [],
   "source": [
    "rmse = np.sqrt(mean_squared_error(test['Sales'], pred_var['Sales'])).round(2)\n",
    "mape = np.round(np.mean(np.abs(test['Sales']-pred_var['Sales'])/test['Sales'])*100,2)\n",
    "\n",
    "tempResults = pd.DataFrame({'Method':['VARMAX3'],'MAPE': [mape],'RMSE': [rmse]})\n",
    "results = pd.concat([results, tempResults])\n",
    "results = results[['Method', 'RMSE', 'MAPE']]\n",
    "results"
   ]
  },
  {
   "cell_type": "markdown",
   "metadata": {},
   "source": [
    "## VARMAX 4:"
   ]
  },
  {
   "cell_type": "code",
   "execution_count": null,
   "metadata": {},
   "outputs": [],
   "source": [
    "exog = train['Customers']\n",
    "mod = sm.tsa.VARMAX(train[['Sales', 'Competition since years']], order=(6,6), trend='n', exog=exog)\n",
    "res = mod.fit(maxiter=1000, disp=False)\n",
    "print(res.summary())"
   ]
  },
  {
   "cell_type": "code",
   "execution_count": null,
   "metadata": {},
   "outputs": [],
   "source": [
    "pred_var = test.copy()\n",
    "pred_var['Sales'] = res.predict(test.index.min(), test.index.max(),exog=test['Customers'])"
   ]
  },
  {
   "cell_type": "code",
   "execution_count": null,
   "metadata": {},
   "outputs": [],
   "source": [
    "plt.figure(figsize=(12,4))\n",
    "plt.plot(train['Sales'], label='Train')\n",
    "plt.plot(test['Sales'], label='Test')\n",
    "plt.plot(pred_var['Sales'][test.index.min():], label='VARMAX')\n",
    "plt.legend(loc='best')\n",
    "plt.title('VARMAX')\n",
    "plt.show()"
   ]
  },
  {
   "cell_type": "code",
   "execution_count": null,
   "metadata": {
    "scrolled": true
   },
   "outputs": [],
   "source": [
    "rmse = np.sqrt(mean_squared_error(test['Sales'], pred_var['Sales'])).round(2)\n",
    "mape = np.round(np.mean(np.abs(test['Sales']-pred_var['Sales'])/test['Sales'])*100,2)\n",
    "\n",
    "tempResults = pd.DataFrame({'Method':['VARMAX4'],'MAPE': [mape],'RMSE': [rmse]})\n",
    "results = pd.concat([results, tempResults])\n",
    "results = results[['Method', 'RMSE', 'MAPE']]\n",
    "results"
   ]
  },
  {
   "cell_type": "code",
   "execution_count": null,
   "metadata": {},
   "outputs": [],
   "source": [
    "# After comparing all the five models SARIMAX  is the best model to forecast sales for Store 13. "
   ]
  },
  {
   "cell_type": "markdown",
   "metadata": {},
   "source": [
    "# Store 25:"
   ]
  },
  {
   "cell_type": "code",
   "execution_count": null,
   "metadata": {},
   "outputs": [],
   "source": [
    "df_25=df[df['Store']==25]\n",
    "df_25.head()"
   ]
  },
  {
   "cell_type": "code",
   "execution_count": null,
   "metadata": {},
   "outputs": [],
   "source": [
    "df_25.shape"
   ]
  },
  {
   "cell_type": "markdown",
   "metadata": {},
   "source": [
    "## Outlier Analysis:"
   ]
  },
  {
   "cell_type": "code",
   "execution_count": null,
   "metadata": {},
   "outputs": [],
   "source": [
    "#Here we perform outlier analysis for sales and customers variables.\n",
    "plt.figure(figsize=[10,8])\n",
    "plt.subplot(1,2,1)\n",
    "ax=sns.boxplot(df_25['Sales'])\n",
    "plt.subplot(1,2,2)\n",
    "ax=sns.boxplot(df_25['Customers'])"
   ]
  },
  {
   "cell_type": "code",
   "execution_count": null,
   "metadata": {},
   "outputs": [],
   "source": [
    "# We need to cap the outliers to their 99 percentile value.\n",
    "df_25['Sales']=df_25['Sales'].clip(lower=df_25['Sales'].min(),upper=df_25['Sales'].quantile(0.99))\n",
    "df_25['Customers']=df_25['Customers'].clip(lower=df_25['Customers'].min(),upper=df_25['Customers'].quantile(0.99))"
   ]
  },
  {
   "cell_type": "code",
   "execution_count": null,
   "metadata": {},
   "outputs": [],
   "source": [
    "plt.figure(figsize=[10,8])\n",
    "plt.subplot(1,2,1)\n",
    "ax=sns.boxplot(df_25['Sales'])\n",
    "plt.subplot(1,2,2)\n",
    "ax=sns.boxplot(df_25['Customers'])"
   ]
  },
  {
   "cell_type": "code",
   "execution_count": null,
   "metadata": {},
   "outputs": [],
   "source": [
    "# We can see that outliers are minimized."
   ]
  },
  {
   "cell_type": "markdown",
   "metadata": {},
   "source": [
    "## Handling Null values:"
   ]
  },
  {
   "cell_type": "code",
   "execution_count": null,
   "metadata": {},
   "outputs": [],
   "source": [
    "# If Sales/Customers value ==0 consider them as null.\n",
    "df_25['Sales']=df_25['Sales'].apply(lambda x:np.nan if x==0 else x)\n",
    "df_25['Customers']=df_25['Customers'].apply(lambda x:np.nan if x==0 else x)"
   ]
  },
  {
   "cell_type": "code",
   "execution_count": null,
   "metadata": {},
   "outputs": [],
   "source": [
    "df_25[['Sales','Customers']].isnull().sum()"
   ]
  },
  {
   "cell_type": "markdown",
   "metadata": {},
   "source": [
    "## Mean imputation:"
   ]
  },
  {
   "cell_type": "code",
   "execution_count": null,
   "metadata": {},
   "outputs": [],
   "source": [
    "df_25.insert(4,'Sales_Mean_Imputation',df_25.Sales.fillna(df_25.Sales.mean()))\n",
    "df_25[['Sales_Mean_Imputation']].plot(figsize=(15, 5))\n",
    "plt.legend(loc='best')\n",
    "plt.title('Sales: Mean imputation')\n",
    "plt.show()"
   ]
  },
  {
   "cell_type": "code",
   "execution_count": null,
   "metadata": {},
   "outputs": [],
   "source": [
    "df_25.drop(['Sales'],axis=1,inplace=True)\n",
    "df_25.rename(columns={'Sales_Mean_Imputation':'Sales'},inplace=True)"
   ]
  },
  {
   "cell_type": "code",
   "execution_count": null,
   "metadata": {},
   "outputs": [],
   "source": [
    "# Do the same mean imputation for Customers variable\n",
    "df_25.insert(5,'Customers_Mean_Imputation',df_25.Customers.fillna(df_25.Customers.mean()))\n",
    "df_25[['Customers_Mean_Imputation']].plot(figsize=(15, 5))\n",
    "plt.legend(loc='best')\n",
    "plt.title('Customers: Mean imputation')\n",
    "plt.show()"
   ]
  },
  {
   "cell_type": "code",
   "execution_count": null,
   "metadata": {},
   "outputs": [],
   "source": [
    "df_25.drop(['Customers'],axis=1,inplace=True)\n",
    "df_25.rename(columns={'Customers_Mean_Imputation':'Customers'},inplace=True)"
   ]
  },
  {
   "cell_type": "markdown",
   "metadata": {},
   "source": [
    "## Train-Test Split:"
   ]
  },
  {
   "cell_type": "code",
   "execution_count": null,
   "metadata": {},
   "outputs": [],
   "source": [
    "train_len=900"
   ]
  },
  {
   "cell_type": "code",
   "execution_count": null,
   "metadata": {},
   "outputs": [],
   "source": [
    "train=df_25[0:train_len]\n",
    "test=df_25[train_len:]"
   ]
  },
  {
   "cell_type": "code",
   "execution_count": null,
   "metadata": {},
   "outputs": [],
   "source": [
    "train.shape"
   ]
  },
  {
   "cell_type": "code",
   "execution_count": null,
   "metadata": {},
   "outputs": [],
   "source": [
    "test.shape"
   ]
  },
  {
   "cell_type": "markdown",
   "metadata": {},
   "source": [
    "## Stationarity test (ADF):"
   ]
  },
  {
   "cell_type": "code",
   "execution_count": null,
   "metadata": {},
   "outputs": [],
   "source": [
    "for i in ['Sales','Customers']:\n",
    "    print('\\n\\n' + i + ': ADF test results:')\n",
    "    result = adfuller(train[i].dropna())\n",
    "    print('ADF Statistic: %f' % result[0])\n",
    "    print('p-value: %f' % result[1])\n",
    "    print('Critical Values:')\n",
    "    for key, value in result[4].items():\n",
    "        if key=='5%':\n",
    "            print('\\t%s: %.3f' % (key, value))"
   ]
  },
  {
   "cell_type": "code",
   "execution_count": null,
   "metadata": {},
   "outputs": [],
   "source": [
    "# since p-value for both variables is less than 0.05 they both are stationary."
   ]
  },
  {
   "cell_type": "markdown",
   "metadata": {},
   "source": [
    "## Model Building:"
   ]
  },
  {
   "cell_type": "markdown",
   "metadata": {},
   "source": [
    "## SARIMAX:"
   ]
  },
  {
   "cell_type": "code",
   "execution_count": null,
   "metadata": {},
   "outputs": [],
   "source": [
    "model = SARIMAX(train['Sales'], order=(1, 1, 1), seasonal_order=(1, 1, 1, 12),exog=train['Customers']) \n",
    "model_fit = model.fit()\n",
    "print(model_fit.params)"
   ]
  },
  {
   "cell_type": "code",
   "execution_count": null,
   "metadata": {},
   "outputs": [],
   "source": [
    "model_fit.summary()"
   ]
  },
  {
   "cell_type": "code",
   "execution_count": null,
   "metadata": {},
   "outputs": [],
   "source": [
    "pred = test.copy()\n",
    "pred['Sales'] = model_fit.predict(test.index.min(), test.index.max(),exog=test['Customers'])"
   ]
  },
  {
   "cell_type": "code",
   "execution_count": null,
   "metadata": {},
   "outputs": [],
   "source": [
    "plt.figure(figsize=(12,4))\n",
    "plt.plot(train['Sales'], label='Train')\n",
    "plt.plot(test['Sales'], label='Test')\n",
    "plt.plot(pred['Sales'][test.index.min():], label='SARIMAX forecast')\n",
    "plt.legend(loc='best')\n",
    "plt.title('SARIMAX')\n",
    "plt.show()"
   ]
  },
  {
   "cell_type": "code",
   "execution_count": null,
   "metadata": {},
   "outputs": [],
   "source": [
    "rmse = np.sqrt(mean_squared_error(test['Sales'], pred['Sales'])).round(2)\n",
    "mape = np.round(np.mean(np.abs(test['Sales']-pred['Sales'])/test['Sales'])*100,2)\n",
    "results = pd.DataFrame({'Method':['SARIMAX'], 'MAPE': [mape], 'RMSE': [rmse]})\n",
    "results = results[['Method', 'RMSE', 'MAPE']]\n",
    "results"
   ]
  },
  {
   "cell_type": "markdown",
   "metadata": {},
   "source": [
    "## VARMAX 1:"
   ]
  },
  {
   "cell_type": "code",
   "execution_count": null,
   "metadata": {},
   "outputs": [],
   "source": [
    "train['Sales']=train['Sales'].astype('float64')\n",
    "train['Customers']=train['Customers'].astype('float64')"
   ]
  },
  {
   "cell_type": "code",
   "execution_count": null,
   "metadata": {},
   "outputs": [],
   "source": [
    "exog = train['DayOfWeek']\n",
    "mod = sm.tsa.VARMAX(train[['Sales', 'Customers']], order=(1,1), trend='n', exog=exog)\n",
    "res = mod.fit(maxiter=1000, disp=False)\n",
    "print(res.summary())"
   ]
  },
  {
   "cell_type": "code",
   "execution_count": null,
   "metadata": {},
   "outputs": [],
   "source": [
    "pred_var = test.copy()\n",
    "pred_var['Sales'] = res.predict(test.index.min(), test.index.max(),exog=test['DayOfWeek'])"
   ]
  },
  {
   "cell_type": "code",
   "execution_count": null,
   "metadata": {},
   "outputs": [],
   "source": [
    "plt.figure(figsize=(12,4))\n",
    "plt.plot(train['Sales'], label='Train')\n",
    "plt.plot(test['Sales'], label='Test')\n",
    "plt.plot(pred_var['Sales'][test.index.min():], label='VARMAX')\n",
    "plt.legend(loc='best')\n",
    "plt.title('VARMAX')\n",
    "plt.show()"
   ]
  },
  {
   "cell_type": "code",
   "execution_count": null,
   "metadata": {},
   "outputs": [],
   "source": [
    "rmse = np.sqrt(mean_squared_error(test['Sales'], pred_var['Sales'])).round(2)\n",
    "mape = np.round(np.mean(np.abs(test['Sales']-pred_var['Sales'])/test['Sales'])*100,2)\n",
    "\n",
    "tempResults = pd.DataFrame({'Method':['VARMAX'],'MAPE': [mape],'RMSE': [rmse]})\n",
    "results = pd.concat([results, tempResults])\n",
    "results = results[['Method', 'RMSE', 'MAPE']]\n",
    "results"
   ]
  },
  {
   "cell_type": "markdown",
   "metadata": {},
   "source": [
    "## VARMAX 2:"
   ]
  },
  {
   "cell_type": "code",
   "execution_count": null,
   "metadata": {},
   "outputs": [],
   "source": [
    "exog = train['Open']\n",
    "mod = sm.tsa.VARMAX(train[['Sales', 'Customers']], order=(1,1), trend='n', exog=exog)\n",
    "res = mod.fit(maxiter=1000, disp=False)\n",
    "print(res.summary())"
   ]
  },
  {
   "cell_type": "code",
   "execution_count": null,
   "metadata": {},
   "outputs": [],
   "source": [
    "pred_var = test.copy()\n",
    "pred_var['Sales'] = res.predict(test.index.min(), test.index.max(),exog=test['Open'])"
   ]
  },
  {
   "cell_type": "code",
   "execution_count": null,
   "metadata": {},
   "outputs": [],
   "source": [
    "plt.figure(figsize=(12,4))\n",
    "plt.plot(train['Sales'], label='Train')\n",
    "plt.plot(test['Sales'], label='Test')\n",
    "plt.plot(pred_var['Sales'][test.index.min():], label='VARMAX')\n",
    "plt.legend(loc='best')\n",
    "plt.title('VARMAX')\n",
    "plt.show()"
   ]
  },
  {
   "cell_type": "code",
   "execution_count": null,
   "metadata": {},
   "outputs": [],
   "source": [
    "rmse = np.sqrt(mean_squared_error(test['Sales'], pred_var['Sales'])).round(2)\n",
    "mape = np.round(np.mean(np.abs(test['Sales']-pred_var['Sales'])/test['Sales'])*100,2)\n",
    "\n",
    "tempResults = pd.DataFrame({'Method':['VARMAX2'],'MAPE': [mape],'RMSE': [rmse]})\n",
    "results = pd.concat([results, tempResults])\n",
    "results = results[['Method', 'RMSE', 'MAPE']]\n",
    "results"
   ]
  },
  {
   "cell_type": "markdown",
   "metadata": {},
   "source": [
    "## VARMAX 3:"
   ]
  },
  {
   "cell_type": "code",
   "execution_count": null,
   "metadata": {},
   "outputs": [],
   "source": [
    "exog = train['Customers']\n",
    "mod = sm.tsa.VARMAX(train[['Sales', 'Competition since years']], order=(1,1), trend='n', exog=exog)\n",
    "res = mod.fit(maxiter=1000, disp=False)\n",
    "print(res.summary())"
   ]
  },
  {
   "cell_type": "code",
   "execution_count": null,
   "metadata": {},
   "outputs": [],
   "source": [
    "pred_var = test.copy()\n",
    "pred_var['Sales'] = res.predict(test.index.min(), test.index.max(),exog=test['Customers'])"
   ]
  },
  {
   "cell_type": "code",
   "execution_count": null,
   "metadata": {},
   "outputs": [],
   "source": [
    "plt.figure(figsize=(12,4))\n",
    "plt.plot(train['Sales'], label='Train')\n",
    "plt.plot(test['Sales'], label='Test')\n",
    "plt.plot(pred_var['Sales'][test.index.min():], label='VARMAX')\n",
    "plt.legend(loc='best')\n",
    "plt.title('VARMAX')\n",
    "plt.show()"
   ]
  },
  {
   "cell_type": "code",
   "execution_count": null,
   "metadata": {},
   "outputs": [],
   "source": [
    "rmse = np.sqrt(mean_squared_error(test['Sales'], pred_var['Sales'])).round(2)\n",
    "mape = np.round(np.mean(np.abs(test['Sales']-pred_var['Sales'])/test['Sales'])*100,2)\n",
    "\n",
    "tempResults = pd.DataFrame({'Method':['VARMAX3'],'MAPE': [mape],'RMSE': [rmse]})\n",
    "results = pd.concat([results, tempResults])\n",
    "results = results[['Method', 'RMSE', 'MAPE']]\n",
    "results"
   ]
  },
  {
   "cell_type": "markdown",
   "metadata": {},
   "source": [
    "## VARMAX 4:"
   ]
  },
  {
   "cell_type": "code",
   "execution_count": null,
   "metadata": {},
   "outputs": [],
   "source": [
    "exog = train['Customers']\n",
    "mod = sm.tsa.VARMAX(train[['Sales', 'Competition since years']], order=(6,6), trend='n', exog=exog)\n",
    "res = mod.fit(maxiter=1000, disp=False)\n",
    "print(res.summary())"
   ]
  },
  {
   "cell_type": "code",
   "execution_count": null,
   "metadata": {},
   "outputs": [],
   "source": [
    "pred_var = test.copy()\n",
    "pred_var['Sales'] = res.predict(test.index.min(), test.index.max(),exog=test['Customers'])"
   ]
  },
  {
   "cell_type": "code",
   "execution_count": null,
   "metadata": {},
   "outputs": [],
   "source": [
    "plt.figure(figsize=(12,4))\n",
    "plt.plot(train['Sales'], label='Train')\n",
    "plt.plot(test['Sales'], label='Test')\n",
    "plt.plot(pred_var['Sales'][test.index.min():], label='VARMAX')\n",
    "plt.legend(loc='best')\n",
    "plt.title('VARMAX')\n",
    "plt.show()"
   ]
  },
  {
   "cell_type": "code",
   "execution_count": null,
   "metadata": {},
   "outputs": [],
   "source": [
    "rmse = np.sqrt(mean_squared_error(test['Sales'], pred_var['Sales'])).round(2)\n",
    "mape = np.round(np.mean(np.abs(test['Sales']-pred_var['Sales'])/test['Sales'])*100,2)\n",
    "\n",
    "tempResults = pd.DataFrame({'Method':['VARMAX4'],'MAPE': [mape],'RMSE': [rmse]})\n",
    "results = pd.concat([results, tempResults])\n",
    "results = results[['Method', 'RMSE', 'MAPE']]\n",
    "results"
   ]
  },
  {
   "cell_type": "code",
   "execution_count": null,
   "metadata": {},
   "outputs": [],
   "source": [
    "# After comparing all the five models SARIMAX is the best model to forecast sales for Store 25. "
   ]
  },
  {
   "cell_type": "markdown",
   "metadata": {},
   "source": [
    "# Store 29:"
   ]
  },
  {
   "cell_type": "code",
   "execution_count": null,
   "metadata": {},
   "outputs": [],
   "source": [
    "df_29=df[df['Store']==29]\n",
    "df_29.head()"
   ]
  },
  {
   "cell_type": "code",
   "execution_count": null,
   "metadata": {},
   "outputs": [],
   "source": [
    "df_29.shape"
   ]
  },
  {
   "cell_type": "markdown",
   "metadata": {},
   "source": [
    "## Outlier detection:"
   ]
  },
  {
   "cell_type": "code",
   "execution_count": null,
   "metadata": {},
   "outputs": [],
   "source": [
    "#Here we perform outlier analysis for sales and customers variables.\n",
    "plt.figure(figsize=[10,8])\n",
    "plt.subplot(1,2,1)\n",
    "ax=sns.boxplot(df_29['Sales'])\n",
    "plt.subplot(1,2,2)\n",
    "ax=sns.boxplot(df_29['Customers'])"
   ]
  },
  {
   "cell_type": "code",
   "execution_count": null,
   "metadata": {},
   "outputs": [],
   "source": [
    "# We need to cap the outliers to their 99 percentile value.\n",
    "df_29['Sales']=df_29['Sales'].clip(lower=df_29['Sales'].min(),upper=df_29['Sales'].quantile(0.99))\n",
    "df_29['Customers']=df_29['Customers'].clip(lower=df_29['Customers'].min(),upper=df_29['Customers'].quantile(0.99))"
   ]
  },
  {
   "cell_type": "code",
   "execution_count": null,
   "metadata": {},
   "outputs": [],
   "source": [
    "#Here we perform outlier analysis for sales and customers variables.\n",
    "plt.figure(figsize=[10,8])\n",
    "plt.subplot(1,2,1)\n",
    "ax=sns.boxplot(df_29['Sales'])\n",
    "plt.subplot(1,2,2)\n",
    "ax=sns.boxplot(df_29['Customers'])"
   ]
  },
  {
   "cell_type": "markdown",
   "metadata": {},
   "source": [
    "## Null Values Handling:"
   ]
  },
  {
   "cell_type": "code",
   "execution_count": null,
   "metadata": {},
   "outputs": [],
   "source": [
    "# If Sales/Customers value ==0 consider them as null.\n",
    "df_29['Sales']=df_29['Sales'].apply(lambda x:np.nan if x==0 else x)\n",
    "df_29['Customers']=df_29['Customers'].apply(lambda x:np.nan if x==0 else x)"
   ]
  },
  {
   "cell_type": "code",
   "execution_count": null,
   "metadata": {},
   "outputs": [],
   "source": [
    "df_29[['Sales','Customers']].isnull().sum()"
   ]
  },
  {
   "cell_type": "markdown",
   "metadata": {},
   "source": [
    "## Mean imputation:"
   ]
  },
  {
   "cell_type": "code",
   "execution_count": null,
   "metadata": {},
   "outputs": [],
   "source": [
    "df_29.insert(4,'Sales_Mean_Imputation',df_29.Sales.fillna(df_29.Sales.mean()))\n",
    "df_29[['Sales_Mean_Imputation']].plot(figsize=(15, 5))\n",
    "plt.legend(loc='best')\n",
    "plt.title('Sales: Mean imputation')\n",
    "plt.show()"
   ]
  },
  {
   "cell_type": "code",
   "execution_count": null,
   "metadata": {},
   "outputs": [],
   "source": [
    "df_29.drop(['Sales'],axis=1,inplace=True)\n",
    "df_29.rename(columns={'Sales_Mean_Imputation':'Sales'},inplace=True)"
   ]
  },
  {
   "cell_type": "code",
   "execution_count": null,
   "metadata": {},
   "outputs": [],
   "source": [
    "# Do the same mean imputation for Customers variable\n",
    "df_29.insert(5,'Customers_Mean_Imputation',df_29.Customers.fillna(df_29.Customers.mean()))\n",
    "df_29[['Customers_Mean_Imputation']].plot(figsize=(15, 5))\n",
    "plt.legend(loc='best')\n",
    "plt.title('Customers: Mean imputation')\n",
    "plt.show()"
   ]
  },
  {
   "cell_type": "code",
   "execution_count": null,
   "metadata": {},
   "outputs": [],
   "source": [
    "df_29.drop(['Customers'],axis=1,inplace=True)\n",
    "df_29.rename(columns={'Customers_Mean_Imputation':'Customers'},inplace=True)"
   ]
  },
  {
   "cell_type": "markdown",
   "metadata": {},
   "source": [
    "## Train-Test Split:"
   ]
  },
  {
   "cell_type": "code",
   "execution_count": null,
   "metadata": {},
   "outputs": [],
   "source": [
    "train=df_29[0:train_len]\n",
    "test=df_29[train_len:]"
   ]
  },
  {
   "cell_type": "code",
   "execution_count": null,
   "metadata": {},
   "outputs": [],
   "source": [
    "train.shape"
   ]
  },
  {
   "cell_type": "code",
   "execution_count": null,
   "metadata": {},
   "outputs": [],
   "source": [
    "test.shape"
   ]
  },
  {
   "cell_type": "markdown",
   "metadata": {},
   "source": [
    "## Stationary test (ADF):"
   ]
  },
  {
   "cell_type": "code",
   "execution_count": null,
   "metadata": {},
   "outputs": [],
   "source": [
    "for i in ['Sales','Customers']:\n",
    "    print('\\n\\n' + i + ': ADF test results:')\n",
    "    result = adfuller(train[i].dropna())\n",
    "    print('ADF Statistic: %f' % result[0])\n",
    "    print('p-value: %f' % result[1])\n",
    "    print('Critical Values:')\n",
    "    for key, value in result[4].items():\n",
    "        if key=='5%':\n",
    "            print('\\t%s: %.3f' % (key, value))"
   ]
  },
  {
   "cell_type": "code",
   "execution_count": null,
   "metadata": {},
   "outputs": [],
   "source": [
    "# since p-value for both variables is less than 0.05 they both are stationary."
   ]
  },
  {
   "cell_type": "markdown",
   "metadata": {},
   "source": [
    "## Model Building:"
   ]
  },
  {
   "cell_type": "markdown",
   "metadata": {},
   "source": [
    "## SARIMAX:"
   ]
  },
  {
   "cell_type": "code",
   "execution_count": null,
   "metadata": {},
   "outputs": [],
   "source": [
    "model = SARIMAX(train['Sales'], order=(1, 1, 1), seasonal_order=(1, 1, 1, 12),exog=train['is_weekend']) \n",
    "model_fit = model.fit()\n",
    "print(model_fit.params)"
   ]
  },
  {
   "cell_type": "code",
   "execution_count": null,
   "metadata": {},
   "outputs": [],
   "source": [
    "model_fit.summary()"
   ]
  },
  {
   "cell_type": "code",
   "execution_count": null,
   "metadata": {},
   "outputs": [],
   "source": [
    "pred = test.copy()\n",
    "pred['Sales'] = model_fit.predict(test.index.min(), test.index.max(),exog=test['is_weekend'])"
   ]
  },
  {
   "cell_type": "code",
   "execution_count": null,
   "metadata": {},
   "outputs": [],
   "source": [
    "plt.figure(figsize=(12,4))\n",
    "plt.plot(train['Sales'], label='Train')\n",
    "plt.plot(test['Sales'], label='Test')\n",
    "plt.plot(pred['Sales'][test.index.min():], label='SARIMAX forecast')\n",
    "plt.legend(loc='best')\n",
    "plt.title('SARIMAX')\n",
    "plt.show()"
   ]
  },
  {
   "cell_type": "code",
   "execution_count": null,
   "metadata": {},
   "outputs": [],
   "source": [
    "rmse = np.sqrt(mean_squared_error(test['Sales'], pred['Sales'])).round(2)\n",
    "mape = np.round(np.mean(np.abs(test['Sales']-pred['Sales'])/test['Sales'])*100,2)\n",
    "results = pd.DataFrame({'Method':['SARIMAX'], 'MAPE': [mape], 'RMSE': [rmse]})\n",
    "results = results[['Method', 'RMSE', 'MAPE']]\n",
    "results"
   ]
  },
  {
   "cell_type": "markdown",
   "metadata": {},
   "source": [
    "## VARMAX 1:"
   ]
  },
  {
   "cell_type": "code",
   "execution_count": null,
   "metadata": {},
   "outputs": [],
   "source": [
    "train['Sales']=train['Sales'].astype('float64')\n",
    "train['Customers']=train['Customers'].astype('float64')"
   ]
  },
  {
   "cell_type": "code",
   "execution_count": null,
   "metadata": {},
   "outputs": [],
   "source": [
    "exog = train['DayOfWeek']\n",
    "mod = sm.tsa.VARMAX(train[['Sales', 'Customers']], order=(1,1), trend='n', exog=exog)\n",
    "res = mod.fit(maxiter=1000, disp=False)\n",
    "print(res.summary())"
   ]
  },
  {
   "cell_type": "code",
   "execution_count": null,
   "metadata": {},
   "outputs": [],
   "source": [
    "pred_var = test.copy()\n",
    "pred_var['Sales'] = res.predict(test.index.min(), test.index.max(),exog=test['DayOfWeek'])"
   ]
  },
  {
   "cell_type": "code",
   "execution_count": null,
   "metadata": {},
   "outputs": [],
   "source": [
    "plt.figure(figsize=(12,4))\n",
    "plt.plot(train['Sales'], label='Train')\n",
    "plt.plot(test['Sales'], label='Test')\n",
    "plt.plot(pred_var['Sales'][test.index.min():], label='VARMAX')\n",
    "plt.legend(loc='best')\n",
    "plt.title('VARMAX')\n",
    "plt.show()"
   ]
  },
  {
   "cell_type": "code",
   "execution_count": null,
   "metadata": {},
   "outputs": [],
   "source": [
    "rmse = np.sqrt(mean_squared_error(test['Sales'], pred_var['Sales'])).round(2)\n",
    "mape = np.round(np.mean(np.abs(test['Sales']-pred_var['Sales'])/test['Sales'])*100,2)\n",
    "\n",
    "tempResults = pd.DataFrame({'Method':['VARMAX'],'MAPE': [mape],'RMSE': [rmse]})\n",
    "results = pd.concat([results, tempResults])\n",
    "results = results[['Method', 'RMSE', 'MAPE']]\n",
    "results"
   ]
  },
  {
   "cell_type": "markdown",
   "metadata": {},
   "source": [
    "## VARMAX 2:"
   ]
  },
  {
   "cell_type": "code",
   "execution_count": null,
   "metadata": {},
   "outputs": [],
   "source": [
    "exog = train['Open']\n",
    "mod = sm.tsa.VARMAX(train[['Sales', 'Customers']], order=(1,1), trend='n', exog=exog)\n",
    "res = mod.fit(maxiter=1000, disp=False)\n",
    "print(res.summary())"
   ]
  },
  {
   "cell_type": "code",
   "execution_count": null,
   "metadata": {},
   "outputs": [],
   "source": [
    "pred_var = test.copy()\n",
    "pred_var['Sales'] = res.predict(test.index.min(), test.index.max(),exog=test['Open'])"
   ]
  },
  {
   "cell_type": "code",
   "execution_count": null,
   "metadata": {},
   "outputs": [],
   "source": [
    "plt.figure(figsize=(12,4))\n",
    "plt.plot(train['Sales'], label='Train')\n",
    "plt.plot(test['Sales'], label='Test')\n",
    "plt.plot(pred_var['Sales'][test.index.min():], label='VARMAX')\n",
    "plt.legend(loc='best')\n",
    "plt.title('VARMAX')\n",
    "plt.show()"
   ]
  },
  {
   "cell_type": "code",
   "execution_count": null,
   "metadata": {},
   "outputs": [],
   "source": [
    "rmse = np.sqrt(mean_squared_error(test['Sales'], pred_var['Sales'])).round(2)\n",
    "mape = np.round(np.mean(np.abs(test['Sales']-pred_var['Sales'])/test['Sales'])*100,2)\n",
    "\n",
    "tempResults = pd.DataFrame({'Method':['VARMAX2'],'MAPE': [mape],'RMSE': [rmse]})\n",
    "results = pd.concat([results, tempResults])\n",
    "results = results[['Method', 'RMSE', 'MAPE']]\n",
    "results"
   ]
  },
  {
   "cell_type": "markdown",
   "metadata": {},
   "source": [
    "### VARMAX 3:"
   ]
  },
  {
   "cell_type": "code",
   "execution_count": null,
   "metadata": {},
   "outputs": [],
   "source": [
    "exog = train['Customers']\n",
    "mod = sm.tsa.VARMAX(train[['Sales', 'Competition since years']], order=(1,1), trend='n', exog=exog)\n",
    "res = mod.fit(maxiter=1000, disp=False)\n",
    "print(res.summary())"
   ]
  },
  {
   "cell_type": "code",
   "execution_count": null,
   "metadata": {},
   "outputs": [],
   "source": [
    "pred_var = test.copy()\n",
    "pred_var['Sales'] = res.predict(test.index.min(), test.index.max(),exog=test['Customers'])"
   ]
  },
  {
   "cell_type": "code",
   "execution_count": null,
   "metadata": {},
   "outputs": [],
   "source": [
    "plt.figure(figsize=(12,4))\n",
    "plt.plot(train['Sales'], label='Train')\n",
    "plt.plot(test['Sales'], label='Test')\n",
    "plt.plot(pred_var['Sales'][test.index.min():], label='VARMAX')\n",
    "plt.legend(loc='best')\n",
    "plt.title('VARMAX')\n",
    "plt.show()"
   ]
  },
  {
   "cell_type": "code",
   "execution_count": null,
   "metadata": {},
   "outputs": [],
   "source": [
    "rmse = np.sqrt(mean_squared_error(test['Sales'], pred_var['Sales'])).round(2)\n",
    "mape = np.round(np.mean(np.abs(test['Sales']-pred_var['Sales'])/test['Sales'])*100,2)\n",
    "\n",
    "tempResults = pd.DataFrame({'Method':['VARMAX3'],'MAPE': [mape],'RMSE': [rmse]})\n",
    "results = pd.concat([results, tempResults])\n",
    "results = results[['Method', 'RMSE', 'MAPE']]\n",
    "results"
   ]
  },
  {
   "cell_type": "markdown",
   "metadata": {},
   "source": [
    "## VARMAX 4:"
   ]
  },
  {
   "cell_type": "code",
   "execution_count": null,
   "metadata": {},
   "outputs": [],
   "source": [
    "exog = train['Customers']\n",
    "mod = sm.tsa.VARMAX(train[['Sales', 'Competition since years']], order=(6,6), trend='n', exog=exog)\n",
    "res = mod.fit(maxiter=1000, disp=False)\n",
    "print(res.summary())"
   ]
  },
  {
   "cell_type": "code",
   "execution_count": null,
   "metadata": {},
   "outputs": [],
   "source": [
    "pred_var = test.copy()\n",
    "pred_var['Sales'] = res.predict(test.index.min(), test.index.max(),exog=test['Customers'])"
   ]
  },
  {
   "cell_type": "code",
   "execution_count": null,
   "metadata": {},
   "outputs": [],
   "source": [
    "plt.figure(figsize=(12,4))\n",
    "plt.plot(train['Sales'], label='Train')\n",
    "plt.plot(test['Sales'], label='Test')\n",
    "plt.plot(pred_var['Sales'][test.index.min():], label='VARMAX')\n",
    "plt.legend(loc='best')\n",
    "plt.title('VARMAX')\n",
    "plt.show()"
   ]
  },
  {
   "cell_type": "code",
   "execution_count": null,
   "metadata": {},
   "outputs": [],
   "source": [
    "rmse = np.sqrt(mean_squared_error(test['Sales'], pred_var['Sales'])).round(2)\n",
    "mape = np.round(np.mean(np.abs(test['Sales']-pred_var['Sales'])/test['Sales'])*100,2)\n",
    "\n",
    "tempResults = pd.DataFrame({'Method':['VARMAX4'],'MAPE': [mape],'RMSE': [rmse]})\n",
    "results = pd.concat([results, tempResults])\n",
    "results = results[['Method', 'RMSE', 'MAPE']]\n",
    "results"
   ]
  },
  {
   "cell_type": "code",
   "execution_count": null,
   "metadata": {},
   "outputs": [],
   "source": [
    "# After comparing all the five models VARMAX 3 is the best model to forecast sales for Store 29. "
   ]
  },
  {
   "cell_type": "markdown",
   "metadata": {},
   "source": [
    "# Store 31:"
   ]
  },
  {
   "cell_type": "code",
   "execution_count": null,
   "metadata": {},
   "outputs": [],
   "source": [
    "df_31=df[df['Store']==31]\n",
    "df_31.head()"
   ]
  },
  {
   "cell_type": "code",
   "execution_count": null,
   "metadata": {},
   "outputs": [],
   "source": [
    "df_31.shape"
   ]
  },
  {
   "cell_type": "markdown",
   "metadata": {},
   "source": [
    "## Outlier Analysis:"
   ]
  },
  {
   "cell_type": "code",
   "execution_count": null,
   "metadata": {},
   "outputs": [],
   "source": [
    "#Here we perform outlier analysis for sales and customers variables.\n",
    "plt.figure(figsize=[10,8])\n",
    "plt.subplot(1,2,1)\n",
    "ax=sns.boxplot(df_31['Sales'])\n",
    "plt.subplot(1,2,2)\n",
    "ax=sns.boxplot(df_31['Customers'])"
   ]
  },
  {
   "cell_type": "code",
   "execution_count": null,
   "metadata": {},
   "outputs": [],
   "source": [
    "# We need to cap the outliers to their 99 percentile value.\n",
    "df_31['Sales']=df_31['Sales'].clip(lower=df_31['Sales'].min(),upper=df_31['Sales'].quantile(0.99))\n",
    "df_31['Customers']=df_31['Customers'].clip(lower=df_31['Customers'].min(),upper=df_31['Customers'].quantile(0.99))"
   ]
  },
  {
   "cell_type": "code",
   "execution_count": null,
   "metadata": {},
   "outputs": [],
   "source": [
    "#Here we perform outlier analysis for sales and customers variables.\n",
    "plt.figure(figsize=[10,8])\n",
    "plt.subplot(1,2,1)\n",
    "ax=sns.boxplot(df_31['Sales'])\n",
    "plt.subplot(1,2,2)\n",
    "ax=sns.boxplot(df_31['Customers'])"
   ]
  },
  {
   "cell_type": "code",
   "execution_count": null,
   "metadata": {},
   "outputs": [],
   "source": [
    "# We can see that outliers are minimized."
   ]
  },
  {
   "cell_type": "markdown",
   "metadata": {},
   "source": [
    "## Null value handling:"
   ]
  },
  {
   "cell_type": "code",
   "execution_count": null,
   "metadata": {},
   "outputs": [],
   "source": [
    "# If Sales/Customers value ==0 consider them as null.\n",
    "df_31['Sales']=df_31['Sales'].apply(lambda x:np.nan if x==0 else x)\n",
    "df_31['Customers']=df_31['Customers'].apply(lambda x:np.nan if x==0 else x)"
   ]
  },
  {
   "cell_type": "code",
   "execution_count": null,
   "metadata": {},
   "outputs": [],
   "source": [
    "df_31[['Sales','Customers']].isnull().sum()"
   ]
  },
  {
   "cell_type": "markdown",
   "metadata": {},
   "source": [
    "## Mean imputation:"
   ]
  },
  {
   "cell_type": "code",
   "execution_count": null,
   "metadata": {},
   "outputs": [],
   "source": [
    "df_31.insert(4,'Sales_Mean_Imputation',df_31.Sales.fillna(df_31.Sales.mean()))\n",
    "df_31[['Sales_Mean_Imputation']].plot(figsize=(15, 5))\n",
    "plt.legend(loc='best')\n",
    "plt.title('Sales: Mean imputation')\n",
    "plt.show()"
   ]
  },
  {
   "cell_type": "code",
   "execution_count": null,
   "metadata": {},
   "outputs": [],
   "source": [
    "df_31.drop(['Sales'],axis=1,inplace=True)\n",
    "df_31.rename(columns={'Sales_Mean_Imputation':'Sales'},inplace=True)"
   ]
  },
  {
   "cell_type": "code",
   "execution_count": null,
   "metadata": {},
   "outputs": [],
   "source": [
    "# Do the same mean imputation for Customers variable\n",
    "df_31.insert(5,'Customers_Mean_Imputation',df_31.Customers.fillna(df_31.Customers.mean()))\n",
    "df_31[['Customers_Mean_Imputation']].plot(figsize=(15, 5))\n",
    "plt.legend(loc='best')\n",
    "plt.title('Customers: Mean imputation')\n",
    "plt.show()"
   ]
  },
  {
   "cell_type": "code",
   "execution_count": null,
   "metadata": {},
   "outputs": [],
   "source": [
    "df_31.drop(['Customers'],axis=1,inplace=True)\n",
    "df_31.rename(columns={'Customers_Mean_Imputation':'Customers'},inplace=True)"
   ]
  },
  {
   "cell_type": "markdown",
   "metadata": {},
   "source": [
    "## Train-Test Split:"
   ]
  },
  {
   "cell_type": "code",
   "execution_count": null,
   "metadata": {},
   "outputs": [],
   "source": [
    "train=df_31[0:train_len]\n",
    "test=df_31[train_len:]"
   ]
  },
  {
   "cell_type": "code",
   "execution_count": null,
   "metadata": {},
   "outputs": [],
   "source": [
    "train.shape"
   ]
  },
  {
   "cell_type": "code",
   "execution_count": null,
   "metadata": {},
   "outputs": [],
   "source": [
    "test.shape"
   ]
  },
  {
   "cell_type": "markdown",
   "metadata": {},
   "source": [
    "## Stationary test (ADF):"
   ]
  },
  {
   "cell_type": "code",
   "execution_count": null,
   "metadata": {},
   "outputs": [],
   "source": [
    "for i in ['Sales','Customers']:\n",
    "    print('\\n\\n' + i + ': ADF test results:')\n",
    "    result = adfuller(train[i].dropna())\n",
    "    print('ADF Statistic: %f' % result[0])\n",
    "    print('p-value: %f' % result[1])\n",
    "    print('Critical Values:')\n",
    "    for key, value in result[4].items():\n",
    "        if key=='5%':\n",
    "            print('\\t%s: %.3f' % (key, value))"
   ]
  },
  {
   "cell_type": "code",
   "execution_count": null,
   "metadata": {},
   "outputs": [],
   "source": [
    "# since p-value for both variables is less than 0.05 they both are stationary."
   ]
  },
  {
   "cell_type": "markdown",
   "metadata": {},
   "source": [
    "## Model Building:"
   ]
  },
  {
   "cell_type": "markdown",
   "metadata": {},
   "source": [
    "## SARIMAX:"
   ]
  },
  {
   "cell_type": "code",
   "execution_count": null,
   "metadata": {},
   "outputs": [],
   "source": [
    "model = SARIMAX(train['Sales'], order=(1, 1, 1), seasonal_order=(1, 1, 1, 12),exog=train['Customers']) \n",
    "model_fit = model.fit()\n",
    "print(model_fit.params)"
   ]
  },
  {
   "cell_type": "code",
   "execution_count": null,
   "metadata": {},
   "outputs": [],
   "source": [
    "model_fit.summary()"
   ]
  },
  {
   "cell_type": "code",
   "execution_count": null,
   "metadata": {},
   "outputs": [],
   "source": [
    "pred = test.copy()\n",
    "pred['Sales'] = model_fit.predict(test.index.min(), test.index.max(),exog=test['Customers'])"
   ]
  },
  {
   "cell_type": "code",
   "execution_count": null,
   "metadata": {},
   "outputs": [],
   "source": [
    "plt.figure(figsize=(12,4))\n",
    "plt.plot(train['Sales'], label='Train')\n",
    "plt.plot(test['Sales'], label='Test')\n",
    "plt.plot(pred['Sales'][test.index.min():], label='SARIMAX forecast')\n",
    "plt.legend(loc='best')\n",
    "plt.title('SARIMAX')\n",
    "plt.show()"
   ]
  },
  {
   "cell_type": "code",
   "execution_count": null,
   "metadata": {},
   "outputs": [],
   "source": [
    "rmse = np.sqrt(mean_squared_error(test['Sales'], pred['Sales'])).round(2)\n",
    "mape = np.round(np.mean(np.abs(test['Sales']-pred['Sales'])/test['Sales'])*100,2)\n",
    "results = pd.DataFrame({'Method':['SARIMAX'], 'MAPE': [mape], 'RMSE': [rmse]})\n",
    "results = results[['Method', 'RMSE', 'MAPE']]\n",
    "results"
   ]
  },
  {
   "cell_type": "markdown",
   "metadata": {},
   "source": [
    "# VARMAX 1:"
   ]
  },
  {
   "cell_type": "code",
   "execution_count": null,
   "metadata": {},
   "outputs": [],
   "source": [
    "train['Sales']=train['Sales'].astype('float64')\n",
    "train['Customers']=train['Customers'].astype('float64')"
   ]
  },
  {
   "cell_type": "code",
   "execution_count": null,
   "metadata": {},
   "outputs": [],
   "source": [
    "exog = train['DayOfWeek']\n",
    "mod = sm.tsa.VARMAX(train[['Sales', 'Customers']], order=(1,1), trend='n', exog=exog)\n",
    "res = mod.fit(maxiter=1000, disp=False)\n",
    "print(res.summary())"
   ]
  },
  {
   "cell_type": "code",
   "execution_count": null,
   "metadata": {},
   "outputs": [],
   "source": [
    "pred_var = test.copy()\n",
    "pred_var['Sales'] = res.predict(test.index.min(), test.index.max(),exog=test['DayOfWeek'])"
   ]
  },
  {
   "cell_type": "code",
   "execution_count": null,
   "metadata": {},
   "outputs": [],
   "source": [
    "plt.figure(figsize=(12,4))\n",
    "plt.plot(train['Sales'], label='Train')\n",
    "plt.plot(test['Sales'], label='Test')\n",
    "plt.plot(pred_var['Sales'][test.index.min():], label='VARMAX')\n",
    "plt.legend(loc='best')\n",
    "plt.title('VARMAX')\n",
    "plt.show()"
   ]
  },
  {
   "cell_type": "code",
   "execution_count": null,
   "metadata": {},
   "outputs": [],
   "source": [
    "rmse = np.sqrt(mean_squared_error(test['Sales'], pred_var['Sales'])).round(2)\n",
    "mape = np.round(np.mean(np.abs(test['Sales']-pred_var['Sales'])/test['Sales'])*100,2)\n",
    "\n",
    "tempResults = pd.DataFrame({'Method':['VARMAX'],'MAPE': [mape],'RMSE': [rmse]})\n",
    "results = pd.concat([results, tempResults])\n",
    "results = results[['Method', 'RMSE', 'MAPE']]\n",
    "results"
   ]
  },
  {
   "cell_type": "markdown",
   "metadata": {},
   "source": [
    "## VARMAX 2:"
   ]
  },
  {
   "cell_type": "code",
   "execution_count": null,
   "metadata": {},
   "outputs": [],
   "source": [
    "exog = train['Open']\n",
    "mod = sm.tsa.VARMAX(train[['Sales', 'Customers']], order=(1,1), trend='n', exog=exog)\n",
    "res = mod.fit(maxiter=1000, disp=False)\n",
    "print(res.summary())"
   ]
  },
  {
   "cell_type": "code",
   "execution_count": null,
   "metadata": {},
   "outputs": [],
   "source": [
    "pred_var = test.copy()\n",
    "pred_var['Sales'] = res.predict(test.index.min(), test.index.max(),exog=test['Open'])"
   ]
  },
  {
   "cell_type": "code",
   "execution_count": null,
   "metadata": {},
   "outputs": [],
   "source": [
    "plt.figure(figsize=(12,4))\n",
    "plt.plot(train['Sales'], label='Train')\n",
    "plt.plot(test['Sales'], label='Test')\n",
    "plt.plot(pred_var['Sales'][test.index.min():], label='VARMAX')\n",
    "plt.legend(loc='best')\n",
    "plt.title('VARMAX')\n",
    "plt.show()"
   ]
  },
  {
   "cell_type": "code",
   "execution_count": null,
   "metadata": {},
   "outputs": [],
   "source": [
    "rmse = np.sqrt(mean_squared_error(test['Sales'], pred_var['Sales'])).round(2)\n",
    "mape = np.round(np.mean(np.abs(test['Sales']-pred_var['Sales'])/test['Sales'])*100,2)\n",
    "\n",
    "tempResults = pd.DataFrame({'Method':['VARMAX2'],'MAPE': [mape],'RMSE': [rmse]})\n",
    "results = pd.concat([results, tempResults])\n",
    "results = results[['Method', 'RMSE', 'MAPE']]\n",
    "results"
   ]
  },
  {
   "cell_type": "markdown",
   "metadata": {},
   "source": [
    "## VARMAX 3:"
   ]
  },
  {
   "cell_type": "code",
   "execution_count": null,
   "metadata": {},
   "outputs": [],
   "source": [
    "exog = train['Customers']\n",
    "mod = sm.tsa.VARMAX(train[['Sales', 'Competition since years']], order=(1,1), trend='n', exog=exog)\n",
    "res = mod.fit(maxiter=1000, disp=False)\n",
    "print(res.summary())"
   ]
  },
  {
   "cell_type": "code",
   "execution_count": null,
   "metadata": {},
   "outputs": [],
   "source": [
    "pred_var = test.copy()\n",
    "pred_var['Sales'] = res.predict(test.index.min(), test.index.max(),exog=test['Customers'])"
   ]
  },
  {
   "cell_type": "code",
   "execution_count": null,
   "metadata": {},
   "outputs": [],
   "source": [
    "plt.figure(figsize=(12,4))\n",
    "plt.plot(train['Sales'], label='Train')\n",
    "plt.plot(test['Sales'], label='Test')\n",
    "plt.plot(pred_var['Sales'][test.index.min():], label='VARMAX')\n",
    "plt.legend(loc='best')\n",
    "plt.title('VARMAX')\n",
    "plt.show()"
   ]
  },
  {
   "cell_type": "code",
   "execution_count": null,
   "metadata": {},
   "outputs": [],
   "source": [
    "rmse = np.sqrt(mean_squared_error(test['Sales'], pred_var['Sales'])).round(2)\n",
    "mape = np.round(np.mean(np.abs(test['Sales']-pred_var['Sales'])/test['Sales'])*100,2)\n",
    "\n",
    "tempResults = pd.DataFrame({'Method':['VARMAX3'],'MAPE': [mape],'RMSE': [rmse]})\n",
    "results = pd.concat([results, tempResults])\n",
    "results = results[['Method', 'RMSE', 'MAPE']]\n",
    "results"
   ]
  },
  {
   "cell_type": "markdown",
   "metadata": {},
   "source": [
    "## VARMAX 4:"
   ]
  },
  {
   "cell_type": "code",
   "execution_count": null,
   "metadata": {},
   "outputs": [],
   "source": [
    "exog = train['Customers']\n",
    "mod = sm.tsa.VARMAX(train[['Sales', 'Competition since years']], order=(8,8), trend='n', exog=exog)\n",
    "res = mod.fit(maxiter=1000, disp=False)\n",
    "print(res.summary())"
   ]
  },
  {
   "cell_type": "code",
   "execution_count": null,
   "metadata": {},
   "outputs": [],
   "source": [
    "pred_var = test.copy()\n",
    "pred_var['Sales'] = res.predict(test.index.min(), test.index.max(),exog=test['Customers'])"
   ]
  },
  {
   "cell_type": "code",
   "execution_count": null,
   "metadata": {},
   "outputs": [],
   "source": [
    "plt.figure(figsize=(12,4))\n",
    "plt.plot(train['Sales'], label='Train')\n",
    "plt.plot(test['Sales'], label='Test')\n",
    "plt.plot(pred_var['Sales'][test.index.min():], label='VARMAX')\n",
    "plt.legend(loc='best')\n",
    "plt.title('VARMAX')\n",
    "plt.show()"
   ]
  },
  {
   "cell_type": "code",
   "execution_count": null,
   "metadata": {
    "scrolled": true
   },
   "outputs": [],
   "source": [
    "rmse = np.sqrt(mean_squared_error(test['Sales'], pred_var['Sales'])).round(2)\n",
    "mape = np.round(np.mean(np.abs(test['Sales']-pred_var['Sales'])/test['Sales'])*100,2)\n",
    "\n",
    "tempResults = pd.DataFrame({'Method':['VARMAX4'],'MAPE': [mape],'RMSE': [rmse]})\n",
    "results = pd.concat([results, tempResults])\n",
    "results = results[['Method', 'RMSE', 'MAPE']]\n",
    "results"
   ]
  },
  {
   "cell_type": "code",
   "execution_count": null,
   "metadata": {},
   "outputs": [],
   "source": [
    "# After comparing all the five models SARIMAX is the best model to forecast sales for Store 31. "
   ]
  },
  {
   "cell_type": "markdown",
   "metadata": {},
   "source": [
    "# Store 46"
   ]
  },
  {
   "cell_type": "code",
   "execution_count": null,
   "metadata": {},
   "outputs": [],
   "source": [
    "df_46=df[df['Store']==46]\n",
    "df_46.head()"
   ]
  },
  {
   "cell_type": "code",
   "execution_count": null,
   "metadata": {},
   "outputs": [],
   "source": [
    "df_46.shape"
   ]
  },
  {
   "cell_type": "markdown",
   "metadata": {},
   "source": [
    "## Outlier Analysis:"
   ]
  },
  {
   "cell_type": "code",
   "execution_count": null,
   "metadata": {},
   "outputs": [],
   "source": [
    "#Here we perform outlier analysis for sales and customers variables.\n",
    "plt.figure(figsize=[10,8])\n",
    "plt.subplot(1,2,1)\n",
    "ax=sns.boxplot(df_46['Sales'])\n",
    "plt.subplot(1,2,2)\n",
    "ax=sns.boxplot(df_46['Customers'])"
   ]
  },
  {
   "cell_type": "code",
   "execution_count": null,
   "metadata": {},
   "outputs": [],
   "source": [
    "# We need to cap the outliers to their 99 percentile value.\n",
    "df_46['Sales']=df_46['Sales'].clip(lower=df_46['Sales'].min(),upper=df_46['Sales'].quantile(0.99))\n",
    "df_46['Customers']=df_46['Customers'].clip(lower=df_46['Customers'].min(),upper=df_46['Customers'].quantile(0.99))"
   ]
  },
  {
   "cell_type": "code",
   "execution_count": null,
   "metadata": {},
   "outputs": [],
   "source": [
    "#Here we perform outlier analysis for sales and customers variables.\n",
    "plt.figure(figsize=[10,8])\n",
    "plt.subplot(1,2,1)\n",
    "ax=sns.boxplot(df_46['Sales'])\n",
    "plt.subplot(1,2,2)\n",
    "ax=sns.boxplot(df_46['Customers'])"
   ]
  },
  {
   "cell_type": "markdown",
   "metadata": {},
   "source": [
    "## Null value handling:"
   ]
  },
  {
   "cell_type": "code",
   "execution_count": null,
   "metadata": {},
   "outputs": [],
   "source": [
    "# If Sales/Customers value ==0 consider them as null.\n",
    "df_46['Sales']=df_46['Sales'].apply(lambda x:np.nan if x==0 else x)\n",
    "df_46['Customers']=df_46['Customers'].apply(lambda x:np.nan if x==0 else x)"
   ]
  },
  {
   "cell_type": "code",
   "execution_count": null,
   "metadata": {},
   "outputs": [],
   "source": [
    "df_46[['Sales','Customers']].isnull().sum()"
   ]
  },
  {
   "cell_type": "markdown",
   "metadata": {},
   "source": [
    "## Mean imputation:"
   ]
  },
  {
   "cell_type": "code",
   "execution_count": null,
   "metadata": {},
   "outputs": [],
   "source": [
    "df_46.insert(4,'Sales_Mean_Imputation',df_46.Sales.fillna(df_46.Sales.mean()))\n",
    "df_46[['Sales_Mean_Imputation']].plot(figsize=(15, 5))\n",
    "plt.legend(loc='best')\n",
    "plt.title('Sales: Mean imputation')\n",
    "plt.show()"
   ]
  },
  {
   "cell_type": "code",
   "execution_count": null,
   "metadata": {},
   "outputs": [],
   "source": [
    "df_46.drop(['Sales'],axis=1,inplace=True)\n",
    "df_46.rename(columns={'Sales_Mean_Imputation':'Sales'},inplace=True)"
   ]
  },
  {
   "cell_type": "code",
   "execution_count": null,
   "metadata": {},
   "outputs": [],
   "source": [
    "# Do the same mean imputation for Customers variable\n",
    "df_46.insert(5,'Customers_Mean_Imputation',df_46.Customers.fillna(df_46.Customers.mean()))\n",
    "df_46[['Customers_Mean_Imputation']].plot(figsize=(15, 5))\n",
    "plt.legend(loc='best')\n",
    "plt.title('Customers: Mean imputation')\n",
    "plt.show()"
   ]
  },
  {
   "cell_type": "code",
   "execution_count": null,
   "metadata": {},
   "outputs": [],
   "source": [
    "df_46.drop(['Customers'],axis=1,inplace=True)\n",
    "df_46.rename(columns={'Customers_Mean_Imputation':'Customers'},inplace=True)"
   ]
  },
  {
   "cell_type": "markdown",
   "metadata": {},
   "source": [
    "## Train-Test split:"
   ]
  },
  {
   "cell_type": "code",
   "execution_count": null,
   "metadata": {},
   "outputs": [],
   "source": [
    "train=df_31[0:train_len]\n",
    "test=df_31[train_len:]"
   ]
  },
  {
   "cell_type": "code",
   "execution_count": null,
   "metadata": {},
   "outputs": [],
   "source": [
    "train.shape"
   ]
  },
  {
   "cell_type": "code",
   "execution_count": null,
   "metadata": {},
   "outputs": [],
   "source": [
    "test.shape"
   ]
  },
  {
   "cell_type": "markdown",
   "metadata": {},
   "source": [
    "## Stationarity test:"
   ]
  },
  {
   "cell_type": "code",
   "execution_count": null,
   "metadata": {},
   "outputs": [],
   "source": [
    "for i in ['Sales','Customers']:\n",
    "    print('\\n\\n' + i + ': ADF test results:')\n",
    "    result = adfuller(df_46[i].dropna())\n",
    "    print('ADF Statistic: %f' % result[0])\n",
    "    print('p-value: %f' % result[1])\n",
    "    print('Critical Values:')\n",
    "    for key, value in result[4].items():\n",
    "        if key=='5%':\n",
    "            print('\\t%s: %.3f' % (key, value))"
   ]
  },
  {
   "cell_type": "code",
   "execution_count": null,
   "metadata": {},
   "outputs": [],
   "source": [
    "# since p-value for both variables is less than 0.05 they both are stationary."
   ]
  },
  {
   "cell_type": "markdown",
   "metadata": {},
   "source": [
    "## Model Building:"
   ]
  },
  {
   "cell_type": "markdown",
   "metadata": {},
   "source": [
    "## SARIMAX:"
   ]
  },
  {
   "cell_type": "code",
   "execution_count": null,
   "metadata": {},
   "outputs": [],
   "source": [
    "train.head()"
   ]
  },
  {
   "cell_type": "code",
   "execution_count": null,
   "metadata": {},
   "outputs": [],
   "source": [
    "model = SARIMAX(train['Sales'], order=(1, 1, 1), seasonal_order=(1, 1, 1, 12),exog=train['Customers']) \n",
    "model_fit = model.fit()\n",
    "print(model_fit.params)"
   ]
  },
  {
   "cell_type": "code",
   "execution_count": null,
   "metadata": {},
   "outputs": [],
   "source": [
    "model_fit.summary()"
   ]
  },
  {
   "cell_type": "code",
   "execution_count": null,
   "metadata": {},
   "outputs": [],
   "source": [
    "pred = test.copy()\n",
    "pred['Sales'] = model_fit.predict(test.index.min(), test.index.max(),exog=test['Customers'])"
   ]
  },
  {
   "cell_type": "code",
   "execution_count": null,
   "metadata": {},
   "outputs": [],
   "source": [
    "plt.figure(figsize=(12,4))\n",
    "plt.plot(train['Sales'], label='Train')\n",
    "plt.plot(test['Sales'], label='Test')\n",
    "plt.plot(pred['Sales'][test.index.min():], label='SARIMAX forecast')\n",
    "plt.legend(loc='best')\n",
    "plt.title('SARIMAX')\n",
    "plt.show()"
   ]
  },
  {
   "cell_type": "code",
   "execution_count": null,
   "metadata": {},
   "outputs": [],
   "source": [
    "rmse = np.sqrt(mean_squared_error(test['Sales'], pred['Sales'])).round(2)\n",
    "mape = np.round(np.mean(np.abs(test['Sales']-pred['Sales'])/test['Sales'])*100,2)\n",
    "results = pd.DataFrame({'Method':['SARIMAX'], 'MAPE': [mape], 'RMSE': [rmse]})\n",
    "results = results[['Method', 'RMSE', 'MAPE']]\n",
    "results"
   ]
  },
  {
   "cell_type": "markdown",
   "metadata": {},
   "source": [
    "## VARMAX 1:"
   ]
  },
  {
   "cell_type": "code",
   "execution_count": null,
   "metadata": {},
   "outputs": [],
   "source": [
    "train['Sales']=train['Sales'].astype('float64')\n",
    "train['Customers']=train['Customers'].astype('float64')"
   ]
  },
  {
   "cell_type": "code",
   "execution_count": null,
   "metadata": {},
   "outputs": [],
   "source": [
    "exog = train['DayOfWeek']\n",
    "mod = sm.tsa.VARMAX(train[['Sales', 'Customers']], order=(1,1), trend='n', exog=exog)\n",
    "res = mod.fit(maxiter=1000, disp=False)\n",
    "print(res.summary())"
   ]
  },
  {
   "cell_type": "code",
   "execution_count": null,
   "metadata": {},
   "outputs": [],
   "source": [
    "pred_var = test.copy()\n",
    "pred_var['Sales'] = res.predict(test.index.min(), test.index.max(),exog=test['DayOfWeek'])"
   ]
  },
  {
   "cell_type": "code",
   "execution_count": null,
   "metadata": {},
   "outputs": [],
   "source": [
    "plt.figure(figsize=(12,4))\n",
    "plt.plot(train['Sales'], label='Train')\n",
    "plt.plot(test['Sales'], label='Test')\n",
    "plt.plot(pred_var['Sales'][test.index.min():], label='VARMAX')\n",
    "plt.legend(loc='best')\n",
    "plt.title('VARMAX')\n",
    "plt.show()"
   ]
  },
  {
   "cell_type": "code",
   "execution_count": null,
   "metadata": {},
   "outputs": [],
   "source": [
    "rmse = np.sqrt(mean_squared_error(test['Sales'], pred_var['Sales'])).round(2)\n",
    "mape = np.round(np.mean(np.abs(test['Sales']-pred_var['Sales'])/test['Sales'])*100,2)\n",
    "\n",
    "tempResults = pd.DataFrame({'Method':['VARMAX'],'MAPE': [mape],'RMSE': [rmse]})\n",
    "results = pd.concat([results, tempResults])\n",
    "results = results[['Method', 'RMSE', 'MAPE']]\n",
    "results"
   ]
  },
  {
   "cell_type": "markdown",
   "metadata": {},
   "source": [
    "## VARMAX 2:"
   ]
  },
  {
   "cell_type": "code",
   "execution_count": null,
   "metadata": {},
   "outputs": [],
   "source": [
    "exog = train['Open']\n",
    "mod = sm.tsa.VARMAX(train[['Sales', 'Customers']], order=(1,1), trend='n', exog=exog)\n",
    "res = mod.fit(maxiter=1000, disp=False)\n",
    "print(res.summary())"
   ]
  },
  {
   "cell_type": "code",
   "execution_count": null,
   "metadata": {},
   "outputs": [],
   "source": [
    "pred_var = test.copy()\n",
    "pred_var['Sales'] = res.predict(test.index.min(), test.index.max(),exog=test['Open'])"
   ]
  },
  {
   "cell_type": "code",
   "execution_count": null,
   "metadata": {},
   "outputs": [],
   "source": [
    "plt.figure(figsize=(12,4))\n",
    "plt.plot(train['Sales'], label='Train')\n",
    "plt.plot(test['Sales'], label='Test')\n",
    "plt.plot(pred_var['Sales'][test.index.min():], label='VARMAX')\n",
    "plt.legend(loc='best')\n",
    "plt.title('VARMAX')\n",
    "plt.show()"
   ]
  },
  {
   "cell_type": "code",
   "execution_count": null,
   "metadata": {},
   "outputs": [],
   "source": [
    "rmse = np.sqrt(mean_squared_error(test['Sales'], pred_var['Sales'])).round(2)\n",
    "mape = np.round(np.mean(np.abs(test['Sales']-pred_var['Sales'])/test['Sales'])*100,2)\n",
    "\n",
    "tempResults = pd.DataFrame({'Method':['VARMAX2'],'MAPE': [mape],'RMSE': [rmse]})\n",
    "results = pd.concat([results, tempResults])\n",
    "results = results[['Method', 'RMSE', 'MAPE']]\n",
    "results"
   ]
  },
  {
   "cell_type": "markdown",
   "metadata": {},
   "source": [
    "## VARMAX 3:"
   ]
  },
  {
   "cell_type": "code",
   "execution_count": null,
   "metadata": {},
   "outputs": [],
   "source": [
    "exog = train['Customers']\n",
    "mod = sm.tsa.VARMAX(train[['Sales', 'Competition since years']], order=(1,1), trend='n', exog=exog)\n",
    "res = mod.fit(maxiter=1000, disp=False)\n",
    "print(res.summary())"
   ]
  },
  {
   "cell_type": "code",
   "execution_count": null,
   "metadata": {},
   "outputs": [],
   "source": [
    "pred_var = test.copy()\n",
    "pred_var['Sales'] = res.predict(test.index.min(), test.index.max(),exog=test['Customers'])"
   ]
  },
  {
   "cell_type": "code",
   "execution_count": null,
   "metadata": {},
   "outputs": [],
   "source": [
    "plt.figure(figsize=(12,4))\n",
    "plt.plot(train['Sales'], label='Train')\n",
    "plt.plot(test['Sales'], label='Test')\n",
    "plt.plot(pred_var['Sales'][test.index.min():], label='VARMAX')\n",
    "plt.legend(loc='best')\n",
    "plt.title('VARMAX')\n",
    "plt.show()"
   ]
  },
  {
   "cell_type": "code",
   "execution_count": null,
   "metadata": {},
   "outputs": [],
   "source": [
    "rmse = np.sqrt(mean_squared_error(test['Sales'], pred_var['Sales'])).round(2)\n",
    "mape = np.round(np.mean(np.abs(test['Sales']-pred_var['Sales'])/test['Sales'])*100,2)\n",
    "\n",
    "tempResults = pd.DataFrame({'Method':['VARMAX3'],'MAPE': [mape],'RMSE': [rmse]})\n",
    "results = pd.concat([results, tempResults])\n",
    "results = results[['Method', 'RMSE', 'MAPE']]\n",
    "results"
   ]
  },
  {
   "cell_type": "markdown",
   "metadata": {},
   "source": [
    "## VARMAX 4:"
   ]
  },
  {
   "cell_type": "code",
   "execution_count": null,
   "metadata": {},
   "outputs": [],
   "source": [
    "exog = train['Customers']\n",
    "mod = sm.tsa.VARMAX(train[['Sales', 'Competition since years']], order=(4,4), trend='n', exog=exog)\n",
    "res = mod.fit(maxiter=1000, disp=False)\n",
    "print(res.summary())"
   ]
  },
  {
   "cell_type": "code",
   "execution_count": null,
   "metadata": {},
   "outputs": [],
   "source": [
    "pred_var = test.copy()\n",
    "pred_var['Sales'] = res.predict(test.index.min(), test.index.max(),exog=test['Customers'])"
   ]
  },
  {
   "cell_type": "code",
   "execution_count": null,
   "metadata": {},
   "outputs": [],
   "source": [
    "plt.figure(figsize=(12,4))\n",
    "plt.plot(train['Sales'], label='Train')\n",
    "plt.plot(test['Sales'], label='Test')\n",
    "plt.plot(pred_var['Sales'][test.index.min():], label='VARMAX')\n",
    "plt.legend(loc='best')\n",
    "plt.title('VARMAX')\n",
    "plt.show()"
   ]
  },
  {
   "cell_type": "code",
   "execution_count": null,
   "metadata": {},
   "outputs": [],
   "source": [
    "rmse = np.sqrt(mean_squared_error(test['Sales'], pred_var['Sales'])).round(2)\n",
    "mape = np.round(np.mean(np.abs(test['Sales']-pred_var['Sales'])/test['Sales'])*100,2)\n",
    "\n",
    "tempResults = pd.DataFrame({'Method':['VARMAX4'],'MAPE': [mape],'RMSE': [rmse]})\n",
    "results = pd.concat([results, tempResults])\n",
    "results = results[['Method', 'RMSE', 'MAPE']]\n",
    "results"
   ]
  },
  {
   "cell_type": "code",
   "execution_count": null,
   "metadata": {},
   "outputs": [],
   "source": [
    "# After comparing all the five models SARIMAX is the best model to forecast sales for Store 46. "
   ]
  }
 ],
 "metadata": {
  "kernelspec": {
   "display_name": "Python 3",
   "language": "python",
   "name": "python3"
  },
  "language_info": {
   "codemirror_mode": {
    "name": "ipython",
    "version": 3
   },
   "file_extension": ".py",
   "mimetype": "text/x-python",
   "name": "python",
   "nbconvert_exporter": "python",
   "pygments_lexer": "ipython3",
   "version": "3.8.5"
  }
 },
 "nbformat": 4,
 "nbformat_minor": 4
}
